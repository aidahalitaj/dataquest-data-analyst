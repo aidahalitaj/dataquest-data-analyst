{
 "cells": [
  {
   "cell_type": "markdown",
   "metadata": {},
   "source": [
    "# Challenge: Modules, Classes, Error Handling, and List Comprehensions"
   ]
  },
  {
   "cell_type": "markdown",
   "metadata": {},
   "source": [
    "                                                 Instructions"
   ]
  },
  {
   "cell_type": "markdown",
   "metadata": {},
   "source": [
    "## Introduction to the data\n",
    "\n",
    "In this challenge, you'll practice using modules, classes, and list comprehensions to process and represent a data set in Python. You'll be working with data on NFL player suspensions. The data set contains all domestic violence-related suspensions issued before 2014."
   ]
  },
  {
   "cell_type": "markdown",
   "metadata": {},
   "source": [
    "#### Read the dataset into a list of lists.\n",
    "   * Import the csv module.\n",
    "   * Create a File handler for nfl_suspensions_data.csv.\n",
    "   * Use the csv.reader() and list() methods to read the file into a list named nfl_suspensions."
   ]
  },
  {
   "cell_type": "code",
   "execution_count": 22,
   "metadata": {
    "scrolled": false
   },
   "outputs": [
    {
     "data": {
      "text/html": [
       "<div>\n",
       "<style>\n",
       "    .dataframe thead tr:only-child th {\n",
       "        text-align: right;\n",
       "    }\n",
       "\n",
       "    .dataframe thead th {\n",
       "        text-align: left;\n",
       "    }\n",
       "\n",
       "    .dataframe tbody tr th {\n",
       "        vertical-align: top;\n",
       "    }\n",
       "</style>\n",
       "<table border=\"1\" class=\"dataframe\">\n",
       "  <thead>\n",
       "    <tr style=\"text-align: right;\">\n",
       "      <th></th>\n",
       "      <th>name</th>\n",
       "      <th>team</th>\n",
       "      <th>games</th>\n",
       "      <th>category</th>\n",
       "      <th>desc.</th>\n",
       "      <th>year</th>\n",
       "      <th>source</th>\n",
       "    </tr>\n",
       "  </thead>\n",
       "  <tbody>\n",
       "    <tr>\n",
       "      <th>0</th>\n",
       "      <td>F. Davis</td>\n",
       "      <td>WAS</td>\n",
       "      <td>Indef.</td>\n",
       "      <td>Substance abuse, repeated offense</td>\n",
       "      <td>Marijuana-related</td>\n",
       "      <td>2014</td>\n",
       "      <td>http://www.cbssports.com/nfl/eye-on-football/2...</td>\n",
       "    </tr>\n",
       "    <tr>\n",
       "      <th>1</th>\n",
       "      <td>J. Blackmon</td>\n",
       "      <td>JAX</td>\n",
       "      <td>Indef.</td>\n",
       "      <td>Substance abuse, repeated offense</td>\n",
       "      <td>NaN</td>\n",
       "      <td>2014</td>\n",
       "      <td>http://espn.go.com/nfl/story/_/id/11257934/jus...</td>\n",
       "    </tr>\n",
       "    <tr>\n",
       "      <th>2</th>\n",
       "      <td>L. Brazill</td>\n",
       "      <td>IND</td>\n",
       "      <td>Indef.</td>\n",
       "      <td>Substance abuse, repeated offense</td>\n",
       "      <td>NaN</td>\n",
       "      <td>2014</td>\n",
       "      <td>http://www.nfl.com/news/story/0ap2000000364622...</td>\n",
       "    </tr>\n",
       "    <tr>\n",
       "      <th>3</th>\n",
       "      <td>T. Jackson</td>\n",
       "      <td>WAS</td>\n",
       "      <td>Indef.</td>\n",
       "      <td>Substance abuse, repeated offense</td>\n",
       "      <td>NaN</td>\n",
       "      <td>2014</td>\n",
       "      <td>http://www.nfl.com/news/story/0ap2000000364087...</td>\n",
       "    </tr>\n",
       "    <tr>\n",
       "      <th>4</th>\n",
       "      <td>M. Hapes</td>\n",
       "      <td>NYG</td>\n",
       "      <td>Indef.</td>\n",
       "      <td>Personal conduct</td>\n",
       "      <td>Gambling-related</td>\n",
       "      <td>1946</td>\n",
       "      <td>http://espn.go.com/blog/nflnation/tag/_/name/f...</td>\n",
       "    </tr>\n",
       "  </tbody>\n",
       "</table>\n",
       "</div>"
      ],
      "text/plain": [
       "          name team   games                           category  \\\n",
       "0     F. Davis  WAS  Indef.  Substance abuse, repeated offense   \n",
       "1  J. Blackmon  JAX  Indef.  Substance abuse, repeated offense   \n",
       "2   L. Brazill  IND  Indef.  Substance abuse, repeated offense   \n",
       "3   T. Jackson  WAS  Indef.  Substance abuse, repeated offense   \n",
       "4     M. Hapes  NYG  Indef.                   Personal conduct   \n",
       "\n",
       "               desc.  year                                             source  \n",
       "0  Marijuana-related  2014  http://www.cbssports.com/nfl/eye-on-football/2...  \n",
       "1                NaN  2014  http://espn.go.com/nfl/story/_/id/11257934/jus...  \n",
       "2                NaN  2014  http://www.nfl.com/news/story/0ap2000000364622...  \n",
       "3                NaN  2014  http://www.nfl.com/news/story/0ap2000000364087...  \n",
       "4   Gambling-related  1946  http://espn.go.com/blog/nflnation/tag/_/name/f...  "
      ]
     },
     "execution_count": 22,
     "metadata": {},
     "output_type": "execute_result"
    }
   ],
   "source": [
    "import pandas as pd''\n",
    "nfl_suspensions = pd.read_csv('/home/aida/Desktop/Dataquest/python-intermediate/data/nfl-suspensions-data.csv' )\n",
    "nfl_suspensions[:5]"
   ]
  },
  {
   "cell_type": "code",
   "execution_count": 39,
   "metadata": {},
   "outputs": [],
   "source": [
    "import csv\n",
    "with open('/home/aida/Desktop/Dataquest/python-intermediate/data/nfl-suspensions-data.csv') as csv_file:\n",
    "    filereader = csv.reader(csv_file)\n",
    "    nfl_suspensions = list(filereader)"
   ]
  },
  {
   "cell_type": "code",
   "execution_count": 49,
   "metadata": {},
   "outputs": [
    {
     "name": "stdout",
     "output_type": "stream",
     "text": [
      "['F. Davis', 'WAS', 'Indef.', 'Substance abuse, repeated offense', 'Marijuana-related', '2014', 'http://www.cbssports.com/nfl/eye-on-football/24448694/redskins-te-fred-davis-suspended-Indefiniteinitely-by-nfl']\n",
      "['J. Blackmon', 'JAX', 'Indef.', 'Substance abuse, repeated offense', '', '2014', 'http://espn.go.com/nfl/story/_/id/11257934/justin-blackmon-jacksonville-jaguars-arrested-marijuana-possession']\n",
      "['L. Brazill', 'IND', 'Indef.', 'Substance abuse, repeated offense', '', '2014', 'http://www.nfl.com/news/story/0ap2000000364622/article/lavon-brazill-released-by-colts-in-wake-of-suspension']\n",
      "['T. Jackson', 'WAS', 'Indef.', 'Substance abuse, repeated offense', '', '2014', 'http://www.nfl.com/news/story/0ap2000000364087/article/tanard-jackson-suspended-Indefiniteinitely-by-nfl']\n",
      "['M. Hapes', 'NYG', 'Indef.', 'Personal conduct', 'Gambling-related', '1946', 'http://espn.go.com/blog/nflnation/tag/_/name/frank-filchock']\n",
      "['R. Rice', 'BAL', 'Indef.', 'Personal conduct', 'Domestic violence', '2014', 'http://espn.go.com/new-york/nfl/story/_/id/11489134/baltimore-ravens-cut-ray-rice-new-video-surfaces']\n",
      "['F. Filchock', 'NYG', '36', 'Personal conduct', 'Gambling-related', '1947', 'http://espn.go.com/blog/nflnation/tag/_/name/frank-filchock']\n",
      "['J. Jolly', 'GB', '32', 'Substance abuse, repeated offense', 'Arrest, felony possession of codeine', '2010', 'http://www.nfl.com/news/story/0ap1000000145928/article/johnny-jolly-reinstated-by-nfl-after-Indefiniteinite-suspension']\n",
      "['O. Thurman', 'CIN', '32', 'Substance abuse, repeated offense', '', '2008', 'http://www.nfl.com/news/story/09000d5d80864644/article/bengals-release-reinstated-thurman-after-twoyear-suspension']\n",
      "['A. Jones', 'TEN', '20', 'Personal conduct', 'Multiple arrests', '2007', 'http://sports.espn.go.com/nfl/news/story?id=2832015']\n",
      "['A. Schlichter', 'IND', '16', 'Personal conduct', 'Gambling-related', '1983', 'http://espn.go.com/blog/nflnation/tag/_/name/frank-filchock']\n",
      "['D. Stallworth', 'NE', '16', 'Personal conduct', 'DUI manslaughter', '2009', 'http://espn.go.com/blog/nflnation/tag/_/name/frank-filchock']\n",
      "['W. Bryant', 'ARI', '16', 'Substance abuse, repeated offense', '', '2005', 'http://www.azcentral.com/sports/cardinals/articles/2009/05/13/20090513cards0514.html']\n",
      "['J. Evans', 'TEN', '16', 'Substance abuse, repeated offense', '', '2000', 'http://articles.philly.com/2000-06-21/sports/25602268_1_linebacker-george-koonce-linebacker-na-il-diggs-draft']\n",
      "['T. Jackson', 'TB', '16', 'Substance abuse, repeated offense', '', '2012', 'http://www.nfl.com/news/story/0ap2000000364087/article/tanard-jackson-suspended-Indefiniteinitely-by-nfl']\n",
      "['D. Washington', 'ARI', '16', 'Substance abuse, repeated offense', 'Marijuana-related', '2014', 'http://www.nfl.com/news/story/0ap2000000354739/article/daryl-washington-suspended-for-at-least-one-year']\n",
      "['B. Williams', 'PHI', '16', 'Substance abuse, repeated offense', 'Marijuana-related', '2001', 'http://articles.philly.com/2001-04-05/sports/25330303_1_training-camp-eagles-marijuana']\n",
      "['R. Williams', 'MIA', '16', 'Substance abuse, repeated offense', '', '2006', 'http://sports.espn.go.com/nfl/news/story?id=2421774']\n",
      "['S. Wilson', 'CIN', '16', 'Substance abuse, repeated offense', 'Cocaine-related', '1989', 'http://www.enquirer.com/editions/1999/01/31/spt_hard_fall_for_man.html']\n",
      "['J. Gordon', 'CLE', '16', 'Substance abuse, repeated offense', 'Marijuana-related', '2014', 'http://espn.go.com/nfl/story/_/id/11418388/josh-gordon-cleveland-browns-suspended-one-year']\n",
      "['O. Smith', 'MIN', '16', 'Substance abuse, repeated offense', 'Found with dried urine and \"The Original Whizzinator\"', '2005', 'http://sports.espn.go.com/nfl/news/story?id=2079032']\n",
      "['K. Robinson', 'GB', '16', 'Substance abuse, repeated offense', '', '2006', 'http://sports.espn.go.com/nfl/news/story?id=2629860']\n",
      "['P. Hornung', 'GB', '14', 'Personal conduct', 'Gambling-related', '   ', 'http://espn.go.com/blog/nflnation/tag/_/name/frank-filchock']\n",
      "['A. Karras', 'DET', '14', 'Personal conduct', 'Gambling-related', '1963', 'http://www.usatoday.com/story/sports/nfl/lions/2012/10/10/alex-karras-obituary-detroit-lions/1623419/']\n",
      "['J. Brent', 'DAL', '10', 'Personal conduct', 'DUI manslaughter', '2014', 'http://www.nfl.com/news/story/0ap3000000388413/article/dallas-cowboys-josh-brent-suspended-10-weeks']\n",
      "['D. Evans', 'SEA', '8', 'PEDs, repeated offense', '', '2013', 'http://www.nfl.com/news/story/0ap1000000236542/article/dequin-evans-suspended-eight-bengals-games-for-peds']\n",
      "['J. Ferguson', 'FREE', '8', 'PEDs, repeated offense', '', '2010', 'http://sports.espn.go.com/nfl/news/story?id=4973457']\n",
      "['A. Jackson', 'BAL', '8', 'PEDs, repeated offense', '', '2013', 'http://www.nfl.com/news/story/0ap1000000225102/article/ravens-asa-jackson-banned-8-games-for-violating-ped-policy']\n",
      "['W. Saunders', 'IND', '8', 'PEDs, repeated offense', '', '2013', 'http://espn.go.com/nfl/story/_/id/9509539/indianapolis-colts-release-weslye-saunders']\n",
      "['H. Thomas', 'FREE', '8', 'PEDs, repeated offense', '', '2010', 'http://profootballtalk.nbcsports.com/2010/07/01/hollis-thomas-career-could-end-with-suspension/']\n",
      "['R. Tucker', 'CLE', '8', 'PEDs, repeated offense', '', '2010', 'http://profootballtalk.nbcsports.com/2010/03/07/ryan-tucker-jason-ferguson-suspended-eight-games-each/']\n",
      "['C. Henry', 'CIN', '8', 'Personal conduct', 'Multiple arrests', '2007', 'http://sports.espn.go.com/nfl/news/story?id=2832015']\n",
      "['T. Johnson', 'BAL', '8', 'Personal conduct', 'Arrest, possession of weapon', '2006', 'http://profootballtalk.nbcsports.com/2014/06/24/artist-formerly-known-as-tank-johnson-friends-with-roger-goodell/']\n",
      "['J. Blackmon', 'JAX', '8', 'Substance abuse, repeated offense', '', '2013', 'http://www.cbssports.com/nfl/eye-on-football/24171316/jaguars-wr-justin-blackmon-suspended-for-the-rest-of-2013-season']\n",
      "['T. Couch', 'JAX', '6', 'PEDs', '', '2007', 'http://www.nytimes.com/2007/10/05/sports/football/05nfl.html']\n",
      "['K. Lang', 'DEN', '6', 'PEDs', '', '2007', 'http://www.nytimes.com/2007/10/05/sports/football/05nfl.html']\n",
      "['R. McBean', 'DEN', '6', 'PEDs', 'Alleged \"non-human\" urine in system', '2012', 'http://espn.go.com/nfl/story/_/id/7667289/denver-broncos-dj-williams-ryan-mcbean-virgil-green-suspended']\n",
      "['D.J. Williams', 'DEN', '6', 'PEDs', 'Alleged \"non-human\" urine in system', '2012', 'http://espn.go.com/nfl/story/_/id/7667289/denver-broncos-dj-williams-ryan-mcbean-virgil-green-suspended']\n",
      "['W. Hill', 'NYG', '6', 'Substance abuse, repeated offense', '', '2014', 'http://espn.go.com/new-york/nfl/story/_/id/11007693/will-hill-new-york-giants-suspended-six-games-violating-nfl-substance-abuse-policy']\n",
      "['A. Haynesworth', 'TEN', '5', 'In-game violence', 'Stomping on player', '2006', 'http://sports.espn.go.com/nfl/news/story?id=2610577']\n",
      "['B. Sochia', 'MIA', '5', 'PEDs', '', '1990', 'http://articles.sun-sentinel.com/1990-08-24/sports/9002100425_1_alfred-oglesby-shula-brian-sochia']\n",
      "['T. Pryor', 'OAK', '5', 'Personal conduct', 'Improper gifts while in college', '2011', 'http://espn.go.com/nfl/story/_/id/7040047/nfl-upholds-terrelle-pryor-5-game-ban-cites-integrity']\n",
      "['M. Ariey', 'GB', '4', 'PEDs', '', '1989', 'http://www.utsandiego.com/uniontrib/20080921/news_1s21nfl89.html']\n",
      "['O. Ayanbadejo', 'CHI', '4', 'PEDs', '', '2007', 'http://sports.espn.go.com/nfl/news/story?id=2967677']\n",
      "['S. Bailey', 'STL', '4', 'PEDs', '', '2014', 'http://www.nfl.com/news/story/0ap2000000349785/article/st-louis-rams-stedman-bailey-suspended-four-games']\n",
      "['A. Barbre', 'CAR', '4', 'PEDs', '', '2012', 'http://seattletimes.com/html/localnews/2018272778_apfbnseahawksbarbresuspended.html']\n",
      "['T. Bennett', 'DET', '4', 'PEDs', '', '2001', 'http://articles.latimes.com/2001/dec/15/sports/sp-15083']\n",
      "['J. Black', 'WAS', '4', 'PEDs', '', '2012', 'http://www.nfl.com/news/story/0ap1000000113061/article/jordan-black-of-redskins-suspended-four-games-for-peds']\n",
      "['D. Blackstock', 'CIN', '4', 'PEDs', '', '2008', 'http://sports.espn.go.com/nfl/news/story?id=3631111']\n",
      "['B. Bolden', 'BAL', '4', 'PEDs', '', '2012', 'http://www.nfl.com/news/story/0ap1000000092510/article/brandon-bolden-suspended-for-violating-drug-policy']\n",
      "['D. Boston', 'MIA', '4', 'PEDs', '', '2004', 'http://sports.espn.go.com/nfl/news/story?id=1939250']\n",
      "['D. Bowe', 'KC', '4', 'PEDs', '', '2009', 'http://sports.espn.go.com/nfl/news/story?id=4663877']\n",
      "['D. Brown', 'HOU', '4', 'PEDs', '', '2012', 'http://sports.espn.go.com/nfl/news/story?id=5600928']\n",
      "['G. Brown', 'WAS', '4', 'PEDs', '', '2014', 'http://www.nfl.com/news/story/0ap2000000051195/article/garrett-brown-of-san-diego-chargers-suspended-four-games']\n",
      "['R. Buchanan', 'JAX', '4', 'PEDs', '', '2002', 'http://a.espncdn.com/nfl/news/2002/0911/1430323.html']\n",
      "['B. Buckner', 'CAR', '4', 'PEDs', '', '2003', 'http://a.espncdn.com/nfl/columns/pasquarelli_len/1455668.html']\n",
      "['T. Burse', 'SEA', '4', 'PEDs', '', '1989', 'http://articles.chicagotribune.com/1989-08-30/sports/8901090097_1_steroid-drug-policy-league-spokesman-joe-browne']\n",
      "['L. Bush', 'KC', '4', 'PEDs', '', '2002', 'http://a.espncdn.com/nfl/columns/pasquarelli_len/1457788.html']\n",
      "['B. Chamberlain', 'MIN', '4', 'PEDs', '', '2003', 'http://a.espncdn.com/nfl/news/2003/0711/1579603.html']\n",
      "['J. Chatman', 'NYJ', '4', 'PEDs', '', '2012', 'http://www.nfl.com/news/story/09000d5d80a65c4c/article/chatman-suspended-four-games-for-violating-nfls-steroids-policy']\n",
      "['M. Cloud', 'KC', '4', 'PEDs', '', '2003', 'http://a.espncdn.com/nfl/columns/pasquarelli_len/1529903.html']\n",
      "['J. Cooper', 'OAK', '4', 'PEDs', '', '2007', 'http://sports.espn.go.com/nfl/news/story?id=2949591']\n",
      "['S. Cooper', 'SD', '4', 'PEDs', '', '2008', 'http://sports.espn.go.com/nfl/news/story?id=3348671']\n",
      "['J. Cunningham', 'NE', '4', 'PEDs', '', '2012', 'http://espn.go.com/boston/nfl/story/_/id/8679955/jermaine-cunningham-new-england-patriots-suspended-four-games-violating-nfl-policy-performance-enhancing-substances']\n",
      "['B. Cushing', 'HOU', '4', 'PEDs', '', '2010', 'http://sports.espn.go.com/nfl/news/story?id=5172060']\n",
      "['S. Davis', 'ARI', '4', 'PEDs', '', '1997', 'http://www.apnewsarchive.com/1997/Falcons-guard-Scott-Davis-suspended-by-NFL-for-steroid-abuse/id-1e82e1a0780f24c6559a167118382f28']\n",
      "['T. Doctor', 'BUF', '4', 'PEDs', '', '1989', 'http://www.utsandiego.com/sports/nfl/20080921-9999-1s21list.html']\n",
      "['S. Doctor', 'BUF', '4', 'PEDs', '', '1989', 'http://www.nytimes.com/1989/08/30/sports/nfl-bans-15-for-drugs-or-steroids.html']\n",
      "['M. Douglass', 'DET', '4', 'PEDs', '', '1989', 'http://www.utsandiego.com/uniontrib/20080921/news_1s21nfl89.html']\n",
      "['J. Dunbar', 'STL', '4', 'PEDs', '', '2013', 'http://www.nfl.com/news/story/0ap1000000229913/article/st-louis-rams-jolonn-dunbar-suspended-four-games']\n",
      "['R. Edwards', 'MIN', '4', 'PEDs', '', '2007', 'http://www.twincities.com/ci_7641964?source=rss']\n",
      "['B. Eldridge', 'STL', '4', 'PEDs', '', '2012', 'http://www.nfl.com/news/story/09000d5d82a4a506/article/brody-eldridge-st-louis-rams-te-suspended-four-games']\n",
      "['L. Flowers', 'DEN', '4', 'PEDs', '', '2004', 'http://sports.espn.go.com/nfl/news/story?id=1585992']\n",
      "['E. Gant', 'CIN', '4', 'PEDs', '', '2010', 'http://blog.azcardinals.com/2010/06/21/gant-suspended-four-games/']\n",
      "['D. Graham', 'HOU', '4', 'PEDs', '', '2002', 'http://www.nytimes.com/2002/12/19/sports/nfl-texans-lineman-suspended.html']\n",
      "['L. Grant', 'FREE', '4', 'PEDs', '', '2013', 'http://www.nfl.com/news/story/0ap1000000161912/article/larry-grant-suspended-four-games-for-violating-nfl-drug-policy']\n",
      "['V. Green', 'SD', '4', 'PEDs', '', '2012', 'http://espn.go.com/nfl/story/_/id/7667289/denver-broncos-dj-williams-ryan-mcbean-virgil-green-suspended']\n",
      "['S. Gregory', 'NYJ', '4', 'PEDs', '', '2010', 'http://sports.espn.go.com/nfl/news/story?id=5648428']\n",
      "['C. Griffin', 'WAS', '4', 'PEDs', '', '2012', 'http://espn.go.com/nfl/story/_/id/8709862/cedric-griffin-washington-redskins-suspended-four-games']\n",
      "['W. Guy', 'SEA', '4', 'PEDs', '', '2012', 'http://www.nfl.com/news/story/0ap1000000098505/article/winston-guy-of-seahawks-suspended-for-illegal-substances']\n",
      "['J. Haden', 'CLE', '4', 'PEDs', '', '2012', 'http://www.nfl.com/news/story/0ap1000000060490/article/joe-haden-of-cleveland-browns-suspended-four-games']\n",
      "['A. Hall', 'TEN', '4', 'PEDs', '', '2011', 'http://espn.go.com/nfl/story/_/id/6927311/tennessee-titans-ahmard-hall-suspended-4-games-nfl']\n",
      "['J. Hanson', 'PHI', '4', 'PEDs', '', '2009', 'http://sports.espn.go.com/nfl/news/story?id=4645055']\n",
      "['J. Hawley', 'ATL', '4', 'PEDs', '', '2012', 'http://www.nfl.com/news/story/0ap1000000097773/article/joe-hawley-of-atlanta-falcons-suspended-four-games-by-nfl']\n",
      "['K. Henderson', 'SF', '4', 'PEDs', '', '1989', 'http://www.nytimes.com/1989/08/30/sports/nfl-bans-15-for-drugs-or-steroids.html']\n",
      "['C. Henry', 'TEN', '4', 'PEDs', '', '2007', 'http://www.utsandiego.com/sports/nfl/20080921-9999-1s21list.html']\n",
      "['W. Hill', 'NYG', '4', 'PEDs', '', '2012', 'http://www.nfl.com/news/story/0ap1000000078540/article/will-hill-suspended-by-nfl-for-violating-ped-policy']\n",
      "['A. Holmes', 'OAK', '4', 'PEDs', '', '2013', 'http://www.cbssports.com/nfl/eye-on-football/22915004/raiders-wr-andre-holmes-suspended-for-ped-violation']\n",
      "['B. Irvin', 'DET', '4', 'PEDs', '', '2013', 'http://espn.go.com/nfl/story/_/id/9287069/bruce-irvin-seattle-seahawks-suspended-four-games']\n",
      "['A. Jackson', 'BAL', '4', 'PEDs', '', '2012', 'http://www.nfl.com/news/story/0ap1000000225102/article/ravens-asa-jackson-banned-8-games-for-violating-ped-policy']\n",
      "['R. James', 'ATL', '4', 'PEDs', '', '2010', 'http://sports.espn.go.com/nfl/news/story?id=5364259']\n",
      "['M. Jaworski', 'BUF', '4', 'PEDs', '', '1989', 'http://www.nytimes.com/1989/08/30/sports/nfl-bans-15-for-drugs-or-steroids.html']\n",
      "['J. Jenkins', 'WAS', '4', 'PEDs', '', '2013', 'http://www.nfl.com/news/story/0ap1000000221583/article/redskins-jarvis-jenkins-suspended-4-games-for-peds']\n",
      "['T. Jervey', 'SF', '4', 'PEDs', '', '1999', 'http://www.sfgate.com/sports/article/49ers-Notebook-Jervey-Suspended-for-Steroid-Use-2901850.php']\n",
      "['L. Johnson', 'PHI', '4', 'PEDs', '', '2014', 'http://www.nfl.com/news/story/0ap2000000367649/article/eagles-lane-johnson-suspended-four-games-for-peds']\n",
      "['D. Jordan', 'MIA', '4', 'PEDs', '', '2014', 'http://www.nfl.com/news/story/0ap2000000363402/article/dion-jordan-suspended-four-games-for-ped-violation']\n",
      "['J. Kennedy', 'NYG', '4', 'PEDs', '', '2011', 'http://espn.go.com/new-york/nfl/story/_/id/7089792/new-york-giants-dt-jimmy-kennedy-suspended-nfl']\n",
      "['V. Kirk', 'STL', '4', 'PEDs', '', '1989', 'http://articles.latimes.com/1989-08-30/sports/sp-1284_1_nfl-suspends']\n",
      "['J. Knott', 'PHI', '4', 'PEDs', '', '2014', 'http://www.nfl.com/news/story/0ap2000000339592/article/jake-knott-suspended-for-violating-substance-abuse-policy']\n",
      "['L. Lawton', 'OAK', '4', 'PEDs', '', '2009', 'http://sports.espn.go.com/nfl/news/story?id=4771154']\n",
      "['M. Lehr', 'ATL', '4', 'PEDs', '', '2006', 'http://sports.espn.go.com/nfl/news/story?id=2629991']\n",
      "['T. Lewis', 'WAS', '4', 'PEDs', '', '2011', 'http://www.washingtonpost.com/blogs/football-insider/post/report-redskins-trent-williams-and-fred-davis-to-be-suspended-for-four-games/2011/12/04/gIQAZJ6tSO_blog.html']\n",
      "['D. Love', 'MIN', '4', 'PEDs', '', '2013', 'http://www.cbssports.com/nfl/eye-on-football/22974075/vikings-ol-demarcus-love-suspended-for-ped-violation']\n",
      "['D. Lutui', 'TEN', '4', 'PEDs', '', '2013', 'http://www.nfl.com/news/story/0ap1000000150698/article/deuce-lutui-suspended-by-nfl-for-drug-violation']\n",
      "['A. Madise', 'DEN', '4', 'PEDs', '', '2005', 'http://sports.espn.go.com/nfl/news/story?id=1974527']\n",
      "['R. Mathis', 'IND', '4', 'PEDs', '', '2014', 'http://www.nfl.com/news/story/0ap2000000350988/article/colts-robert-mathis-suspended-four-games-for-ped']\n",
      "['G. McRath', 'TEN', '4', 'PEDs', '', '2010', 'http://sports.espn.go.com/nfl/news/story?id=5285379']\n",
      "['S. Merriman', 'SD', '4', 'PEDs', '', '2006', 'http://sports.espn.go.com/nfl/news/story?id=2635475']\n",
      "['G. Miller', 'CHI', '4', 'PEDs', '', '2013', 'http://www.nfl.com/news/story/0ap1000000209177/article/chicago-bears-gabe-miller-evan-rodriguez-apologize']\n",
      "['J. Miller', 'CHI', '4', 'PEDs', '', '1999', 'http://www.nytimes.com/1999/12/02/sports/pro-football-bears-lose-miller-to-steroid-suspension.html']\n",
      "['N. Miller', 'STL', '4', 'PEDs', '', '2012', 'http://profootball.scout.com/story/1159088-nick-miller-suspended-four-games']\n",
      "['D. Moch', 'CIN', '4', 'PEDs', '', '2012', 'http://espn.go.com/nfl/story/_/id/8048956/dontay-moch-cincinnati-bengals-suspended-four-games-peds']\n",
      "['J. Moffitt', 'CLE', '4', 'PEDs', '', '2011', 'http://seattletimes.com/html/seahawksblog/2016949836_seahawksrookiejohnmoffittsuspendedforperformanceenhancingdrugs.html']\n",
      "['E. Moore', 'NYG', '4', 'PEDs', '', '1993', 'http://www.nytimes.com/1993/07/30/sports/pro-football-giants-moore-faces-ban-by-nfl.html']\n",
      "['S. Morris', 'MIA', '4', 'PEDs', '', '2006', 'http://sports.espn.go.com/nfl/news/story?id=2568282']\n",
      "['M. Neal', 'GB', '4', 'PEDs', '', '2012', 'http://espn.go.com/nfl/story/_/id/7682945/nfl-suspends-mike-neal-green-bay-packers-1st-four-games']\n",
      "['S. Nealy', 'MIN', '4', 'PEDs', '', '2014', 'http://espn.go.com/nfl/story/_/id/11204290/spencer-nealy-minnesota-vikings-suspended-four-games-ped-use']\n",
      "['A. Neblett', 'CAR', '4', 'PEDs', '', '2012', 'http://www.nfl.com/news/story/09000d5d82aa5c20/article/andre-neblett-suspended-four-games-for-ped-violation']\n",
      "['K. Newman', 'ATL', '4', 'PEDs', '', '2003', 'http://sports.espn.go.com/espn/wire?id=1606334']\n",
      "['A. Odom', 'CIN', '4', 'PEDs', '', '2010', 'http://sports.espn.go.com/nfl/news/story?id=5687593']\n",
      "['C. Pace', 'NYJ', '4', 'PEDs', '', '2009', 'http://sports.espn.go.com/nfl/news/story?id=4303126']\n",
      "['J. Peppers', 'CAR', '4', 'PEDs', '', '2002', 'http://www.nytimes.com/2002/12/04/sports/pro-football-peppers-to-serve-four-game-suspension.html']\n",
      "['K. Peterson', 'DEN', '4', 'PEDs', '', '2007', 'http://www.denverpost.com/ci_6314165']\n",
      "['L. Petitgout', 'TB', '4', 'PEDs', '', '2008', 'http://tbo.com/sports/sports/2008/aug/20/sp-petitgout-violated-nfl-steroids-policy-ar-136563/']\n",
      "['A. Pettis', 'STL', '4', 'PEDs', '', '2014', 'http://www.foxsports.com/nfl/story/St-Louis-Rams-wide-receiver-Austin-Pettis-suspended-four-games-for-NFL-drug-policy-violation-122111?gt1=39002']\n",
      "['A. Pinnock', 'SD', '4', 'PEDs', '', '2004', 'http://www.utsandiego.com/news/2004/Nov/10/chargers-fullback-andrew-pinnock-suspended-for/']\n",
      "['R. Putzier', 'SF', '4', 'PEDs', '', '1989', 'http://articles.latimes.com/1989-08-30/sports/sp-1284_1_nfl-suspends']\n",
      "['R. Razzano', 'TB', '4', 'PEDs', '', '2005', 'http://sports.espn.go.com/espn/wire?section=nfl&id=2163692']\n",
      "['L. Reynolds', 'JAX', '4', 'PEDs', '', '2013', 'http://espn.go.com/nfl/story/_/id/9967595/laroy-reynolds-jacksonville-jaguars-suspended-4-games-positive-test']\n",
      "['G. Robinson', 'ARI', '4', 'PEDs', '', '2012', 'http://profootballtalk.nbcsports.com/2012/09/22/gerell-robinson-gets-four-game-suspension/']\n",
      "['S. Rogers', 'DET', '4', 'PEDs', '', '2006', 'http://sports.espn.go.com/nfl/news/story?id=2630061']\n",
      "['T. Sash', 'NYG', '4', 'PEDs', '', '2012', 'http://espn.go.com/new-york/nfl/story/_/id/8219721/tyler-sash-new-york-giants-suspended-four-games']\n",
      "['T. Sauerbrun', 'DEN', '4', 'PEDs', '', '2006', 'http://sports.espn.go.com/nfl/news/story?id=2512355']\n",
      "['Q. Saulsberry', 'DEN', '4', 'PEDs', '', '2012', 'http://www.nfl.com/news/story/0ap1000000217875/article/quentin-saulsberry-of-denver-broncos-had-dui-arrest']\n",
      "['O. Scandrick', 'DAL', '4', 'PEDs', 'MDMA', '2014', 'http://espn.go.com/dallas/nfl/story/_/id/11341354/orlando-scandrick-dallas-cowboys-suspended-four-games-performance-enhancing-drugs']\n",
      "['S. Shanle', 'STL', '4', 'PEDs', '', '2003', 'http://www.utsandiego.com/sports/nfl/20080921-9999-1s21list.html']\n",
      "['D. Shelton', 'CHI', '4', 'PEDs', '', '2002', 'http://www.nytimes.com/2001/10/07/sports/pro-football-notebook-nfl-is-seeing-fewer-flaws-in-testing-players-for-drugs.html']\n",
      "['T.J. Slaughter', 'JAX', '4', 'PEDs', '', '2002', 'http://articles.orlandosentinel.com/2002-09-07/sports/0209070474_1_slaughter-coleman-tennessee-titans']\n",
      "['R. Solt', 'PHI', '4', 'PEDs', '', '1989', 'http://www.nytimes.com/1989/08/30/sports/nfl-bans-15-for-drugs-or-steroids.html']\n",
      "['B. Spikes', 'NE', '4', 'PEDs', '', '2010', 'http://sports.espn.go.com/boston/nfl/news/story?id=5906897']\n",
      "['S. Springs', 'SEA', '4', 'PEDs', '', '2001', 'http://articles.philly.com/2001-11-28/sports/25320203_1_seahawks-springs-lamar-chapman-browns-president-carmen-policy']\n",
      "['J. Steed', 'PIT', '4', 'PEDs', '', '1995', 'http://articles.chicagotribune.com/1995-10-24/sports/9510240320_1_nose-tackle-joel-steed-bernard-williams-nfl']\n",
      "['M. Stevens', 'PHI', '4', 'PEDs', '', '1997', 'http://articles.philly.com/2014-07-02/sports/51005838_1_lane-johnson-groveton-linebacker-jake-knott']\n",
      "['M. Stroud', 'JAX', '4', 'PEDs', '', '2007', 'http://sports.espn.go.com/nfl/news/story?id=3088185']\n",
      "['A. Talib', 'TB', '4', 'PEDs', '', '2012', 'http://www.nfl.com/news/story/0ap1000000079902/article/aqib-talib-of-buccaneers-suspended-four-games-for-adderall-use']\n",
      "['H. Taylor', 'CHI', '4', 'PEDs', '', '1999', 'http://www.nytimes.com/2001/10/07/sports/pro-football-notebook-nfl-is-seeing-fewer-flaws-in-testing-players-for-drugs.html']\n",
      "['H. Thomas', 'NO', '4', 'PEDs', '', '2006', 'http://sports.espn.go.com/nfl/news/story?id=2687451']\n",
      "['J. Thomas', 'IND', '4', 'PEDs', '', '2011', 'http://espn.go.com/nfl/story/_/id/7062953/indianapolis-colts-guard-jaime-thomas-banned-4-games-violating-steroid-policy']\n",
      "['R. Tucker', 'CLE', '4', 'PEDs', '', '2007', 'http://www.nfl.com/news/story/09000d5d8012fe77/article/browns-offensive-lineman-ryan-tucker-suspended-4-games-for-violating-nfl-steroid-policy']\n",
      "['K. Uecker', 'GB', '4', 'PEDs', '', '1989', 'http://www.nytimes.com/1989/08/30/sports/nfl-bans-15-for-drugs-or-steroids.html']\n",
      "['A. Ulmer', 'MIN', '4', 'PEDs', '', '1997', 'http://www.apnewsarchive.com/1997/Vikings-rookie-suspended-for-steroid-use/id-6fa45c120b20b6e4d035442c8a62da30']\n",
      "['J. Waddy', 'GB', '4', 'PEDs', '', '1998', 'http://a.espncdn.com/nfl/columns/pasquarelli_len/1403350.html']\n",
      "['J. Welbourn', 'KC', '4', 'PEDs', '', '2005', 'http://sports.espn.go.com/nfl/columns/story?columnist=pasquarelli_len&id=2150559']\n",
      "['L. West', 'NYG', '4', 'PEDs', '', '1999', 'http://static.espn.go.com/nfl/news/1999/1201/205894.html']\n",
      "['P. Wiggins', 'PIT', '4', 'PEDs', '', '1998', 'http://alb.merlinone.net/mweb/wmsql.wm.request?oneimage&imageid=5942417']\n",
      "['B. Williams', 'CIN', '4', 'PEDs', '', '2014', 'http://www.foxsports.com/nfl/story/Cincinnati-Bengals-Bobbie-Williams-suspension-substance-abuse-policy-090311?utm_source=feedburner&utm_medium=feed&utm_campaign=Feed%3A+foxsports%2FRSS%2FNFL+(FOXSports.com+News+for+NFL)']\n",
      "['K. Winslow', 'NYJ', '4', 'PEDs', '', '2013', 'http://www.nfl.com/news/story/0ap2000000260647/article/kellen-winslow-suspended-4-games-for-ped-violation']\n",
      "['E. Wright', 'TB', '4', 'PEDs', '', '2012', 'http://espn.go.com/nfl/story/_/id/8680228/eric-wright-tampa-bay-buccaneers-suspended-4-games']\n",
      "['F. Wycheck', 'WAS', '4', 'PEDs', '', '1994', 'http://articles.philly.com/1994-11-30/sports/25868967_1_frank-wycheck-steroids-nfl-policy']\n",
      "['T. Zbikowski', 'FREE', '4', 'PEDs', '', '2013', 'http://espn.go.com/nfl/story/_/id/9660103/nfl-suspends-free-agents-tom-zbikowski-brandon-mcdonald']\n",
      "['L. Ziemba', 'CAR', '4', 'PEDs', '', '2012', 'http://blogs.charlotte.com/panthers/2012/10/ziemba-suspended-4-games-for-violating-ped-policy.html']\n",
      "['W. Welker', 'DEN', '4', 'PEDs', '', '2014', 'http://www.usatoday.com/story/sports/nfl/broncos/2014/09/02/wes-welker-suspended-four-games-amphetamine-denver/14992795/']\n",
      "['J. Allen', 'KC', '4', 'Personal conduct', 'DUI arrest, multiple', '2007', 'http://sports.espn.go.com/nfl/news/story?id=2851494']\n",
      "['J. Cooper', 'CAR', '4', 'Personal conduct', 'DUI arrest, drugs', '2003', 'http://www.usatoday.com/sports/nfl/arrests/all/car/all/']\n",
      "['M. Goodson', 'NYJ', '4', 'Personal conduct', 'Arrest, possession of weapon and marijuana', '2013', 'http://espn.go.com/new-york/nfl/story/_/id/9603404/mike-goodson-new-york-jets-suspended-4-games']\n",
      "['C. Henry', 'CIN', '4', 'Personal conduct', 'Mulitple arrests', '2007', 'http://www.nfl.com/news/story/09000d5d80b58799/article/bengals-wr-henry-activated-after-serving-fourgame-suspension']\n",
      "['B. McKinnie', 'MIN', '4', 'Personal conduct', 'Accused of disorderly conduct, resisting arrest', '2008', 'http://sports.espn.go.com/nfl/news/story?id=3560135']\n",
      "['B. Roethlisberger', 'PIT', '4', 'Personal conduct', 'Sexual assault', '2012', 'http://www.nfl.com/news/story/09000d5d81a3eb23/article/goodell-reduces-roethlisbergers-suspension-to-four-games']\n",
      "['E. Warfield', 'KC', '4', 'Personal conduct', 'DUI arrest, multiple', '2005', 'http://sports.espn.go.com/nfl/columns/story?columnist=pasquarelli_len&id=2106473']\n",
      "['M. Prater', 'DEN', '4', 'Substance abuse', 'Alcohol-related', '2014', 'http://www.nfl.com/news/story/0ap3000000383065/article/broncos-matt-prater-will-be-suspended-four-games']\n",
      "['F. Alexander', 'HOU', '4', 'Substance abuse', '', '2014', 'http://espn.go.com/nfl/story/_/id/10873670/de-frank-alexander-carolina-panthers-suspended-four-games-violating-nfl-substance-abuse-policy']\n",
      "['J. Blackmon', 'JAX', '4', 'Substance abuse', '', '2013', 'http://thebiglead.com/2013/04/30/justin-blackmon-of-the-jaguars-suspended-for-4-games-for-violating-league-policy-on-substance-abuse/']\n",
      "['L. Brazill', 'IND', '4', 'Substance abuse', '', '2013', 'http://www.nfl.com/news/story/0ap1000000214428/article/lavon-brazill-suspended-for-violating-substance-policy']\n",
      "['B. Collins', 'MIA', '4', 'Substance abuse', '', '2013', 'http://www.nfl.com/news/story/0ap1000000214394/article/brandon-collins-banned-for-violating-substance-policy']\n",
      "['F. Davis', 'WAS', '4', 'Substance abuse', 'Marijuana-related', '2011', 'http://www.cbssports.com/nfl/eye-on-football/24448694/redskins-te-fred-davis-suspended-Indefiniteinitely-by-nfl']\n",
      "['J. Ferguson', 'NYJ', '4', 'Substance abuse', '', '1999', 'http://sports.espn.go.com/nfl/news/story?id=4973457']\n",
      "['W. Green', 'CLE', '4', 'Substance abuse', 'Marijuana-related', '2003', 'http://sports.espn.go.com/nfl/news/story?id=1665738']\n",
      "['R. Harrison', 'NE', '4', 'Substance abuse', '', '2007', 'http://sports.espn.go.com/nfl/news/story?id=2999994']\n",
      "['W. Hill', 'NYG', '4', 'Substance abuse', 'Marijuana-related', '2013', 'http://espn.go.com/new-york/nfl/story/_/id/11007693/will-hill-new-york-giants-suspended-six-games-violating-nfl-substance-abuse-policy']\n",
      "['S. Holmes', 'NYJ', '4', 'Substance abuse', '', '2010', 'http://sports.espn.go.com/new-york/nfl/news/story?id=5077088']\n",
      "['J. Hosley', 'TEN', '4', 'Substance abuse', '', '2014', 'http://www.nfl.com/news/story/0ap2000000355977/article/giants-jayron-hosley-suspended-for-four-games']\n",
      "['R. Jackson', 'WAS', '4', 'Substance abuse', '', '2013', 'http://www.nfl.com/news/story/0ap1000000152373/article/washington-redskins-lb-rob-jackson-suspended-four-games']\n",
      "['T. Jackson', 'TB', '4', 'Substance abuse', '', '2009', 'http://www.nfl.com/news/story/0ap2000000364087/article/tanard-jackson-suspended-Indefiniteinitely-by-nfl']\n",
      "['J. James', 'ARI', '4', 'Substance abuse', '', '2013', 'http://profootballtalk.nbcsports.com/2013/02/13/javarris-james-suspended-four-games/']\n",
      "['V. Miller', 'DEN', '4', 'Substance abuse', 'Marijuana-related', '2013', 'http://www.denverpost.com/ci_23711440/broncos-star-von-miller-suspended-four-games-by']\n",
      "['O. Mobley', 'DEN', '4', 'Substance abuse', '', '1989', 'http://articles.chicagotribune.com/1989-08-30/sports/8901090097_1_steroid-drug-policy-league-spokesman-joe-browne']\n",
      "['B. Moore', 'WAS', '4', 'Substance abuse', '', '2014', 'http://www.cbssports.com/nfl/eye-on-football/24519089/redskins-de-brandon-moore-suspended-4-games']\n",
      "['S. Nelson', 'BUF', '4', 'Substance abuse', '', '2010', 'http://www.buffalobills.com/news/article-3/TE-Nelson-suspended-for-first-four-games/b4507a26-f7ac-4bf9-9cf7-c47b2f079781']\n",
      "['B. Reed', 'PIT', '4', 'Substance abuse', '', '2013', 'http://www.behindthesteelcurtain.com/2013/7/19/4537156/former-steelers-receiver-bert-reed-suspended-four-games']\n",
      "['D. Robinson', 'CAR', '4', 'Substance abuse', '', '2010', 'http://sports.espn.go.com/nfl/news/story?id=5906973']\n",
      "['A. Sanders', 'JAX', '4', 'Substance abuse', '', '2014', 'http://espn.go.com/nfl/story/_/id/11249916/ace-sanders-jacksonville-jaguars-takes-leave-suspension-looming']\n",
      "['V. Taua', 'SEA', '4', 'Substance abuse', '', '2013', 'http://seattletimes.com/html/seahawks/2022327022_seahawks25xml.html']\n",
      "['C. Thompson', 'BAL', '4', 'Substance abuse', '', '2013', 'http://www.nfl.com/news/story/0ap1000000156390/article/christian-thompson-suspended-by-nfl-for-substance-abuse']\n",
      "['W. Thurmond', 'SEA', '4', 'Substance abuse', '', '2013', 'http://www.nfl.com/news/story/0ap2000000286330/article/walter-thurmond-to-drop-appeal-of-4game-suspension']\n",
      "['D. Washington', 'ARI', '4', 'Substance abuse', '', '2012', 'http://www.nfl.com/news/story/0ap2000000354739/article/daryl-washington-suspended-for-at-least-one-year']\n",
      "['R. Watkins', 'KC', '4', 'Substance abuse', '', '2014', 'http://espn.go.com/nfl/story/_/id/11173854/rokevious-watkins-kansas-city-chiefs-suspended-four-games-violating-nfl-substance-abuse-policy']\n",
      "['L. White', 'FREE', '4', 'Substance abuse', '', '2010', 'http://www.nfl.com/news/story/09000d5d818ee863/article/nfl-reveals-fourgame-ban-for-white-eightgamer-for-thomas']\n",
      "['R. Williams', 'MIA', '4', 'Substance abuse', '', '2005', 'http://sports.espn.go.com/nfl/news/story?id=2421774']\n",
      "['B. Browner', 'SEA', '4', 'Substance abuse, repeated offense', '', '2013', 'http://profootballtalk.nbcsports.com/2014/03/05/browner-is-reinstated-with-four-game-suspension/']\n",
      "['J. Lewis', 'BAL', '4', 'Substance abuse, repeated offense', '', '2004', 'http://sports.espn.go.com/nfl/columns/story?columnist=pasquarelli_len&id=1279780']\n",
      "['A. Smith', 'HOU', '3', 'In-game violence', \"Ripping off opponent's helmet\", '2013', 'http://www.nfl.com/news/story/0ap1000000233139/article/houston-texans-de-antonio-smiths-suspension-appeal-denied']\n",
      "['V. Amoia', 'NO', '3', 'PEDs', '', '1989', 'http://www.nytimes.com/1989/08/30/sports/two-suspended-jets-are-out-of-a-job.html']\n",
      "['J. Brandom', 'ARI', '3', 'PEDs', '', '1990', 'http://articles.latimes.com/1990-08-14/sports/sp-693_1_offensive-linemen']\n",
      "['L. Cheek', 'DAL', '3', 'PEDs', '', '1990', 'http://www.nytimes.com/1990/08/17/sports/drug-suspension-for-bax-of-bucs.html']\n",
      "['B. Hartmann', 'WAS', '3', 'PEDs', '', '2012', 'http://profootballtalk.nbcsports.com/2012/05/22/hartmann-explains-his-three-game-suspension/']\n",
      "['M. Mraz', 'LA', '3', 'PEDs', '', '1989', 'http://articles.latimes.com/1989-08-30/sports/sp-1284_1_nfl-suspends']\n",
      "['B. Riley', 'NYJ', '3', 'PEDs', '', '1989', 'http://www.nytimes.com/1989/08/30/sports/two-suspended-jets-are-out-of-a-job.html']\n",
      "['C. Benson', 'DEN', '3', 'Personal conduct', 'Misdemeanour assault', '2014', 'http://www.foxsports.com/nfl/story/Cincinnati-Bengals-RB-Cedric-Benson-suspended-three-games-092211']\n",
      "['A. Berry', 'CLE', '3', 'Personal conduct', 'DUI arrest', '2012', 'http://www.nfl.com/news/story/0ap1000000052406/article/aaron-berry-gets-3game-nfl-suspension-for-arrests']\n",
      "['J. Felton', 'CAR', '3', 'Personal conduct', 'Reckless driving', '2013', 'http://www.nfl.com/news/story/0ap1000000234517/article/minnesota-vikings-jerome-felton-suspended-3-games']\n",
      "['C. Haggans', 'WAS', '3', 'Personal conduct', 'DUI arrest', '2013', 'http://www.mercurynews.com/49ers/ci_21575932/san-francisco-49ers-linebacker-clark-haggans-suspended?source=rss_viewed']\n",
      "['V. Jackson', 'SD', '3', 'Personal conduct', 'DUI arrest', '2010', 'http://sports.espn.go.com/nfl/news/story?id=5345629']\n",
      "['D. Jarrett', 'CAR', '3', 'Personal conduct', 'DUI arrest', '2012', 'http://www.nfl.com/news/story/09000d5d829ad13c/article/dwayne-jarrett-announces-retirement-from-football']\n",
      "['M. Jones', 'JAX', '3', 'Personal conduct', 'Arrest, cocaine possession', '2009', 'http://sports.espn.go.com/nfl/news/story?id=4207106']\n",
      "['M. Lynch', 'BUF', '3', 'Personal conduct', 'Misdemeanour gun charge', '2009', 'http://sports.espn.go.com/nfl/news/story?id=4054396']\n",
      "['M. Pittman', 'TB', '3', 'Personal conduct', 'Domestic violence', '2004', 'http://sports.espn.go.com/nfl/news/story?id=1826233']\n",
      "['D. Washington', 'KC', '3', 'Personal conduct', 'DUI, marijuana-related', '2012', 'http://www.nfl.com/news/story/09000d5d82ab54ab/article/kansas-city-chiefs-donald-washington-charged-with-dui']\n",
      "['D.J. Williams', 'DEN', '3', 'Personal conduct', 'DUI arrest', '2012', 'http://espn.go.com/nfl/story/_/id/8466699/denver-broncos-linebacker-dj-williams-suspended-3-more-games']\n",
      "['L. Irvin', 'LA', '3', 'Substance abuse', 'Marijuana-related', '1989', 'http://articles.latimes.com/1989-08-30/sports/sp-1280_1_leroy-irvin']\n",
      "['J. Simpson', 'IND', '3', 'Substance abuse', 'Marijuana-related', '2012', 'http://espn.go.com/nfl/story/_/id/7849039/free-agent-receiver-jerome-simpson-suspended-three-games-league-source-says']\n",
      "['C. Martin', 'GB', '2', 'In-game violence', 'Illegal hit', '1986', 'http://espn.go.com/blog/nflnation/tag/_/name/frank-filchock']\n",
      "['N. Suh', 'DET', '2', 'In-game violence', 'Stomping on player', '2011', 'http://espn.go.com/nfl/story/_/id/7293935/ndamukong-suh-detroit-lions-suspended-two-games-pay']\n",
      "['W. Smith', 'NO', '2', 'PEDs', '', '2012', 'http://www.nfl.com/news/story/09000d5d821ea898/article/nfl-suspends-vikes-williams-saints-smith-in-starcaps-case']\n",
      "['K. Williams', 'MIN', '2', 'PEDs', '', '2011', 'http://espn.go.com/nfl/story/_/id/6922853/nfl-suspends-minnesota-vikings-kevin-williams-three-others-two-games']\n",
      "['P. Williams', 'MIN', '2', 'PEDs', '', '2011', 'http://espn.go.com/nfl/story/_/id/6922853/nfl-suspends-minnesota-vikings-kevin-williams-three-others-two-games']\n",
      "['S. Brandon', 'DEN', '2', 'Personal conduct', 'Domestic violence', '2007', 'http://www.denverpost.com/broncos/ci_6362668']\n",
      "['J. Bridges', 'ARI', '2', 'Personal conduct', 'Arrest, misdemeanour assault for pointing gun at stripper', '2012', 'http://www.newsobserver.com/2012/11/14/2482573/guard-jeremy-bridges-to-get-2nd.html']\n",
      "['F. Evans', 'MIN', '2', 'Personal conduct', 'Marijuana-related', '2012', 'http://www.nfl.com/news/story/09000d5d80496e88/article/vikings-evans-gets-twogame-suspension-per-nfl-conduct-policy']\n",
      "['L. Hill', 'SEA', '2', 'Personal conduct', 'Domestic violence', '2013', 'http://www.nfl.com/news/story/0ap1000000132752/article/seattle-seahawks-leroy-hill-arrested-on-assault-charges']\n",
      "['M. Leshoure', 'DET', '2', 'Personal conduct', 'Arrest, Marijuana-related', '2012', 'http://www.nfl.com/news/story/09000d5d829cc3b8/article/mikel-leshoure-suspended-two-games-by-nfl']\n",
      "['B. McDonald', 'FREE', '2', 'Personal conduct', '', '2013', 'http://www.usatoday.com/story/sports/nfl/2013/09/10/nfl-suspends-tom-zbikowski-brandon-mcdonald/2795979/']\n",
      "['B. Underwood', 'GB', '2', 'Personal conduct', 'Domestic violence', '2011', 'http://www.nationalfootballpost.com/Report-NFL-suspends-Brandon-Underwood-for-2-games.html']\n",
      "['M. Vick', 'ATL', '2', 'Personal conduct', 'Dogfighting', '2007', 'http://espn.go.com/blog/nflnation/tag/_/name/frank-filchock']\n",
      "['C. Williams', 'BAL', '2', 'Personal conduct', 'Domestic violence', '2010', 'http://sports.espn.go.com/nfl/news/story?id=5401102']\n",
      "['J. Babineaux', 'SEA', '2', 'Substance abuse', '', '2008', 'http://seattletimes.com/html/seahawks/2008148770_webhawk31.html']\n",
      "['J. Gordon', 'CLE', '2', 'Substance abuse', '', '2013', 'http://www.nfl.com/news/story/0ap1000000210218/article/josh-gordon-suspended-two-cleveland-browns-games']\n",
      "['D. Goldson', 'DEN', '1', 'In-game violence', 'Head-butt', '2013', 'http://www.nfl.com/news/story/0ap2000000284209/article/bucs-dashon-goldson-has-onegame-suspension-upheld']\n",
      "['M. Griffin', 'TEN', '1', 'In-game violence', 'Illegal hit', '2013', 'http://www.nfl.com/news/story/0ap2000000287948/article/titans-michael-griffin-suspended-1-game-for-illegal-hit']\n",
      "['J. Harrison', 'PIT', '1', 'In-game violence', 'Helmet-to-helmet hit', '2011', 'http://espn.go.com/nfl/story/_/id/7348112/pittsburgh-steelers-james-harrison-banned-1-game-hit-cleveland-browns-colt-mccoy']\n",
      "['J. Mays', 'DEN', '1', 'In-game violence', 'Helmet-to-helmet hit', '2012', 'http://www.nfl.com/news/story/0ap1000000066219/article/joe-mays-suspended-one-game-for-hit-on-matt-schaub']\n",
      "['B. Meriweather', 'WAS', '1', 'In-game violence', 'Helmet-to-helmet hit', '2013', 'http://www.nfl.com/news/story/0ap2000000268595/article/brandon-meriweathers-suspension-reduced-to-1-game']\n",
      "['E. Walden', 'IND', '1', 'In-game violence', 'Head-butt', '2013', 'http://www.nfl.com/news/story/0ap2000000284117/article/erik-walden-has-onegame-ban-for-headbutt-upheld']\n",
      "['J. Babineaux', 'ATL', '1', 'Personal conduct', 'Accused of battery and resisting arrest', '2010', 'http://usatoday30.usatoday.com/sports/football/nfl/falcons/2010-08-03-jonathan-babineaux_N.htm']\n",
      "['C. Benson', 'PIT', '1', 'Personal conduct', 'Misdemeanour assault', '2014', 'http://espn.go.com/nfl/story/_/id/7119178/suspension-cincinnati-bengals-cedric-benson-reduced-1-game-3']\n",
      "['R. Bernard', 'SEA', '1', 'Personal conduct', 'Assault', '2008', 'http://seattletimes.com/html/seahawks/2008148770_webhawk31.html']\n",
      "['M. Boley', 'NYG', '1', 'Personal conduct', 'Domestic violence', '2009', 'http://sports.espn.go.com/nfl/news/story?id=4311313']\n",
      "['K. Britt', 'TEN', '1', 'Personal conduct', 'DUI arrest', '2012', 'http://www.nfl.com/news/story/0ap1000000056660/article/kenny-britt-of-titans-suspended-one-game-by-nfl']\n",
      "['D. Carswell', 'DEN', '1', 'Personal conduct', 'Domestic violence', '2003', 'http://a.espncdn.com/nfl/news/2003/0703/1576427.html']\n",
      "['D. Dobbs', 'SF', '1', 'Personal conduct', 'DUI arrest, possession of marijuana', '2013', 'http://espn.go.com/nfl/trainingcamp13/story/_/id/9568430/demarcus-dobbs-san-francisco-49ers-suspended-week-1']\n",
      "['B. Hopkins', 'TEN', '1', 'Personal conduct', 'Domestic violence', '2005', 'http://sports.espn.go.com/nfl/columns/story?columnist=pasquarelli_len&id=2138940']\n",
      "['L. Johnson', 'KC', '1', 'Personal conduct', \"Simple assault for spitting drink in a woman's face\", '2008', 'http://sports.espn.go.com/nfl/news/story?id=3675871']\n",
      "['R. Manning', 'CHI', '1', 'Personal conduct', 'Felony arrest charges', '2006', 'http://sports.espn.go.com/nfl/news/story?id=2672378']\n",
      "['B. Marshall', 'DEN', '1', 'Personal conduct', 'Domestic violence', '2012', 'http://www.nfl.com/news/story/09000d5d827969b7/article/report-brandon-marshall-accused-of-hitting-woman-outside-club']\n",
      "['T. McDaniel', 'TB', '1', 'Personal conduct', 'Domestic violence', '2010', 'http://sports.espn.go.com/nfl/news/story?id=5622330']\n",
      "['Q. Ojinnaka', 'ATL', '1', 'Personal conduct', 'Domestic violence', '2010', 'http://sports.espn.go.com/nfl/news/story?id=5249193']\n",
      "['M. Purify', 'CIN', '1', 'Personal conduct', 'Disorderly conduct', '2010', 'http://espn.go.com/blog/afcnorth/post/_/id/16670/bengals-wr-purify-suspended-one-game']\n",
      "['D. Rhodes', 'CAR', '1', 'Personal conduct', 'Reckless driving', '2007', 'http://sports.espn.go.com/nfl/news/story?id=2925395']\n",
      "['V. Riley', 'KC', '1', 'Personal conduct', 'Domestic violence', '2002', 'http://a.espncdn.com/nfl/news/2003/0703/1576427.html']\n",
      "['D. Rodgers', 'MIA', '1', 'Personal conduct', 'Domestic violence', '2003', 'http://articles.sun-sentinel.com/2002-07-19/sports/0207190115_1_derrick-rodgers-kareff-rodgers-william-peguero']\n",
      "['A. Talib', 'TB', '1', 'Personal conduct', 'Simple battery, resisting arrest', '2009', 'http://www.denverpost.com/broncos/ci_25352579/broncos-cornerback-aqib-talib-comes-denver-plenty-baggage']\n",
      "['F. Washington', 'OAK', '1', 'Personal conduct', 'Domestic violence', '2008', 'http://espn.go.com/blog/baltimore-ravens/post/_/id/10593/what-punishment-should-ray-rice-expect']\n",
      "['P. Zukauskas', 'CLE', '1', 'Personal conduct', 'DUI (acquitted)', '2004', 'http://www.usatoday.com/sports/nfl/arrests/']\n",
      "['N. Bradham', 'BUF', '1', 'Substance abuse', 'Marijuana-related', '2014', 'http://www.nfl.com/news/story/0ap2000000371523/article/bills-lb-nigel-bradham-suspended-for-opening-game']\n",
      "['N. Collins', 'CHI', '1', 'Substance abuse', 'Marijuana-related', '2012', 'http://www.nfl.com/news/story/09000d5d82aaddb5/article/chicago-bears-dt-nate-collins-suspended-one-game-by-nfl']\n",
      "['T. Hali', 'KC', '1', 'Substance abuse', '', '2012', 'http://espn.go.com/nfl/trainingcamp12/story/_/id/8284849/kansas-city-chiefs-tamba-hali-suspended-one-game-nfl']\n",
      "['I. Pead', 'STL', '1', 'Substance abuse', 'Marijuana-related', '2013', 'http://www.nfl.com/news/story/0ap1000000208343/article/isaiah-pead-suspended-for-substance-abuse-violation']\n",
      "['D. Reed', 'BAL', '1', 'Substance abuse', 'Marijuana-related', '2011', 'http://www.nfl.com/news/story/09000d5d821eb87b/article/ravens-david-reed-suspended-for-substanceabuse-violation']\n",
      "['L. Wilson', 'NO', '1', 'Substance abuse', 'Marijuana-related', '2012', 'http://profootballtalk.nbcsports.com/2012/07/06/saints-linebacker-lawrence-wilson-suspended-fined-by-league/']\n",
      "['D. Scott', 'MIN', '3', 'Personal conduct', 'Child endangerment', '2008', 'http://sports.espn.go.com/nfl/news/story?id=3487505']\n"
     ]
    }
   ],
   "source": [
    "for row in nfl_suspensions:\n",
    "    print(row)"
   ]
  },
  {
   "cell_type": "markdown",
   "metadata": {},
   "source": [
    "#### Remove the first list in nfl_suspensions, which contains the header row of the CSV file.\n",
    "  * Select all lists in nfl_suspensions, except the for the one at index 0.\n",
    "  * Assign the resulting list of lists back to the variable nfl_suspensions."
   ]
  },
  {
   "cell_type": "code",
   "execution_count": 46,
   "metadata": {},
   "outputs": [],
   "source": [
    "nfl_suspensions = nfl_suspensions[1:]"
   ]
  },
  {
   "cell_type": "markdown",
   "metadata": {},
   "source": [
    "#### Count the number of times each value in the year column occurs.\n",
    "   - Create an empty dictionary called years.\n",
    "   - Use a for loop to iterate over the list in nfl_suspensions representing the year column:\n",
    "        - Extract that row's value for the year column and assign it to row_year.\n",
    "        - If row_year is already a key in years, add 1 to the value for that key.\n",
    "        - If row_year isn't already a key in years, set the value for the key to 1.\n",
    "\n",
    "Use the print() function to display the dictionary years.\n"
   ]
  },
  {
   "cell_type": "code",
   "execution_count": 47,
   "metadata": {},
   "outputs": [
    {
     "name": "stdout",
     "output_type": "stream",
     "text": [
      "{'2014': 29, '1946': 1, '1947': 1, '2010': 21, '2008': 10, '2007': 17, '1983': 1, '2009': 10, '2005': 8, '2000': 1, '2012': 45, '2001': 3, '2006': 11, '1989': 17, '   ': 1, '1963': 1, '2013': 40, '1990': 3, '2011': 13, '2004': 6, '2002': 7, '2003': 9, '1997': 3, '1999': 5, '1993': 1, '1995': 1, '1998': 2, '1994': 1, '1986': 1}\n"
     ]
    }
   ],
   "source": [
    "years = {}\n",
    "for row in nfl_suspensions:\n",
    "    row_year = row[5]\n",
    "    if row_year in years:\n",
    "        years[row_year] += 1\n",
    "    else:\n",
    "        years[row_year] = 1\n",
    "print(years)"
   ]
  },
  {
   "cell_type": "markdown",
   "metadata": {},
   "source": [
    "## Unique Values\n",
    "\n",
    "Let's explore the values in these columns by using sets and list comprehensions."
   ]
  },
  {
   "cell_type": "markdown",
   "metadata": {},
   "source": [
    "#### Retrieve the unique values in the team column and assign the list to unique_teams.\n",
    "\n",
    "   - Use a list comprehension to create a new list containing just the values in the team column.\n",
    "   - Use the set() function to return a list containing only the unique values and assign to unique_teams.\n"
   ]
  },
  {
   "cell_type": "code",
   "execution_count": 59,
   "metadata": {},
   "outputs": [
    {
     "name": "stdout",
     "output_type": "stream",
     "text": [
      "{'NYG', 'NYJ', 'LA', 'DET', 'BUF', 'NO', 'DAL', 'KC', 'SD', 'NE', 'CHI', 'TB', 'MIN', 'MIA', 'ARI', 'CIN', 'IND', 'BAL', 'ATL', 'HOU', 'STL', 'GB', 'DEN', 'CLE', 'SF', 'TEN', 'WAS', 'PIT', 'CAR', 'PHI', 'OAK', 'SEA', 'FREE', 'JAX'}\n"
     ]
    }
   ],
   "source": [
    "team = [row[1] for row in nfl_suspensions]\n",
    "unique_teams = set(team)\n",
    "print(unique_teams)"
   ]
  },
  {
   "cell_type": "markdown",
   "metadata": {},
   "source": [
    "#### Retrieve the unique values in the games column and assign the list to unique_games.\n",
    "\n",
    "   - Use a list comprehension to create a new list containing just the values in the games column.\n",
    "   - Use the set() function to return a list containing only the unique values and assign to unique_games.\n"
   ]
  },
  {
   "cell_type": "code",
   "execution_count": 60,
   "metadata": {},
   "outputs": [
    {
     "name": "stdout",
     "output_type": "stream",
     "text": [
      "{'6', '5', '32', '2', '20', '36', '16', '14', '1', '10', '3', 'Indef.', '8', '4'}\n"
     ]
    }
   ],
   "source": [
    "game = [row[2] for row in nfl_suspensions]\n",
    "unique_games = set(game)\n",
    "print(unique_games)"
   ]
  },
  {
   "cell_type": "markdown",
   "metadata": {},
   "source": [
    "## Suspension Class\n",
    "\n",
    "Next, let's create a Suspension class that we can use to represent each NFL suspension in the data set."
   ]
  },
  {
   "cell_type": "markdown",
   "metadata": {},
   "source": [
    "#### Create the Suspension class.\n",
    "\n",
    "- Define the __init__() method with the following criteria:\n",
    "     - The sole required parameter is a list representing a row from the dataset.\n",
    "     -  To create a Suspension instance, we want to be able to pass in a list from nfl_suspensions.\n",
    "     - Currently, we're only interested in storing the name, team, games and year columns. Upon instantiation:\n",
    "     - Set the name value for that row to the name property.\n",
    "     - Set the team value for that row to the team property.\n",
    "     - Set the games value for that row to the games property.\n",
    "     - Set the year value for that row to the year property.\n"
   ]
  },
  {
   "cell_type": "code",
   "execution_count": 73,
   "metadata": {
    "collapsed": true
   },
   "outputs": [],
   "source": [
    "class Suspension:\n",
    "    def __init__(self, row):\n",
    "        self.name = row[0]\n",
    "        self.team = row[1]\n",
    "        self.game = row[2]\n",
    "        self.year = row[5]      \n",
    "    "
   ]
  },
  {
   "cell_type": "markdown",
   "metadata": {},
   "source": [
    "- Create a Suspension instance using the third row in nfl_suspensions, and assign it to the variable third_suspension."
   ]
  },
  {
   "cell_type": "code",
   "execution_count": 79,
   "metadata": {},
   "outputs": [],
   "source": [
    "third_suspension = Suspension(nfl_suspensions[2])"
   ]
  },
  {
   "cell_type": "markdown",
   "metadata": {},
   "source": [
    "## Tweaking the Suspension Class\n",
    "\n",
    "Let's tweak the Suspension class a bit to extend its functionality. Right now, the value for year is a string, rather than an integer. Let's modify the Suspension class so that it stores the values as integers."
   ]
  },
  {
   "cell_type": "markdown",
   "metadata": {},
   "source": [
    "- Instead of assigning the value at index 5 to the year property directly, use a try except block that:\n",
    "\n",
    "  - Tries to cast the value at index 5 to an integer\n",
    "  - If an exception is thrown, assign the value 0 to the year property instead\n",
    "  \n",
    "Create a method called get_year() that returns the year value for that Suspension instance."
   ]
  },
  {
   "cell_type": "code",
   "execution_count": 82,
   "metadata": {
    "collapsed": true
   },
   "outputs": [],
   "source": [
    "class Suspension():\n",
    "    def __init__(self,row):\n",
    "        self.name = row[0]\n",
    "        self.team = row[1]\n",
    "        self.games = row[2]\n",
    "        try:\n",
    "            self.year = int(row[5])\n",
    "        except Exception:\n",
    "            self.year = 0\n",
    "    def get_year():\n",
    "        return self.year"
   ]
  },
  {
   "cell_type": "markdown",
   "metadata": {},
   "source": [
    "\n",
    "- Create a Suspension instance using the 23rd row, and assign it to missing_year.\n",
    "- Use the get_year() method to assign the year of the missing_year suspension instance to twenty_third_year."
   ]
  },
  {
   "cell_type": "code",
   "execution_count": null,
   "metadata": {
    "collapsed": true
   },
   "outputs": [],
   "source": []
  }
 ],
 "metadata": {
  "kernelspec": {
   "display_name": "Python 3",
   "language": "python",
   "name": "python3"
  },
  "language_info": {
   "codemirror_mode": {
    "name": "ipython",
    "version": 3
   },
   "file_extension": ".py",
   "mimetype": "text/x-python",
   "name": "python",
   "nbconvert_exporter": "python",
   "pygments_lexer": "ipython3",
   "version": "3.6.2"
  }
 },
 "nbformat": 4,
 "nbformat_minor": 2
}
