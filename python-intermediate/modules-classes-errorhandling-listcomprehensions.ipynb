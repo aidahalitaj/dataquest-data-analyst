{
 "cells": [
  {
   "cell_type": "markdown",
   "metadata": {},
   "source": [
    "# Challenge: Modules, Classes, Error Handling, and List Comprehensions"
   ]
  },
  {
   "cell_type": "markdown",
   "metadata": {},
   "source": [
    "                                                 Instructions"
   ]
  },
  {
   "cell_type": "markdown",
   "metadata": {},
   "source": [
    "## Introduction to the data\n",
    "\n",
    "In this challenge, you'll practice using modules, classes, and list comprehensions to process and represent a data set in Python. You'll be working with data on NFL player suspensions. The data set contains all domestic violence-related suspensions issued before 2014."
   ]
  },
  {
   "cell_type": "markdown",
   "metadata": {},
   "source": [
    "#### Read the dataset into a list of lists.\n",
    "   * Import the csv module.\n",
    "   * Create a File handler for nfl_suspensions_data.csv.\n",
    "   * Use the csv.reader() and list() methods to read the file into a list named nfl_suspensions."
   ]
  },
  {
   "cell_type": "code",
   "execution_count": 22,
   "metadata": {
    "scrolled": false
   },
   "outputs": [
    {
     "data": {
      "text/html": [
       "<div>\n",
       "<style>\n",
       "    .dataframe thead tr:only-child th {\n",
       "        text-align: right;\n",
       "    }\n",
       "\n",
       "    .dataframe thead th {\n",
       "        text-align: left;\n",
       "    }\n",
       "\n",
       "    .dataframe tbody tr th {\n",
       "        vertical-align: top;\n",
       "    }\n",
       "</style>\n",
       "<table border=\"1\" class=\"dataframe\">\n",
       "  <thead>\n",
       "    <tr style=\"text-align: right;\">\n",
       "      <th></th>\n",
       "      <th>name</th>\n",
       "      <th>team</th>\n",
       "      <th>games</th>\n",
       "      <th>category</th>\n",
       "      <th>desc.</th>\n",
       "      <th>year</th>\n",
       "      <th>source</th>\n",
       "    </tr>\n",
       "  </thead>\n",
       "  <tbody>\n",
       "    <tr>\n",
       "      <th>0</th>\n",
       "      <td>F. Davis</td>\n",
       "      <td>WAS</td>\n",
       "      <td>Indef.</td>\n",
       "      <td>Substance abuse, repeated offense</td>\n",
       "      <td>Marijuana-related</td>\n",
       "      <td>2014</td>\n",
       "      <td>http://www.cbssports.com/nfl/eye-on-football/2...</td>\n",
       "    </tr>\n",
       "    <tr>\n",
       "      <th>1</th>\n",
       "      <td>J. Blackmon</td>\n",
       "      <td>JAX</td>\n",
       "      <td>Indef.</td>\n",
       "      <td>Substance abuse, repeated offense</td>\n",
       "      <td>NaN</td>\n",
       "      <td>2014</td>\n",
       "      <td>http://espn.go.com/nfl/story/_/id/11257934/jus...</td>\n",
       "    </tr>\n",
       "    <tr>\n",
       "      <th>2</th>\n",
       "      <td>L. Brazill</td>\n",
       "      <td>IND</td>\n",
       "      <td>Indef.</td>\n",
       "      <td>Substance abuse, repeated offense</td>\n",
       "      <td>NaN</td>\n",
       "      <td>2014</td>\n",
       "      <td>http://www.nfl.com/news/story/0ap2000000364622...</td>\n",
       "    </tr>\n",
       "    <tr>\n",
       "      <th>3</th>\n",
       "      <td>T. Jackson</td>\n",
       "      <td>WAS</td>\n",
       "      <td>Indef.</td>\n",
       "      <td>Substance abuse, repeated offense</td>\n",
       "      <td>NaN</td>\n",
       "      <td>2014</td>\n",
       "      <td>http://www.nfl.com/news/story/0ap2000000364087...</td>\n",
       "    </tr>\n",
       "    <tr>\n",
       "      <th>4</th>\n",
       "      <td>M. Hapes</td>\n",
       "      <td>NYG</td>\n",
       "      <td>Indef.</td>\n",
       "      <td>Personal conduct</td>\n",
       "      <td>Gambling-related</td>\n",
       "      <td>1946</td>\n",
       "      <td>http://espn.go.com/blog/nflnation/tag/_/name/f...</td>\n",
       "    </tr>\n",
       "  </tbody>\n",
       "</table>\n",
       "</div>"
      ],
      "text/plain": [
       "          name team   games                           category  \\\n",
       "0     F. Davis  WAS  Indef.  Substance abuse, repeated offense   \n",
       "1  J. Blackmon  JAX  Indef.  Substance abuse, repeated offense   \n",
       "2   L. Brazill  IND  Indef.  Substance abuse, repeated offense   \n",
       "3   T. Jackson  WAS  Indef.  Substance abuse, repeated offense   \n",
       "4     M. Hapes  NYG  Indef.                   Personal conduct   \n",
       "\n",
       "               desc.  year                                             source  \n",
       "0  Marijuana-related  2014  http://www.cbssports.com/nfl/eye-on-football/2...  \n",
       "1                NaN  2014  http://espn.go.com/nfl/story/_/id/11257934/jus...  \n",
       "2                NaN  2014  http://www.nfl.com/news/story/0ap2000000364622...  \n",
       "3                NaN  2014  http://www.nfl.com/news/story/0ap2000000364087...  \n",
       "4   Gambling-related  1946  http://espn.go.com/blog/nflnation/tag/_/name/f...  "
      ]
     },
     "execution_count": 22,
     "metadata": {},
     "output_type": "execute_result"
    }
   ],
   "source": [
    "import pandas as pd''\n",
    "nfl_suspensions = pd.read_csv('/home/aida/Desktop/Dataquest/python-intermediate/data/nfl-suspensions-data.csv' )\n",
    "nfl_suspensions[:5]"
   ]
  },
  {
   "cell_type": "code",
   "execution_count": 39,
   "metadata": {
    "collapsed": true
   },
   "outputs": [],
   "source": [
    "import csv\n",
    "with open('/home/aida/Desktop/Dataquest/python-intermediate/data/nfl-suspensions-data.csv') as csv_file:\n",
    "    filereader = csv.reader(csv_file)\n",
    "    nfl_suspensions = list(filereader)"
   ]
  },
  {
   "cell_type": "markdown",
   "metadata": {},
   "source": [
    "#### Remove the first list in nfl_suspensions, which contains the header row of the CSV file.\n",
    "  * Select all lists in nfl_suspensions, except the for the one at index 0.\n",
    "  * Assign the resulting list of lists back to the variable nfl_suspensions."
   ]
  },
  {
   "cell_type": "code",
   "execution_count": 46,
   "metadata": {
    "collapsed": true
   },
   "outputs": [],
   "source": [
    "nfl_suspensions = nfl_suspensions[1:]"
   ]
  },
  {
   "cell_type": "markdown",
   "metadata": {},
   "source": [
    "#### Count the number of times each value in the year column occurs.\n",
    "   - Create an empty dictionary called years.\n",
    "   - Use a for loop to iterate over the list in nfl_suspensions representing the year column:\n",
    "        - Extract that row's value for the year column and assign it to row_year.\n",
    "        - If row_year is already a key in years, add 1 to the value for that key.\n",
    "        - If row_year isn't already a key in years, set the value for the key to 1.\n",
    "\n",
    "Use the print() function to display the dictionary years.\n"
   ]
  },
  {
   "cell_type": "code",
   "execution_count": 47,
   "metadata": {},
   "outputs": [
    {
     "name": "stdout",
     "output_type": "stream",
     "text": [
      "{'2014': 29, '1946': 1, '1947': 1, '2010': 21, '2008': 10, '2007': 17, '1983': 1, '2009': 10, '2005': 8, '2000': 1, '2012': 45, '2001': 3, '2006': 11, '1989': 17, '   ': 1, '1963': 1, '2013': 40, '1990': 3, '2011': 13, '2004': 6, '2002': 7, '2003': 9, '1997': 3, '1999': 5, '1993': 1, '1995': 1, '1998': 2, '1994': 1, '1986': 1}\n"
     ]
    }
   ],
   "source": [
    "years = {}\n",
    "for row in nfl_suspensions:\n",
    "    row_year = row[5]\n",
    "    if row_year in years:\n",
    "        years[row_year] += 1\n",
    "    else:\n",
    "        years[row_year] = 1\n",
    "print(years)"
   ]
  },
  {
   "cell_type": "markdown",
   "metadata": {},
   "source": [
    "## Unique Values\n",
    "\n",
    "Let's explore the values in these columns by using sets and list comprehensions."
   ]
  },
  {
   "cell_type": "markdown",
   "metadata": {},
   "source": [
    "#### Retrieve the unique values in the team column and assign the list to unique_teams.\n",
    "\n",
    "   - Use a list comprehension to create a new list containing just the values in the team column.\n",
    "   - Use the set() function to return a list containing only the unique values and assign to unique_teams.\n"
   ]
  },
  {
   "cell_type": "code",
   "execution_count": 59,
   "metadata": {},
   "outputs": [
    {
     "name": "stdout",
     "output_type": "stream",
     "text": [
      "{'NYG', 'NYJ', 'LA', 'DET', 'BUF', 'NO', 'DAL', 'KC', 'SD', 'NE', 'CHI', 'TB', 'MIN', 'MIA', 'ARI', 'CIN', 'IND', 'BAL', 'ATL', 'HOU', 'STL', 'GB', 'DEN', 'CLE', 'SF', 'TEN', 'WAS', 'PIT', 'CAR', 'PHI', 'OAK', 'SEA', 'FREE', 'JAX'}\n"
     ]
    }
   ],
   "source": [
    "team = [row[1] for row in nfl_suspensions]\n",
    "unique_teams = set(team)\n",
    "print(unique_teams)"
   ]
  },
  {
   "cell_type": "markdown",
   "metadata": {},
   "source": [
    "#### Retrieve the unique values in the games column and assign the list to unique_games.\n",
    "\n",
    "   - Use a list comprehension to create a new list containing just the values in the games column.\n",
    "   - Use the set() function to return a list containing only the unique values and assign to unique_games.\n"
   ]
  },
  {
   "cell_type": "code",
   "execution_count": 60,
   "metadata": {},
   "outputs": [
    {
     "name": "stdout",
     "output_type": "stream",
     "text": [
      "{'6', '5', '32', '2', '20', '36', '16', '14', '1', '10', '3', 'Indef.', '8', '4'}\n"
     ]
    }
   ],
   "source": [
    "game = [row[2] for row in nfl_suspensions]\n",
    "unique_games = set(game)\n",
    "print(unique_games)"
   ]
  },
  {
   "cell_type": "markdown",
   "metadata": {},
   "source": [
    "## Suspension Class\n",
    "\n",
    "Next, let's create a Suspension class that we can use to represent each NFL suspension in the data set."
   ]
  },
  {
   "cell_type": "markdown",
   "metadata": {},
   "source": [
    "#### Create the Suspension class.\n",
    "\n",
    "- Define the __init__() method with the following criteria:\n",
    "     - The sole required parameter is a list representing a row from the dataset.\n",
    "     -  To create a Suspension instance, we want to be able to pass in a list from nfl_suspensions.\n",
    "     - Currently, we're only interested in storing the name, team, games and year columns. Upon instantiation:\n",
    "     - Set the name value for that row to the name property.\n",
    "     - Set the team value for that row to the team property.\n",
    "     - Set the games value for that row to the games property.\n",
    "     - Set the year value for that row to the year property.\n"
   ]
  },
  {
   "cell_type": "code",
   "execution_count": 73,
   "metadata": {
    "collapsed": true
   },
   "outputs": [],
   "source": [
    "class Suspension:\n",
    "    def __init__(self, row):\n",
    "        self.name = row[0]\n",
    "        self.team = row[1]\n",
    "        self.game = row[2]\n",
    "        self.year = row[5]      "
   ]
  },
  {
   "cell_type": "markdown",
   "metadata": {},
   "source": [
    "- Create a Suspension instance using the third row in nfl_suspensions, and assign it to the variable third_suspension."
   ]
  },
  {
   "cell_type": "code",
   "execution_count": 79,
   "metadata": {
    "collapsed": true
   },
   "outputs": [],
   "source": [
    "third_suspension = Suspension(nfl_suspensions[2])"
   ]
  },
  {
   "cell_type": "markdown",
   "metadata": {},
   "source": [
    "## Tweaking the Suspension Class\n",
    "\n",
    "Let's tweak the Suspension class a bit to extend its functionality. Right now, the value for year is a string, rather than an integer. Let's modify the Suspension class so that it stores the values as integers."
   ]
  },
  {
   "cell_type": "markdown",
   "metadata": {},
   "source": [
    "- Instead of assigning the value at index 5 to the year property directly, use a try except block that:\n",
    "\n",
    "  - Tries to cast the value at index 5 to an integer\n",
    "  - If an exception is thrown, assign the value 0 to the year property instead\n",
    "  \n",
    "Create a method called get_year() that returns the year value for that Suspension instance."
   ]
  },
  {
   "cell_type": "code",
   "execution_count": 95,
   "metadata": {
    "collapsed": true
   },
   "outputs": [],
   "source": [
    "class Suspension():\n",
    "    def __init__(self,row):\n",
    "        self.name = row[0]\n",
    "        self.team = row[1]\n",
    "        self.games = row[2]\n",
    "        try:\n",
    "            self.year = int(row[5])\n",
    "        except Exception:\n",
    "            self.year = 0\n",
    "    def get_year(self):\n",
    "        return self.year"
   ]
  },
  {
   "cell_type": "markdown",
   "metadata": {},
   "source": [
    "- Create a Suspension instance using the 23rd row, and assign it to missing_year.\n",
    "- Use the get_year() method to assign the year of the missing_year suspension instance to twenty_third_year."
   ]
  },
  {
   "cell_type": "code",
   "execution_count": 97,
   "metadata": {},
   "outputs": [
    {
     "data": {
      "text/plain": [
       "0"
      ]
     },
     "execution_count": 97,
     "metadata": {},
     "output_type": "execute_result"
    }
   ],
   "source": [
    "missing_year = Suspension(nfl_suspensions[22])\n",
    "twenty_third_year = missing_year.get_year()\n",
    "twenty_third_year"
   ]
  },
  {
   "cell_type": "code",
   "execution_count": 101,
   "metadata": {
    "collapsed": true
   },
   "outputs": [
    {
     "name": "stdout",
     "output_type": "stream",
     "text": [
      "{'2014': 29, '1946': 1, '1947': 1, '2010': 21, '2008': 10, '2007': 17, '1983': 1, '2009': 10, '2005': 8, '2000': 1, '2012': 45, '2001': 3, '2006': 11, '1989': 17, '   ': 1, '1963': 1, '2013': 40, '1990': 3, '2011': 13, '2004': 6, '2002': 7, '2003': 9, '1997': 3, '1999': 5, '1993': 1, '1995': 1, '1998': 2, '1994': 1, '1986': 1}\n",
      "{'NYG', 'NYJ', 'LA', 'DET', 'BUF', 'NO', 'DAL', 'KC', 'SD', 'NE', 'CHI', 'TB', 'MIN', 'MIA', 'ARI', 'CIN', 'IND', 'BAL', 'ATL', 'HOU', 'STL', 'GB', 'DEN', 'CLE', 'SF', 'TEN', 'WAS', 'PIT', 'CAR', 'PHI', 'OAK', 'SEA', 'FREE', 'JAX'}\n",
      "{'6', '5', '32', '2', '20', '36', '16', '14', '1', '10', '3', 'Indef.', '8', '4'}\n"
     ]
    },
    {
     "data": {
      "text/plain": [
       "0"
      ]
     },
     "execution_count": 101,
     "metadata": {},
     "output_type": "execute_result"
    }
   ],
   "source": [
    "import csv\n",
    "with open('/home/aida/Desktop/Dataquest/python-intermediate/data/nfl-suspensions-data.csv') as csv_file:\n",
    "    filereader = csv.reader(csv_file)\n",
    "    nfl_suspensions = list(filereader)\n",
    "    nfl_suspensions = nfl_suspensions[1:]\n",
    "    \n",
    "    years = {}\n",
    "for row in nfl_suspensions:\n",
    "    row_year = row[5]\n",
    "    if row_year in years:\n",
    "        years[row_year] += 1\n",
    "    else:\n",
    "        years[row_year] = 1\n",
    "print(years)\n",
    "\n",
    "team = [row[1] for row in nfl_suspensions]\n",
    "unique_teams = set(team)\n",
    "print(unique_teams)\n",
    "\n",
    "game = [row[2] for row in nfl_suspensions]\n",
    "unique_games = set(game)\n",
    "print(unique_games)\n",
    "\n",
    "class Suspension():\n",
    "    def __init__(self,row):\n",
    "        self.name = row[0]\n",
    "        self.team = row[1]\n",
    "        self.games = row[2]\n",
    "        try:\n",
    "            self.year = int(row[5])\n",
    "        except Exception:\n",
    "            self.year = 0\n",
    "    def get_year(self):\n",
    "        return self.year  \n",
    "\n",
    "missing_year = Suspension(nfl_suspensions[22])\n",
    "twenty_third_year = missing_year.get_year()\n",
    "twenty_third_year\n",
    "    "
   ]
  }
 ],
 "metadata": {
  "kernelspec": {
   "display_name": "Python 3",
   "language": "python",
   "name": "python3"
  },
  "language_info": {
   "codemirror_mode": {
    "name": "ipython",
    "version": 3
   },
   "file_extension": ".py",
   "mimetype": "text/x-python",
   "name": "python",
   "nbconvert_exporter": "python",
   "pygments_lexer": "ipython3",
   "version": "3.6.2"
  }
 },
 "nbformat": 4,
 "nbformat_minor": 2
}
