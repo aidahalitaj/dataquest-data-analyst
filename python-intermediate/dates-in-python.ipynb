{
 "cells": [
  {
   "cell_type": "markdown",
   "metadata": {},
   "source": [
    "# Dates in Python"
   ]
  },
  {
   "cell_type": "markdown",
   "metadata": {},
   "source": [
    "## The Time Module\n",
    "There are a few modules in Python's Standard Library that deal with dates and times. One is the time module, which deals primarily with Unix timestamps.\n",
    "\n",
    "A Unix timestamp is a floating point value with no explicit mention of day, month, or year. This value represents the number of seconds that have passed since the \"epoch\", or the first second of the year 1970."
   ]
  },
  {
   "cell_type": "markdown",
   "metadata": {},
   "source": [
    "    Instructions\n",
    "- Return the current timestamp and assign it to current_time."
   ]
  },
  {
   "cell_type": "code",
   "execution_count": 2,
   "metadata": {},
   "outputs": [
    {
     "name": "stdout",
     "output_type": "stream",
     "text": [
      "1525967035.8005223\n"
     ]
    }
   ],
   "source": [
    "import time\n",
    "current_time = time.time()\n",
    "print(current_time)"
   ]
  },
  {
   "cell_type": "markdown",
   "metadata": {},
   "source": [
    "## Converting Timestamps\n",
    "\n",
    "- We can convert a timestamp to a more human-readable form using the **time.gmtime()** function. This function takes a timestamp as an argument, and returns an instance of the struct_time class. struct_time instances have attributes that represent the current time in other ways.\n",
    "\n",
    "- Here are some of the attributes:\n",
    "    - tm_year: The year of the timestamp\n",
    "    - tm_mon: The month of the timestamp (1-12)\n",
    "    - tm_mday: The day in the month of the timestamp (1-31)\n",
    "    - tm_hour: The hour of the timestamp (0-23)\n",
    "    - tm_min: The minute of the timestamp (0-59)\n"
   ]
  },
  {
   "cell_type": "markdown",
   "metadata": {},
   "source": [
    "    Instructions\n",
    "\n",
    "- Use the time.time() function to assign the current Unix timestamp to a new variable current_time.\n",
    "- Convert current_time to a struct_time object and assign the resulting object to current_struct_time.\n",
    "- Assign the current hour to current_hour and display the value."
   ]
  },
  {
   "cell_type": "code",
   "execution_count": 8,
   "metadata": {},
   "outputs": [
    {
     "data": {
      "text/plain": [
       "15"
      ]
     },
     "execution_count": 8,
     "metadata": {},
     "output_type": "execute_result"
    }
   ],
   "source": [
    "import time\n",
    "current_time = time.time()\n",
    "current_struct_time = time.gmtime(current_time)\n",
    "current_hour = current_struct_time.tm_hour\n",
    "current_hour"
   ]
  },
  {
   "cell_type": "markdown",
   "metadata": {},
   "source": [
    "## UTC\n",
    "The datetime module offers better support for working extensively with dates. For example, it's easier to perform arithmetic on them (such as adding days), and to work with different time zones.\n",
    "\n",
    "We can return the current utc time as a datetime instance using the **datetime.utcnow()** function.\n",
    "\n",
    "Once we have a datetime instance that represents a specific point in time, we can use the following attributes to return more specific properties:\n",
    "\n",
    "    year: returns the year value as an integer.\n",
    "    month: returns the month value an integer.\n",
    "    day: returns the day value as an integer.\n",
    "    hour: returns the hour value as an integer.\n",
    "    minute: returns the minute value as an integer.\n",
    "    second: returns the second value as an integer.\n",
    "    microsecond: returns the microsecond value as an integer.\n"
   ]
  },
  {
   "cell_type": "markdown",
   "metadata": {},
   "source": [
    "    Instructions\n",
    "\n",
    "- Import the datetime module.\n",
    "- Assign the datetime object representation of the current time to a new variable current_datetime.\n",
    "- Assign the current year to current_year.\n",
    "- Assign the current month to current_month.\n"
   ]
  },
  {
   "cell_type": "code",
   "execution_count": 12,
   "metadata": {},
   "outputs": [],
   "source": [
    "import datetime\n",
    "current_datetime = datetime.datetime.utcnow()\n",
    "current_year = current_datetime.year\n",
    "current_month = current_datetime.month"
   ]
  },
  {
   "cell_type": "markdown",
   "metadata": {},
   "source": [
    "## Timedelta\n",
    "datetime module provides the timedelta class. We can create an instance of this class that represents a span of time, then add or subtract it from instances of the datetime class.\n",
    "\n",
    "When we create instances of the timedelta class, we can specify the following parameters:\n",
    "\n",
    "    weeks\n",
    "    days\n",
    "    hours\n",
    "    minutes\n",
    "    seconds\n",
    "    milliseconds\n",
    "    microseconds"
   ]
  },
  {
   "cell_type": "markdown",
   "metadata": {},
   "source": [
    "    Instructions\n",
    "- Create an instance of the datetime class that represents the day March 22, 2233. Assign this to a new variable kirks_birthday.\n",
    "- Create an instance of the timedelta class representing 15 weeks and assign to diff.\n",
    "- Find the date 15 weeks prior to March 22, 2233 and assign the resulting datetime instance to before_kirk."
   ]
  },
  {
   "cell_type": "code",
   "execution_count": null,
   "metadata": {
    "collapsed": true
   },
   "outputs": [],
   "source": [
    "kirks_birthday = datetime.datetime(year = 2233, month = 3, day = 22)\n",
    "diff = datetime.timedelta(kirks_birthday)\n",
    "before_kirk ="
   ]
  }
 ],
 "metadata": {
  "kernelspec": {
   "display_name": "Python 3",
   "language": "python",
   "name": "python3"
  },
  "language_info": {
   "codemirror_mode": {
    "name": "ipython",
    "version": 3
   },
   "file_extension": ".py",
   "mimetype": "text/x-python",
   "name": "python",
   "nbconvert_exporter": "python",
   "pygments_lexer": "ipython3",
   "version": "3.6.2"
  }
 },
 "nbformat": 4,
 "nbformat_minor": 2
}
