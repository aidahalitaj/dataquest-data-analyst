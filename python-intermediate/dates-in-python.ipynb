{
 "cells": [
  {
   "cell_type": "markdown",
   "metadata": {},
   "source": [
    "# Dates in Python"
   ]
  },
  {
   "cell_type": "markdown",
   "metadata": {},
   "source": [
    "## The Time Module\n",
    "There are a few modules in Python's Standard Library that deal with dates and times. One is the time module, which deals primarily with Unix timestamps.\n",
    "\n",
    "A Unix timestamp is a floating point value with no explicit mention of day, month, or year. This value represents the number of seconds that have passed since the \"epoch\", or the first second of the year 1970."
   ]
  },
  {
   "cell_type": "markdown",
   "metadata": {},
   "source": [
    "    Instructions\n",
    "- Return the current timestamp and assign it to current_time."
   ]
  },
  {
   "cell_type": "code",
   "execution_count": 2,
   "metadata": {},
   "outputs": [
    {
     "name": "stdout",
     "output_type": "stream",
     "text": [
      "1525967035.8005223\n"
     ]
    }
   ],
   "source": [
    "import time\n",
    "current_time = time.time()\n",
    "print(current_time)"
   ]
  },
  {
   "cell_type": "markdown",
   "metadata": {},
   "source": [
    "## Converting Timestamps\n",
    "\n",
    "- We can convert a timestamp to a more human-readable form using the **time.gmtime()** function. This function takes a timestamp as an argument, and returns an instance of the struct_time class. struct_time instances have attributes that represent the current time in other ways.\n",
    "\n",
    "- Here are some of the attributes:\n",
    "    - tm_year: The year of the timestamp\n",
    "    - tm_mon: The month of the timestamp (1-12)\n",
    "    - tm_mday: The day in the month of the timestamp (1-31)\n",
    "    - tm_hour: The hour of the timestamp (0-23)\n",
    "    - tm_min: The minute of the timestamp (0-59)\n"
   ]
  },
  {
   "cell_type": "markdown",
   "metadata": {},
   "source": [
    "    Instructions\n",
    "\n",
    "- Use the time.time() function to assign the current Unix timestamp to a new variable current_time.\n",
    "- Convert current_time to a struct_time object and assign the resulting object to current_struct_time.\n",
    "- Assign the current hour to current_hour and display the value."
   ]
  },
  {
   "cell_type": "code",
   "execution_count": 8,
   "metadata": {},
   "outputs": [
    {
     "data": {
      "text/plain": [
       "15"
      ]
     },
     "execution_count": 8,
     "metadata": {},
     "output_type": "execute_result"
    }
   ],
   "source": [
    "import time\n",
    "current_time = time.time()\n",
    "current_struct_time = time.gmtime(current_time)\n",
    "current_hour = current_struct_time.tm_hour\n",
    "current_hour"
   ]
  },
  {
   "cell_type": "markdown",
   "metadata": {},
   "source": [
    "## UTC\n",
    "The datetime module offers better support for working extensively with dates. For example, it's easier to perform arithmetic on them (such as adding days), and to work with different time zones.\n",
    "\n",
    "We can return the current utc time as a datetime instance using the **datetime.utcnow()** function.\n",
    "\n",
    "Once we have a datetime instance that represents a specific point in time, we can use the following attributes to return more specific properties:\n",
    "\n",
    "    year: returns the year value as an integer.\n",
    "    month: returns the month value an integer.\n",
    "    day: returns the day value as an integer.\n",
    "    hour: returns the hour value as an integer.\n",
    "    minute: returns the minute value as an integer.\n",
    "    second: returns the second value as an integer.\n",
    "    microsecond: returns the microsecond value as an integer.\n"
   ]
  },
  {
   "cell_type": "markdown",
   "metadata": {},
   "source": [
    "    Instructions\n",
    "\n",
    "- Import the datetime module.\n",
    "- Assign the datetime object representation of the current time to a new variable current_datetime.\n",
    "- Assign the current year to current_year.\n",
    "- Assign the current month to current_month.\n"
   ]
  },
  {
   "cell_type": "code",
   "execution_count": 12,
   "metadata": {
    "collapsed": true
   },
   "outputs": [],
   "source": [
    "import datetime\n",
    "current_datetime = datetime.datetime.utcnow()\n",
    "current_year = current_datetime.year\n",
    "current_month = current_datetime.month"
   ]
  },
  {
   "cell_type": "markdown",
   "metadata": {},
   "source": [
    "## Timedelta\n",
    "datetime module provides the timedelta class. We can create an instance of this class that represents a span of time, then add or subtract it from instances of the datetime class.\n",
    "\n",
    "When we create instances of the timedelta class, we can specify the following parameters:\n",
    "\n",
    "    weeks\n",
    "    days\n",
    "    hours\n",
    "    minutes\n",
    "    seconds\n",
    "    milliseconds\n",
    "    microseconds"
   ]
  },
  {
   "cell_type": "markdown",
   "metadata": {},
   "source": [
    "    Instructions\n",
    "- Create an instance of the datetime class that represents the day March 22, 2233. Assign this to a new variable kirks_birthday.\n",
    "- Create an instance of the timedelta class representing 15 weeks and assign to diff.\n",
    "- Find the date 15 weeks prior to March 22, 2233 and assign the resulting datetime instance to before_kirk."
   ]
  },
  {
   "cell_type": "code",
   "execution_count": 18,
   "metadata": {},
   "outputs": [
    {
     "data": {
      "text/plain": [
       "datetime.datetime(2233, 7, 5, 0, 0)"
      ]
     },
     "execution_count": 18,
     "metadata": {},
     "output_type": "execute_result"
    }
   ],
   "source": [
    "import datetime\n",
    "kirks_birthday = datetime.datetime(year = 2233, month = 3, day = 22)\n",
    "diff = datetime.timedelta(weeks = 15)\n",
    "before_kirk = kirks_birthday + diff\n",
    "before_kirk"
   ]
  },
  {
   "cell_type": "markdown",
   "metadata": {},
   "source": [
    "## Formatting Dates\n",
    "We can use the datetime.strftime() method to specify how we'd like the string output to be formatted."
   ]
  },
  {
   "cell_type": "markdown",
   "metadata": {},
   "source": [
    "    Instructions\n",
    "- Using the datetime.datetime.strftime() method, display mystery_date, a datetime instance we've created for you, in the following format:\n",
    "\n",
    "      - [12-hour time][AM/PM] on [Day of week] [Month full name] [Day of month], [Full year]\n",
    "\n",
    "- Here's an example in that format:\n",
    "\n",
    "      - \"11:00AM on Wednesday March 03, 2010\"\n",
    "\n",
    "- Store this string in the new variable mystery_date_formatted_string and display using the print() function."
   ]
  },
  {
   "cell_type": "code",
   "execution_count": 25,
   "metadata": {},
   "outputs": [
    {
     "name": "stdout",
     "output_type": "stream",
     "text": [
      "12:00AM on Thursday December 31, 2015\n"
     ]
    }
   ],
   "source": [
    "import datetime\n",
    "mystery_date = datetime.datetime(2015, 12, 31, 0, 0)\n",
    "mystery_date_formatted_string = mystery_date.strftime(\"%I:%M%p on %A %B %d, %Y\")\n",
    "print(mystery_date_formatted_string)"
   ]
  },
  {
   "cell_type": "markdown",
   "metadata": {},
   "source": [
    "## Parsing Dates\n",
    "This is useful if we have a date in a string format, and need to convert it to a datetime instance. If we inspect the data and determine the format of every date, we can save ourselves a lot of manual string manipulation by using the **datetime.datetime.strptime()** function instead. We could even use datetime.strptime() and datetime.strftime() together to convert a date string to a datetime object, and then convert it to a date string of a different format."
   ]
  },
  {
   "cell_type": "markdown",
   "metadata": {},
   "source": [
    "    Instructions\n",
    "    \n",
    "- Use the datetime.datetime.strptime() function to return a datetime instance that represents the timestamp associated with the string mystery_date_formatted_string:\n",
    "    - mystery_date_formatted_string has the format: [Time][AM/PM] on [Day of week] [Month full name] [Day of month], [Full year].\n",
    "    - March 3, 2010 at 11:00AM would look like \"11:00AM on Wednesday March 03, 2010\" in this format.\n",
    "- Assign the resulting datetime instance in mystery_date_2 and display it using the print() function.\n"
   ]
  },
  {
   "cell_type": "code",
   "execution_count": 28,
   "metadata": {},
   "outputs": [
    {
     "name": "stdout",
     "output_type": "stream",
     "text": [
      "2015-12-31 00:00:00\n"
     ]
    }
   ],
   "source": [
    "import datetime\n",
    "\n",
    "mystery_date_2 = datetime.datetime.strptime( mystery_date_formatted_string,\"%I:%M%p on %A %B %d, %Y\")\n",
    "print(mystery_date_2)"
   ]
  },
  {
   "cell_type": "markdown",
   "metadata": {},
   "source": [
    "## Reformatting Our Data"
   ]
  },
  {
   "cell_type": "code",
   "execution_count": 35,
   "metadata": {},
   "outputs": [
    {
     "name": "stdout",
     "output_type": "stream",
     "text": [
      "['What\\'s your internet \"white whale\", something you\\'ve been searching for years to find with no luck?', '11510', '1433213314.0', '1', '26195']\n",
      "[\"What's your favorite video that is 10 seconds or less?\", '8656', '1434205517.0', '4', '8479']\n",
      "['What are some interesting tests you can take to find out about yourself?', '8480', '1443409636.0', '1', '4055']\n",
      "[\"PhD's of Reddit. What is a dumbed down summary of your thesis?\", '7927', '1440188623.0', '0', '13201']\n",
      "['What is cool to be good at, yet uncool to be REALLY good at?', '7711', '1440082910.0', '0', '20325']\n"
     ]
    }
   ],
   "source": [
    "import csv\n",
    "f = open(\"/home/aida/Desktop/Dataquest/python-intermediate/data/askreddit_2015.csv\", \"r\")\n",
    "readfile = csv.reader(f)\n",
    "posts_with_header = list(readfile)\n",
    "posts = posts_with_header[1:]\n",
    "for row in posts[:5]:\n",
    "    print(row)"
   ]
  },
  {
   "cell_type": "markdown",
   "metadata": {},
   "source": [
    "- Loop through posts, and for each row:\n",
    "\n",
    "    - Convert the value in the Time column (index 2 of each row) to a floating point number.\n",
    "    - Convert the floating point number to a datetime instance using datetime.datetime.fromtimestamp().\n",
    "    - Store the resulting datetime instance back in index 2 of the row, overwriting the original Unix timestamp value.\n"
   ]
  },
  {
   "cell_type": "code",
   "execution_count": 36,
   "metadata": {
    "collapsed": true
   },
   "outputs": [],
   "source": [
    "for row in posts:\n",
    "    row[2] = datetime.datetime.fromtimestamp(float(row[2]))"
   ]
  },
  {
   "cell_type": "markdown",
   "metadata": {},
   "source": [
    "## Counting Posts from March\n",
    "Now that we've converted our posts data set to contain datetime instances, we can count how many of the top 1,000 posts users submitted in the month of March."
   ]
  },
  {
   "cell_type": "markdown",
   "metadata": {},
   "source": [
    "    Instructions\n",
    "- Loop through posts, and for each row:\n",
    "\n",
    "    - Use the datetime.month attribute to check if the datetime instance at index 2 equals 3.\n",
    "    - If so, increment march_count.\n"
   ]
  },
  {
   "cell_type": "code",
   "execution_count": 54,
   "metadata": {},
   "outputs": [
    {
     "data": {
      "text/plain": [
       "58"
      ]
     },
     "execution_count": 54,
     "metadata": {},
     "output_type": "execute_result"
    }
   ],
   "source": [
    "# row[2] e ka tipin datetime tash!\n",
    "march_count = 0\n",
    "for row in posts:\n",
    "    if row[2].month == 3:\n",
    "        march_count += 1\n",
    "march_count"
   ]
  },
  {
   "cell_type": "markdown",
   "metadata": {},
   "source": [
    "##  Counting Posts from Any Month\n",
    "Let's write a function that generalizes our counting logic and makes it works for any month."
   ]
  },
  {
   "cell_type": "markdown",
   "metadata": {},
   "source": [
    "- Write a function that takes in an integer value representing a month, and returns the number of posts users submitted during that month.\n",
    "\n",
    "- Use the function to return the number of posts users submitted in February (month value of 2), and assign the count to a new variable feb_count.\n",
    "\n",
    "- Use the function to return the number of posts users submitted in August (month value of 8), and assign the count to a new variable aug_count."
   ]
  },
  {
   "cell_type": "code",
   "execution_count": 49,
   "metadata": {},
   "outputs": [
    {
     "name": "stdout",
     "output_type": "stream",
     "text": [
      "45 93\n"
     ]
    }
   ],
   "source": [
    "def submitted_posts(month):\n",
    "    count = 0\n",
    "    for row in posts:\n",
    "        if row[2].month == month:\n",
    "            count += 1\n",
    "    return count\n",
    "feb_count = submitted_posts(2)\n",
    "aug_count = submitted_posts(8)\n",
    "print(feb_count, aug_count)"
   ]
  },
  {
   "cell_type": "code",
   "execution_count": 55,
   "metadata": {},
   "outputs": [
    {
     "name": "stdout",
     "output_type": "stream",
     "text": [
      "864\n"
     ]
    }
   ],
   "source": [
    "def submitted_posts_per_year(year):\n",
    "    count = 0\n",
    "    for row in posts:\n",
    "        if row[2].year == year:\n",
    "            count += 1\n",
    "    return count\n",
    "count_2015  = submitter_posts_per_year(2015)\n",
    "print(count_2015)"
   ]
  },
  {
   "cell_type": "code",
   "execution_count": null,
   "metadata": {
    "collapsed": true
   },
   "outputs": [],
   "source": []
  }
 ],
 "metadata": {
  "kernelspec": {
   "display_name": "Python 3",
   "language": "python",
   "name": "python3"
  },
  "language_info": {
   "codemirror_mode": {
    "name": "ipython",
    "version": 2
   },
   "file_extension": ".py",
   "mimetype": "text/x-python",
   "name": "python",
   "nbconvert_exporter": "python",
   "pygments_lexer": "ipython2",
   "version": "2.7.14"
  }
 },
 "nbformat": 4,
 "nbformat_minor": 2
}
