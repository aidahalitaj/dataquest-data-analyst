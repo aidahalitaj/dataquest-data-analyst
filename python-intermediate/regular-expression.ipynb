{
 "cells": [
  {
   "cell_type": "markdown",
   "metadata": {},
   "source": [
    "# Regular Expressions"
   ]
  },
  {
   "cell_type": "markdown",
   "metadata": {},
   "source": [
    "## Introduction\n",
    "A regular expression (regex) is a sequence of characters that describes a search pattern. We can use regular expressions to search for and extract data."
   ]
  },
  {
   "cell_type": "markdown",
   "metadata": {},
   "source": [
    "    Instructions\n",
    "- In the code cell, assign to the variable regex a regular expression that's four characters long and matches every string in the list strings."
   ]
  },
  {
   "cell_type": "code",
   "execution_count": 1,
   "metadata": {
    "collapsed": true
   },
   "outputs": [],
   "source": [
    "strings = [\"data science\", \"big data\", \"metadata\"]\n",
    "reges = \"data\""
   ]
  },
  {
   "cell_type": "markdown",
   "metadata": {},
   "source": [
    "## Wildcards in Regular Expressions\n",
    "We use the special character \".\" to indicate that any character can be put in its place."
   ]
  },
  {
   "cell_type": "markdown",
   "metadata": {},
   "source": [
    "    Instructions\n",
    "- Assign a regular expression that is three characters long and matches every string in strings to the variable regex."
   ]
  },
  {
   "cell_type": "code",
   "execution_count": 4,
   "metadata": {},
   "outputs": [],
   "source": [
    "strings = [\"bat\", \"robotics\", \"megabyte\"]\n",
    "\n",
    "regex = \"b.t\""
   ]
  },
  {
   "cell_type": "markdown",
   "metadata": {},
   "source": [
    "## Searching the Beginnings And Endings Of Strings\n",
    "We can use the caret symbol (\"^\") to match the beginning of a string, and the dollar sign (\"$\") to match the end of a string."
   ]
  },
  {
   "cell_type": "markdown",
   "metadata": {},
   "source": [
    "    Instructions\n",
    "- Assign a regular expression that's seven characters long and matches every string in strings (except for bad_string) to the variable regex."
   ]
  },
  {
   "cell_type": "code",
   "execution_count": 5,
   "metadata": {
    "collapsed": true
   },
   "outputs": [],
   "source": [
    "strings = [\"better not put too much\", \"butter in the\", \"batter\"]\n",
    "bad_string = \"We also wouldn't want it to be bitter\"\n",
    "regex = \"^b.tter\""
   ]
  },
  {
   "cell_type": "markdown",
   "metadata": {},
   "source": [
    "## Reading and Printing the Data Set\n",
    "Let's use the csv module to read and print our data file, \"askreddit_2015.csv\"."
   ]
  },
  {
   "cell_type": "markdown",
   "metadata": {},
   "source": [
    "    Instructions\n",
    "\n",
    "- Use the csv module to read our data set and assign it to posts_with_header.\n",
    "- Use list slicing to exclude the first row, which represents the column names. Assign this sliced data set to posts.\n",
    "- Use a for loop and string slicing to print the first 10 rows. See if you notice any patterns in this sample of the data set.\n"
   ]
  },
  {
   "cell_type": "code",
   "execution_count": 11,
   "metadata": {},
   "outputs": [
    {
     "name": "stdout",
     "output_type": "stream",
     "text": [
      "['What\\'s your internet \"white whale\", something you\\'ve been searching for years to find with no luck?', '11510', '1433213314.0', '1', '26195']\n",
      "[\"What's your favorite video that is 10 seconds or less?\", '8656', '1434205517.0', '4', '8479']\n",
      "['What are some interesting tests you can take to find out about yourself?', '8480', '1443409636.0', '1', '4055']\n",
      "[\"PhD's of Reddit. What is a dumbed down summary of your thesis?\", '7927', '1440188623.0', '0', '13201']\n",
      "['What is cool to be good at, yet uncool to be REALLY good at?', '7711', '1440082910.0', '0', '20325']\n",
      "['[Serious] Redditors currently in a relationship, besides dinner and a movie, what are your favorite activities for date night?', '7598', '1439993280.0', '2', '5389']\n",
      "[\"Parents of Reddit, what's something that your kid has done that you pretended to be angry about but secretly impressed or amused you?\", '7553', '1439161809.0', '0', '11520']\n",
      "['What is a good subreddit to binge read the All Time Top Posts of?', '7498', '1438822288.0', '0', '2780']\n",
      "['What would the person who named Walkie Talkies have named other items?', '7501', '1447904351.0', '4', '6720']\n",
      "[\"People who grew up in a different socioeconomic class as your significant others, what are the notable differences you've noticed and how does it affect your relationship (if at all)?\", '7419', '1440358069.0', '0', '8603']\n"
     ]
    }
   ],
   "source": [
    "import csv\n",
    "f = open(\"/home/aida/Desktop/Dataquest/python-intermediate/data/askreddit_2015.csv\", \"r\")\n",
    "readfile = csv.reader(f)\n",
    "posts_with_header = list(readfile)\n",
    "posts_with_header = posts_with_header[1:]\n",
    "for row in posts_with_header[:10]:\n",
    "    print(row)"
   ]
  },
  {
   "cell_type": "markdown",
   "metadata": {},
   "source": [
    "## Counting Simple Matches in the Data Set with re()\n",
    "With re.search(regex, string), we can check whether string is a match for regex. If it is, the expression will return a match object. If it isn't, it will return None. "
   ]
  },
  {
   "cell_type": "markdown",
   "metadata": {},
   "source": [
    "    Instructions\n",
    "\n",
    "Count the number of posts in our data set that match the regex \"of Reddit\". Assign the count to of_reddit_count.\n"
   ]
  },
  {
   "cell_type": "code",
   "execution_count": 12,
   "metadata": {
    "collapsed": true
   },
   "outputs": [],
   "source": [
    "import re\n",
    "\n",
    "of_reddit_count = 0\n",
    "for row in posts_with_header:\n",
    "    posts = row[0]\n",
    "    if re.search(\"of Reddit\", posts) is not None:\n",
    "        of_reddit_count += 1"
   ]
  },
  {
   "cell_type": "code",
   "execution_count": 13,
   "metadata": {},
   "outputs": [
    {
     "data": {
      "text/plain": [
       "76"
      ]
     },
     "execution_count": 13,
     "metadata": {},
     "output_type": "execute_result"
    }
   ],
   "source": [
    "of_reddit_count"
   ]
  },
  {
   "cell_type": "markdown",
   "metadata": {},
   "source": [
    "## Using Square Brackets to Match Multiple Characters\n",
    "We use square brackets in a regex to indicate that any character within them can fill the space. "
   ]
  },
  {
   "cell_type": "markdown",
   "metadata": {},
   "source": [
    "    Instructions\n",
    "\n",
    "\n",
    "- Use square bracket notation to make the code account for both capitalizations of \"Reddit\", and count how many posts contain \"of Reddit\" or \"of reddit\" in the title.\n",
    "\n",
    "- Assign the resulting count to of_reddit_count."
   ]
  },
  {
   "cell_type": "code",
   "execution_count": 14,
   "metadata": {
    "collapsed": true
   },
   "outputs": [],
   "source": [
    "for row in posts_with_header:\n",
    "    posts = row[0]\n",
    "    if re.search(\"of [Rr]eddit\", posts) is not None:\n",
    "        of_reddit_count += 1"
   ]
  },
  {
   "cell_type": "markdown",
   "metadata": {},
   "source": [
    "## Escaping Special Characters\n",
    "In regular expressions, escaping a character means indicating that you don't want the character to do anything special, and that the interpreter should treat it just like any other character. We use the backslash (\"\\\") to escape characters in a regex."
   ]
  },
  {
   "cell_type": "markdown",
   "metadata": {},
   "source": [
    "    Instructions\n",
    "\n",
    "\n",
    "- Escape the square bracket characters to count the number of posts in our data set that contain the \"[Serious]\" tag.\n",
    "\n",
    "- Assign the count to serious_count."
   ]
  },
  {
   "cell_type": "code",
   "execution_count": 17,
   "metadata": {},
   "outputs": [],
   "source": [
    "serious_count = 0\n",
    "for row in posts_with_header:\n",
    "    posts = row[0]\n",
    "    if re.search(\"\\[Serious\\]\", posts) is not None:\n",
    "        serious_count += 1"
   ]
  },
  {
   "cell_type": "code",
   "execution_count": 18,
   "metadata": {},
   "outputs": [
    {
     "data": {
      "text/plain": [
       "69"
      ]
     },
     "execution_count": 18,
     "metadata": {},
     "output_type": "execute_result"
    }
   ],
   "source": [
    "serious_count"
   ]
  },
  {
   "cell_type": "markdown",
   "metadata": {},
   "source": [
    "## Combining Escaped Characters and Multiple Matches"
   ]
  },
  {
   "cell_type": "code",
   "execution_count": null,
   "metadata": {
    "collapsed": true
   },
   "outputs": [],
   "source": []
  }
 ],
 "metadata": {
  "kernelspec": {
   "display_name": "Python 3",
   "language": "python",
   "name": "python3"
  },
  "language_info": {
   "codemirror_mode": {
    "name": "ipython",
    "version": 3
   },
   "file_extension": ".py",
   "mimetype": "text/x-python",
   "name": "python",
   "nbconvert_exporter": "python",
   "pygments_lexer": "ipython3",
   "version": "3.6.2"
  }
 },
 "nbformat": 4,
 "nbformat_minor": 2
}
