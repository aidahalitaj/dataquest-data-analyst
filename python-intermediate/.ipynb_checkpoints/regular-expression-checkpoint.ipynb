{
 "cells": [
  {
   "cell_type": "markdown",
   "metadata": {},
   "source": [
    "# Regular Expressions"
   ]
  },
  {
   "cell_type": "markdown",
   "metadata": {},
   "source": [
    "## Introduction\n",
    "A regular expression (regex) is a sequence of characters that describes a search pattern. We can use regular expressions to search for and extract data."
   ]
  },
  {
   "cell_type": "markdown",
   "metadata": {},
   "source": [
    "    Instructions\n",
    "- In the code cell, assign to the variable regex a regular expression that's four characters long and matches every string in the list strings."
   ]
  },
  {
   "cell_type": "code",
   "execution_count": 1,
   "metadata": {
    "collapsed": true
   },
   "outputs": [],
   "source": [
    "strings = [\"data science\", \"big data\", \"metadata\"]\n",
    "reges = \"data\""
   ]
  },
  {
   "cell_type": "markdown",
   "metadata": {},
   "source": [
    "## Wildcards in Regular Expressions\n",
    "We use the special character \".\" to indicate that any character can be put in its place."
   ]
  },
  {
   "cell_type": "markdown",
   "metadata": {},
   "source": [
    "    Instructions\n",
    "- Assign a regular expression that is three characters long and matches every string in strings to the variable regex."
   ]
  },
  {
   "cell_type": "code",
   "execution_count": 51,
   "metadata": {},
   "outputs": [],
   "source": [
    "strings = [\"bat\", \"robotics\", \"megabyte\"]\n",
    "regex = \"b.t\""
   ]
  },
  {
   "cell_type": "markdown",
   "metadata": {},
   "source": [
    "## Searching the Beginnings And Endings Of Strings\n",
    "We can use the caret symbol (\"^\") to match the beginning of a string, and the dollar sign (\"$\") to match the end of a string."
   ]
  },
  {
   "cell_type": "markdown",
   "metadata": {},
   "source": [
    "    Instructions\n",
    "- Assign a regular expression that's seven characters long and matches every string in strings (except for bad_string) to the variable regex."
   ]
  },
  {
   "cell_type": "code",
   "execution_count": 5,
   "metadata": {
    "collapsed": true
   },
   "outputs": [],
   "source": [
    "strings = [\"better not put too much\", \"butter in the\", \"batter\"]\n",
    "bad_string = \"We also wouldn't want it to be bitter\"\n",
    "regex = \"^b.tter\""
   ]
  },
  {
   "cell_type": "markdown",
   "metadata": {},
   "source": [
    "## Reading and Printing the Data Set\n",
    "Let's use the csv module to read and print our data file, \"askreddit_2015.csv\"."
   ]
  },
  {
   "cell_type": "markdown",
   "metadata": {},
   "source": [
    "    Instructions\n",
    "\n",
    "- Use the csv module to read our data set and assign it to posts_with_header.\n",
    "- Use list slicing to exclude the first row, which represents the column names. Assign this sliced data set to posts.\n",
    "- Use a for loop and string slicing to print the first 5 rows. See if you notice any patterns in this sample of the data set.\n"
   ]
  },
  {
   "cell_type": "code",
   "execution_count": 50,
   "metadata": {},
   "outputs": [
    {
     "name": "stdout",
     "output_type": "stream",
     "text": [
      "['What\\'s your internet \"white whale\", something you\\'ve been searching for years to find with no luck?', '11510', '1433213314.0', '1', '26195']\n",
      "[\"What's your favorite video that is 10 seconds or less?\", '8656', '1434205517.0', '4', '8479']\n",
      "['What are some interesting tests you can take to find out about yourself?', '8480', '1443409636.0', '1', '4055']\n",
      "[\"PhD's of Reddit. What is a dumbed down summary of your thesis?\", '7927', '1440188623.0', '0', '13201']\n",
      "['What is cool to be good at, yet uncool to be REALLY good at?', '7711', '1440082910.0', '0', '20325']\n"
     ]
    }
   ],
   "source": [
    "import csv\n",
    "f = open(\"/home/aida/Desktop/Dataquest/python-intermediate/data/askreddit_2015.csv\", \"r\")\n",
    "readfile = csv.reader(f)\n",
    "posts_with_header = list(readfile)\n",
    "posts_with_header = posts_with_header[1:]\n",
    "for row in posts_with_header[:5]:\n",
    "    print(row)"
   ]
  },
  {
   "cell_type": "markdown",
   "metadata": {},
   "source": [
    "## Counting Simple Matches in the Data Set with re()\n",
    "With re.search(regex, string), we can check whether string is a match for regex. If it is, the expression will return a match object. If it isn't, it will return None. "
   ]
  },
  {
   "cell_type": "markdown",
   "metadata": {},
   "source": [
    "    Instructions\n",
    "\n",
    "Count the number of posts in our data set that match the regex \"of Reddit\". Assign the count to of_reddit_count.\n"
   ]
  },
  {
   "cell_type": "code",
   "execution_count": 52,
   "metadata": {
    "collapsed": true
   },
   "outputs": [],
   "source": [
    "import re\n",
    "\n",
    "of_reddit_count = 0\n",
    "for row in posts_with_header:\n",
    "    posts = row[0]\n",
    "    if re.search(\"of Reddit\", posts) is not None:\n",
    "        of_reddit_count += 1"
   ]
  },
  {
   "cell_type": "code",
   "execution_count": 53,
   "metadata": {},
   "outputs": [
    {
     "data": {
      "text/plain": [
       "76"
      ]
     },
     "execution_count": 53,
     "metadata": {},
     "output_type": "execute_result"
    }
   ],
   "source": [
    "of_reddit_count"
   ]
  },
  {
   "cell_type": "markdown",
   "metadata": {},
   "source": [
    "## Using Square Brackets to Match Multiple Characters\n",
    "We use square brackets in a regex to indicate that any character within them can fill the space. "
   ]
  },
  {
   "cell_type": "markdown",
   "metadata": {},
   "source": [
    "    Instructions\n",
    "\n",
    "\n",
    "- Use square bracket notation to make the code account for both capitalizations of \"Reddit\", and count how many posts contain \"of Reddit\" or \"of reddit\" in the title.\n",
    "\n",
    "- Assign the resulting count to of_reddit_count."
   ]
  },
  {
   "cell_type": "code",
   "execution_count": 14,
   "metadata": {
    "collapsed": true
   },
   "outputs": [],
   "source": [
    "for row in posts_with_header:\n",
    "    posts = row[0]\n",
    "    if re.search(\"of [Rr]eddit\", posts) is not None:\n",
    "        of_reddit_count += 1"
   ]
  },
  {
   "cell_type": "markdown",
   "metadata": {},
   "source": [
    "## Escaping Special Characters\n",
    "In regular expressions, escaping a character means indicating that you don't want the character to do anything special, and that the interpreter should treat it just like any other character. We use the backslash (\"\\\") to escape characters in a regex."
   ]
  },
  {
   "cell_type": "markdown",
   "metadata": {},
   "source": [
    "    Instructions\n",
    "\n",
    "\n",
    "- Escape the square bracket characters to count the number of posts in our data set that contain the \"[Serious]\" tag.\n",
    "\n",
    "- Assign the count to serious_count."
   ]
  },
  {
   "cell_type": "code",
   "execution_count": 21,
   "metadata": {},
   "outputs": [
    {
     "data": {
      "text/plain": [
       "69"
      ]
     },
     "execution_count": 21,
     "metadata": {},
     "output_type": "execute_result"
    }
   ],
   "source": [
    "serious_count = 0\n",
    "for row in posts_with_header:\n",
    "    posts = row[0]\n",
    "    if re.search(\"\\[Serious\\]\", posts) is not None:\n",
    "        serious_count += 1\n",
    "serious_count"
   ]
  },
  {
   "cell_type": "markdown",
   "metadata": {},
   "source": [
    "## Combining Escaped Characters and Multiple Matches"
   ]
  },
  {
   "cell_type": "markdown",
   "metadata": {},
   "source": [
    "    Instructions\n",
    "\n",
    "- Refine the code to count how many posts have either \"[Serious]\" or \"[serious]\" in the title.\n",
    "- Assign the count to serious_count.\n"
   ]
  },
  {
   "cell_type": "code",
   "execution_count": 20,
   "metadata": {},
   "outputs": [
    {
     "data": {
      "text/plain": [
       "77"
      ]
     },
     "execution_count": 20,
     "metadata": {},
     "output_type": "execute_result"
    }
   ],
   "source": [
    "serious_count = 0\n",
    "for row in posts_with_header:\n",
    "    posts = row[0]\n",
    "    if re.search(\"\\[[Ss]erious\\]\", posts) is not None:\n",
    "        serious_count += 1\n",
    "serious_count"
   ]
  },
  {
   "cell_type": "markdown",
   "metadata": {},
   "source": [
    "## Adding More Complexity to Your Regular Expression"
   ]
  },
  {
   "cell_type": "markdown",
   "metadata": {},
   "source": [
    "    Instructions\n",
    "\n",
    "- Refine the code so that it counts how many posts have the serious tag enclosed in either square brackets or parentheses.\n",
    "- Assign the count to serious_count.\n"
   ]
  },
  {
   "cell_type": "code",
   "execution_count": 23,
   "metadata": {},
   "outputs": [
    {
     "data": {
      "text/plain": [
       "80"
      ]
     },
     "execution_count": 23,
     "metadata": {},
     "output_type": "execute_result"
    }
   ],
   "source": [
    "serious_count = 0\n",
    "for row in posts_with_header:\n",
    "    posts = row[0]\n",
    "    if re.search(\"[\\[\\([Ss]erious[\\]\\)]\", posts) is not None:\n",
    "        serious_count += 1\n",
    "serious_count"
   ]
  },
  {
   "cell_type": "markdown",
   "metadata": {},
   "source": [
    "## Combining Multiple Regular Expressions\n",
    "To combine regular expressions, we use the \"|\" character."
   ]
  },
  {
   "cell_type": "markdown",
   "metadata": {},
   "source": [
    "    Instructions\n",
    "\n",
    "\n",
    "- Use the \"^\" character to count how many posts include the serious tag at the beginning of the title. Assign this count to serious_start_count.\n",
    "\n",
    "- Use the '$' character to count how many posts include the serious tag at the end of the title. Assign this count to serious_end_count.\n",
    "\n",
    "- Use the \"|\" character to count how many posts include the serious tag at either the beginning or end of the title. Assign this count to serious_count_final.\n"
   ]
  },
  {
   "cell_type": "code",
   "execution_count": 33,
   "metadata": {},
   "outputs": [
    {
     "name": "stdout",
     "output_type": "stream",
     "text": [
      "69 11 80\n"
     ]
    }
   ],
   "source": [
    "serious_start_count = 0\n",
    "serious_end_count = 0\n",
    "serious_count_final = 0\n",
    "for row in posts_with_header:\n",
    "    posts = row[0]\n",
    "    if re.search(\"^[\\[\\(][Ss]erious[\\]\\)]\",posts) is not None:\n",
    "        serious_start_count += 1\n",
    "    if re.search(\"[\\[\\(][Ss]erious[\\]\\)]$\", posts) is not None:\n",
    "        serious_end_count += 1\n",
    "    if re.search(\"^[\\[\\(][Ss]erious[\\]\\)]|[\\[\\(][Ss]erious[\\]\\)]$\", posts) is not None:\n",
    "        serious_count_final += 1\n",
    "print(serious_start_count, serious_end_count, serious_count_final)"
   ]
  },
  {
   "cell_type": "markdown",
   "metadata": {},
   "source": [
    "## Using Regular Expressions to Substitute Strings\n",
    "\n",
    "The re module provides a sub() function that takes the following parameters (in order):\n",
    "- pattern: The regex to match\n",
    "- repl: The string that should replace the substring matches\n",
    "- string: The string containing the pattern we want to search\n"
   ]
  },
  {
   "cell_type": "markdown",
   "metadata": {},
   "source": [
    "    Instructions\n",
    "- Replace \"[serious]\", \"(Serious)\", and \"(serious)\" with \"[Serious]\" for all of the titles in posts.\n",
    "- You should only need to use one call to sub(), and one regex.\n",
    "- Recall that the repl argument is an ordinary string. It's not a regex, so you don't need to escape characters like \"[\".\n"
   ]
  },
  {
   "cell_type": "code",
   "execution_count": 36,
   "metadata": {
    "collapsed": true
   },
   "outputs": [],
   "source": [
    "for row in posts_with_header:\n",
    "    row[0] = re.sub(\"[\\[\\(][Ss]erious[\\]\\)]\", \"[Serious]\", row[0])  "
   ]
  },
  {
   "cell_type": "markdown",
   "metadata": {},
   "source": [
    "## Matching Years with Regular Expressions"
   ]
  },
  {
   "cell_type": "markdown",
   "metadata": {},
   "source": [
    "    Instructions\n",
    "- Loop through strings and use re.search() to determine whether each string contains a year between 1000 and 2999.\n",
    "- Store every string that contains a year in year_strings. The .append() function will help here."
   ]
  },
  {
   "cell_type": "code",
   "execution_count": 41,
   "metadata": {},
   "outputs": [
    {
     "data": {
      "text/plain": [
       "['War of 1812', 'Happy New Year 2016!']"
      ]
     },
     "execution_count": 41,
     "metadata": {},
     "output_type": "execute_result"
    }
   ],
   "source": [
    "strings = ['War of 1812', 'There are 5280 feet to a mile', 'Happy New Year 2016!'] \n",
    "year_strings = []\n",
    "for string in strings:\n",
    "    if re.search(\"[1-2][0-9][0-9][0-9]\",string) is not None:\n",
    "        year_strings.append(string)\n",
    "year_strings"
   ]
  },
  {
   "cell_type": "markdown",
   "metadata": {},
   "source": [
    "## Repeating Characters in Regular Expressions\n",
    "We can use curly brackets (\"{\" and \"}\") to indicate that a pattern should repeat. To match any four-digit number, for example, we could repeat the pattern \"[0-9]\" four times by writing \"[0-9]{4}\"."
   ]
  },
  {
   "cell_type": "markdown",
   "metadata": {},
   "source": [
    "    Instructions\n",
    "\n",
    "- Loop through strings and use re.search() to determine whether each string contains a year between 1000 and 2999. Use a regex that takes advantage of curly brackets.\n",
    "- Store every string that contains a year in year_strings. The .append() function will help here.\n"
   ]
  },
  {
   "cell_type": "code",
   "execution_count": 43,
   "metadata": {},
   "outputs": [
    {
     "data": {
      "text/plain": [
       "['War of 1812', 'Happy New Year 2016!']"
      ]
     },
     "execution_count": 43,
     "metadata": {},
     "output_type": "execute_result"
    }
   ],
   "source": [
    "strings = ['War of 1812', 'There are 5280 feet to a mile', 'Happy New Year 2016!'] \n",
    "year_strings = []\n",
    "for string in strings:\n",
    "    if re.search(\"[1-2][0-9]{3}\",string) is not None:\n",
    "        year_strings.append(string)\n",
    "year_strings"
   ]
  },
  {
   "cell_type": "markdown",
   "metadata": {},
   "source": [
    "## Challenge: Extracting all Years\n",
    "\n",
    " The re module contains a findall() function that returns a list of substrings matching the regex. re.findall(\"[a-z]\", \"abc123\") would return [\"a\", \"b\", \"c\"], because those are the substrings that match the regex."
   ]
  },
  {
   "cell_type": "markdown",
   "metadata": {},
   "source": [
    "    Instructions\n",
    "- Use re.findall() to generate a list of all years between 1000 and 2999 in the string years_string.\n",
    "\n",
    "- Assign the result to years.\n"
   ]
  },
  {
   "cell_type": "code",
   "execution_count": 49,
   "metadata": {},
   "outputs": [
    {
     "data": {
      "text/plain": [
       "['2015', '2016']"
      ]
     },
     "execution_count": 49,
     "metadata": {},
     "output_type": "execute_result"
    }
   ],
   "source": [
    "years_string = '2015 was a good year, but 2016 will be better!'\n",
    "years = re.findall(\"[1-2][0-9]{3}\",years_string)\n",
    "years"
   ]
  }
 ],
 "metadata": {
  "kernelspec": {
   "display_name": "Python 3",
   "language": "python",
   "name": "python3"
  },
  "language_info": {
   "codemirror_mode": {
    "name": "ipython",
    "version": 3
   },
   "file_extension": ".py",
   "mimetype": "text/x-python",
   "name": "python",
   "nbconvert_exporter": "python",
   "pygments_lexer": "ipython3",
   "version": "3.6.2"
  }
 },
 "nbformat": 4,
 "nbformat_minor": 2
}
