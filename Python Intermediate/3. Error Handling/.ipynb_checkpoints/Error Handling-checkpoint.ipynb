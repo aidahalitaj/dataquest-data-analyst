{
 "cells": [
  {
   "cell_type": "markdown",
   "metadata": {},
   "source": [
    "# Error Handling "
   ]
  },
  {
   "cell_type": "markdown",
   "metadata": {},
   "source": [
    "#### - The Dataset\n",
    "\n",
    "In this mission, we'll be working with legislators.csv, which records information on every historical member of the U.S. Congress. "
   ]
  },
  {
   "cell_type": "code",
   "execution_count": 5,
   "metadata": {},
   "outputs": [],
   "source": [
    "import pandas as pd\n",
    "legislators = pd.read_csv(\"legislators.csv\")"
   ]
  },
  {
   "cell_type": "code",
   "execution_count": 23,
   "metadata": {},
   "outputs": [
    {
     "data": {
      "text/plain": [
       "pandas.core.frame.DataFrame"
      ]
     },
     "execution_count": 23,
     "metadata": {},
     "output_type": "execute_result"
    }
   ],
   "source": [
    "type(legislators)"
   ]
  },
  {
   "cell_type": "code",
   "execution_count": 12,
   "metadata": {},
   "outputs": [
    {
     "data": {
      "text/html": [
       "<div>\n",
       "<style>\n",
       "    .dataframe thead tr:only-child th {\n",
       "        text-align: right;\n",
       "    }\n",
       "\n",
       "    .dataframe thead th {\n",
       "        text-align: left;\n",
       "    }\n",
       "\n",
       "    .dataframe tbody tr th {\n",
       "        vertical-align: top;\n",
       "    }\n",
       "</style>\n",
       "<table border=\"1\" class=\"dataframe\">\n",
       "  <thead>\n",
       "    <tr style=\"text-align: right;\">\n",
       "      <th></th>\n",
       "      <th>last_name</th>\n",
       "      <th>first_name</th>\n",
       "      <th>birthday</th>\n",
       "      <th>gender</th>\n",
       "      <th>type</th>\n",
       "      <th>state</th>\n",
       "      <th>party</th>\n",
       "    </tr>\n",
       "  </thead>\n",
       "  <tbody>\n",
       "    <tr>\n",
       "      <th>0</th>\n",
       "      <td>Bassett</td>\n",
       "      <td>Richard</td>\n",
       "      <td>1745-04-02</td>\n",
       "      <td>M</td>\n",
       "      <td>sen</td>\n",
       "      <td>DE</td>\n",
       "      <td>Anti-Administration</td>\n",
       "    </tr>\n",
       "    <tr>\n",
       "      <th>1</th>\n",
       "      <td>Bland</td>\n",
       "      <td>Theodorick</td>\n",
       "      <td>1742-03-21</td>\n",
       "      <td>NaN</td>\n",
       "      <td>rep</td>\n",
       "      <td>VA</td>\n",
       "      <td>NaN</td>\n",
       "    </tr>\n",
       "    <tr>\n",
       "      <th>2</th>\n",
       "      <td>Burke</td>\n",
       "      <td>Aedanus</td>\n",
       "      <td>1743-06-16</td>\n",
       "      <td>NaN</td>\n",
       "      <td>rep</td>\n",
       "      <td>SC</td>\n",
       "      <td>NaN</td>\n",
       "    </tr>\n",
       "    <tr>\n",
       "      <th>3</th>\n",
       "      <td>Carroll</td>\n",
       "      <td>Daniel</td>\n",
       "      <td>1730-07-22</td>\n",
       "      <td>M</td>\n",
       "      <td>rep</td>\n",
       "      <td>MD</td>\n",
       "      <td>NaN</td>\n",
       "    </tr>\n",
       "    <tr>\n",
       "      <th>4</th>\n",
       "      <td>Clymer</td>\n",
       "      <td>George</td>\n",
       "      <td>1739-03-16</td>\n",
       "      <td>M</td>\n",
       "      <td>rep</td>\n",
       "      <td>PA</td>\n",
       "      <td>NaN</td>\n",
       "    </tr>\n",
       "  </tbody>\n",
       "</table>\n",
       "</div>"
      ],
      "text/plain": [
       "  last_name  first_name    birthday gender type state                party\n",
       "0   Bassett     Richard  1745-04-02      M  sen    DE  Anti-Administration\n",
       "1     Bland  Theodorick  1742-03-21    NaN  rep    VA                  NaN\n",
       "2     Burke     Aedanus  1743-06-16    NaN  rep    SC                  NaN\n",
       "3   Carroll      Daniel  1730-07-22      M  rep    MD                  NaN\n",
       "4    Clymer      George  1739-03-16      M  rep    PA                  NaN"
      ]
     },
     "execution_count": 12,
     "metadata": {},
     "output_type": "execute_result"
    }
   ],
   "source": [
    "legislators[:5]\n",
    "#legislators['gender']"
   ]
  },
  {
   "cell_type": "code",
   "execution_count": 21,
   "metadata": {},
   "outputs": [
    {
     "data": {
      "text/plain": [
       "array(['M', nan, 'F'], dtype=object)"
      ]
     },
     "execution_count": 21,
     "metadata": {},
     "output_type": "execute_result"
    }
   ],
   "source": [
    "# Unique values of gender column\n",
    "legislators['gender'].unique()"
   ]
  },
  {
   "cell_type": "code",
   "execution_count": 32,
   "metadata": {
    "collapsed": true
   },
   "outputs": [
    {
     "data": {
      "text/plain": [
       "{nan,\n",
       " 'Free Soil',\n",
       " 'Socialist',\n",
       " 'Federalist',\n",
       " 'Jackson',\n",
       " 'New Progressive',\n",
       " 'Anti Masonic',\n",
       " 'Anti Jacksonian',\n",
       " 'Conservative Republican',\n",
       " 'Silver Republican',\n",
       " 'Coalitionist',\n",
       " 'Union Democrat',\n",
       " 'Democratic Republican',\n",
       " 'Anti-Jacksonian',\n",
       " 'Free Silver',\n",
       " 'Ind. Republican-Democrat',\n",
       " 'Crawford Republican',\n",
       " 'Populist',\n",
       " 'Ind. Republican',\n",
       " 'Independent',\n",
       " 'Unconditional Unionist',\n",
       " 'Whig',\n",
       " 'Progressive Republican',\n",
       " 'Popular Democrat',\n",
       " 'Jacksonian',\n",
       " 'Democratic and Union Labor',\n",
       " 'Farmer-Labor',\n",
       " 'Anti Jackson',\n",
       " 'Democrat-Liberal',\n",
       " 'Liberty',\n",
       " 'Union Labor',\n",
       " 'Liberal Republican',\n",
       " 'Progressive',\n",
       " 'Prohibitionist',\n",
       " 'Anti-Lecompton Democrat',\n",
       " 'Adams Democrat',\n",
       " 'Law and Order',\n",
       " 'Constitutional Unionist',\n",
       " 'Republican-Conservative',\n",
       " 'Ind. Democrat',\n",
       " 'Nullifier',\n",
       " 'Jackson Republican',\n",
       " 'Unknown',\n",
       " 'Union',\n",
       " 'Anti-Administration',\n",
       " 'Pro-Administration',\n",
       " 'Adams',\n",
       " 'Conservative',\n",
       " 'Democrat',\n",
       " 'States Rights',\n",
       " 'National Greenbacker',\n",
       " 'Readjuster',\n",
       " 'Ind. Whig',\n",
       " 'Republican',\n",
       " 'Readjuster Democrat',\n",
       " 'Independent Democrat',\n",
       " 'Nonpartisan',\n",
       " 'American Labor',\n",
       " 'American',\n",
       " 'Unionist'}"
      ]
     },
     "execution_count": 32,
     "metadata": {},
     "output_type": "execute_result"
    }
   ],
   "source": [
    "# Extract the party column from legislators and convert it to a set.\n",
    "#Assign the result to party.\n",
    "\n",
    "party = set(legislators['party'])\n",
    "party"
   ]
  },
  {
   "cell_type": "code",
   "execution_count": null,
   "metadata": {
    "collapsed": true
   },
   "outputs": [],
   "source": []
  }
 ],
 "metadata": {
  "kernelspec": {
   "display_name": "Python 3",
   "language": "python",
   "name": "python3"
  },
  "language_info": {
   "codemirror_mode": {
    "name": "ipython",
    "version": 3
   },
   "file_extension": ".py",
   "mimetype": "text/x-python",
   "name": "python",
   "nbconvert_exporter": "python",
   "pygments_lexer": "ipython3",
   "version": "3.6.2"
  }
 },
 "nbformat": 4,
 "nbformat_minor": 2
}
