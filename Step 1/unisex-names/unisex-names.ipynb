{
 "cells": [
  {
   "cell_type": "code",
   "execution_count": 6,
   "metadata": {
    "collapsed": true
   },
   "outputs": [],
   "source": [
    "import pandas as pd"
   ]
  },
  {
   "cell_type": "code",
   "execution_count": 8,
   "metadata": {},
   "outputs": [
    {
     "data": {
      "text/html": [
       "<div>\n",
       "<style scoped>\n",
       "    .dataframe tbody tr th:only-of-type {\n",
       "        vertical-align: middle;\n",
       "    }\n",
       "\n",
       "    .dataframe tbody tr th {\n",
       "        vertical-align: top;\n",
       "    }\n",
       "\n",
       "    .dataframe thead th {\n",
       "        text-align: right;\n",
       "    }\n",
       "</style>\n",
       "<table border=\"1\" class=\"dataframe\">\n",
       "  <thead>\n",
       "    <tr style=\"text-align: right;\">\n",
       "      <th></th>\n",
       "      <th>Unnamed: 0</th>\n",
       "      <th>name</th>\n",
       "      <th>total</th>\n",
       "      <th>male_share</th>\n",
       "      <th>female_share</th>\n",
       "      <th>gap</th>\n",
       "    </tr>\n",
       "  </thead>\n",
       "  <tbody>\n",
       "    <tr>\n",
       "      <th>0</th>\n",
       "      <td>1</td>\n",
       "      <td>Casey</td>\n",
       "      <td>176544.328149</td>\n",
       "      <td>0.584287</td>\n",
       "      <td>0.415713</td>\n",
       "      <td>0.168573</td>\n",
       "    </tr>\n",
       "    <tr>\n",
       "      <th>1</th>\n",
       "      <td>2</td>\n",
       "      <td>Riley</td>\n",
       "      <td>154860.665173</td>\n",
       "      <td>0.507639</td>\n",
       "      <td>0.492361</td>\n",
       "      <td>0.015278</td>\n",
       "    </tr>\n",
       "    <tr>\n",
       "      <th>2</th>\n",
       "      <td>3</td>\n",
       "      <td>Jessie</td>\n",
       "      <td>136381.830656</td>\n",
       "      <td>0.477834</td>\n",
       "      <td>0.522166</td>\n",
       "      <td>0.044331</td>\n",
       "    </tr>\n",
       "    <tr>\n",
       "      <th>3</th>\n",
       "      <td>4</td>\n",
       "      <td>Jackie</td>\n",
       "      <td>132928.788740</td>\n",
       "      <td>0.421133</td>\n",
       "      <td>0.578867</td>\n",
       "      <td>0.157735</td>\n",
       "    </tr>\n",
       "    <tr>\n",
       "      <th>4</th>\n",
       "      <td>5</td>\n",
       "      <td>Avery</td>\n",
       "      <td>121797.419516</td>\n",
       "      <td>0.335213</td>\n",
       "      <td>0.664787</td>\n",
       "      <td>0.329574</td>\n",
       "    </tr>\n",
       "  </tbody>\n",
       "</table>\n",
       "</div>"
      ],
      "text/plain": [
       "   Unnamed: 0    name          total  male_share  female_share       gap\n",
       "0           1   Casey  176544.328149    0.584287      0.415713  0.168573\n",
       "1           2   Riley  154860.665173    0.507639      0.492361  0.015278\n",
       "2           3  Jessie  136381.830656    0.477834      0.522166  0.044331\n",
       "3           4  Jackie  132928.788740    0.421133      0.578867  0.157735\n",
       "4           5   Avery  121797.419516    0.335213      0.664787  0.329574"
      ]
     },
     "execution_count": 8,
     "metadata": {},
     "output_type": "execute_result"
    }
   ],
   "source": [
    "df = pd.read_csv(\"unisex_names.csv\")\n",
    "df.head()"
   ]
  },
  {
   "cell_type": "code",
   "execution_count": 9,
   "metadata": {},
   "outputs": [],
   "source": [
    "df = df.drop('Unnamed: 0', axis=1)"
   ]
  },
  {
   "cell_type": "code",
   "execution_count": 10,
   "metadata": {},
   "outputs": [
    {
     "data": {
      "text/html": [
       "<div>\n",
       "<style scoped>\n",
       "    .dataframe tbody tr th:only-of-type {\n",
       "        vertical-align: middle;\n",
       "    }\n",
       "\n",
       "    .dataframe tbody tr th {\n",
       "        vertical-align: top;\n",
       "    }\n",
       "\n",
       "    .dataframe thead th {\n",
       "        text-align: right;\n",
       "    }\n",
       "</style>\n",
       "<table border=\"1\" class=\"dataframe\">\n",
       "  <thead>\n",
       "    <tr style=\"text-align: right;\">\n",
       "      <th></th>\n",
       "      <th>name</th>\n",
       "      <th>total</th>\n",
       "      <th>male_share</th>\n",
       "      <th>female_share</th>\n",
       "      <th>gap</th>\n",
       "    </tr>\n",
       "  </thead>\n",
       "  <tbody>\n",
       "    <tr>\n",
       "      <th>0</th>\n",
       "      <td>Casey</td>\n",
       "      <td>176544.328149</td>\n",
       "      <td>0.584287</td>\n",
       "      <td>0.415713</td>\n",
       "      <td>0.168573</td>\n",
       "    </tr>\n",
       "    <tr>\n",
       "      <th>1</th>\n",
       "      <td>Riley</td>\n",
       "      <td>154860.665173</td>\n",
       "      <td>0.507639</td>\n",
       "      <td>0.492361</td>\n",
       "      <td>0.015278</td>\n",
       "    </tr>\n",
       "    <tr>\n",
       "      <th>2</th>\n",
       "      <td>Jessie</td>\n",
       "      <td>136381.830656</td>\n",
       "      <td>0.477834</td>\n",
       "      <td>0.522166</td>\n",
       "      <td>0.044331</td>\n",
       "    </tr>\n",
       "    <tr>\n",
       "      <th>3</th>\n",
       "      <td>Jackie</td>\n",
       "      <td>132928.788740</td>\n",
       "      <td>0.421133</td>\n",
       "      <td>0.578867</td>\n",
       "      <td>0.157735</td>\n",
       "    </tr>\n",
       "    <tr>\n",
       "      <th>4</th>\n",
       "      <td>Avery</td>\n",
       "      <td>121797.419516</td>\n",
       "      <td>0.335213</td>\n",
       "      <td>0.664787</td>\n",
       "      <td>0.329574</td>\n",
       "    </tr>\n",
       "  </tbody>\n",
       "</table>\n",
       "</div>"
      ],
      "text/plain": [
       "     name          total  male_share  female_share       gap\n",
       "0   Casey  176544.328149    0.584287      0.415713  0.168573\n",
       "1   Riley  154860.665173    0.507639      0.492361  0.015278\n",
       "2  Jessie  136381.830656    0.477834      0.522166  0.044331\n",
       "3  Jackie  132928.788740    0.421133      0.578867  0.157735\n",
       "4   Avery  121797.419516    0.335213      0.664787  0.329574"
      ]
     },
     "execution_count": 10,
     "metadata": {},
     "output_type": "execute_result"
    }
   ],
   "source": [
    "df[:5]"
   ]
  },
  {
   "cell_type": "code",
   "execution_count": 11,
   "metadata": {},
   "outputs": [],
   "source": [
    "data = open(\"unisex_names.csv\", \"r\")\n",
    "#names = data.readlines()[11:]\n",
    "names = data.read()"
   ]
  },
  {
   "cell_type": "code",
   "execution_count": 12,
   "metadata": {},
   "outputs": [
    {
     "data": {
      "text/plain": [
       "str"
      ]
     },
     "execution_count": 12,
     "metadata": {},
     "output_type": "execute_result"
    }
   ],
   "source": [
    "type(names)"
   ]
  },
  {
   "cell_type": "markdown",
   "metadata": {},
   "source": [
    "#### 1. Convert the String to a List\n",
    "Now that you have a string representation of the file, convert it to a list of strings.\n"
   ]
  },
  {
   "cell_type": "code",
   "execution_count": 15,
   "metadata": {},
   "outputs": [
    {
     "name": "stdout",
     "output_type": "stream",
     "text": [
      "['\"\",\"name\",\"total\",\"male_share\",\"female_share\",\"gap\"', '\"1\",\"Casey\",176544.328149,0.584286566204162,0.415713433795838,0.168573132408324', '\"2\",\"Riley\",154860.665173,0.507639071226889,0.492360928773111,0.0152781424537786', '\"3\",\"Jessie\",136381.830656,0.47783426831522,0.52216573168478,0.04433146336956', '\"4\",\"Jackie\",132928.78874,0.421132601798505,0.578867398201495,0.15773479640299']\n"
     ]
    }
   ],
   "source": [
    "# Now that you have a string representation of the file, convert it to a list of strings.\n",
    "\n",
    "# Use the split() method that strings have to split on the new-line delimiter (\"\\n\"), and assign the resulting list to names_list.\n",
    "names_list = names.split('\\n')\n",
    "\n",
    "# Select the first five elements in names_list, and assign them to first_five.\n",
    "first_five = names_list[:5]\n",
    "\n",
    "print(first_five)"
   ]
  },
  {
   "cell_type": "code",
   "execution_count": 17,
   "metadata": {},
   "outputs": [],
   "source": [
    "# skip the first row - heading of columns\n",
    "names_list = names_list[1:]\n"
   ]
  },
  {
   "cell_type": "markdown",
   "metadata": {},
   "source": [
    "#### 2. Convert the List of Strings to a List of Lists\n",
    "When you displayed the first five elements, you may have noticed that they contained commas. Let's split each string element in names_list on the comma, and add the resulting lists to a new list named nested_list."
   ]
  },
  {
   "cell_type": "code",
   "execution_count": 19,
   "metadata": {},
   "outputs": [],
   "source": [
    "nested_list = []\n",
    "for names in names_list:\n",
    "    comma_list = names.split(',')\n",
    "    nested_list.append(comma_list)\n",
    "#print(nested_list) \n"
   ]
  },
  {
   "cell_type": "code",
   "execution_count": 22,
   "metadata": {},
   "outputs": [
    {
     "data": {
      "text/plain": [
       "list"
      ]
     },
     "execution_count": 22,
     "metadata": {},
     "output_type": "execute_result"
    }
   ],
   "source": [
    "type(nested_list)"
   ]
  },
  {
   "cell_type": "markdown",
   "metadata": {},
   "source": [
    "#### 3. Convert Numerical Values\n",
    "You now have a list of lists assigned to nested_list, where each inner list contains string elements. The second element (the estimated number of people with that name) in each list is a decimal value that you should convert to a float. By converting these values to floats, you'll be able to perform computations on them and analyze the data."
   ]
  },
  {
   "cell_type": "markdown",
   "metadata": {},
   "source": [
    "Create an empty list and assign it to numerical_list.\n",
    "Write a for loop that iterates over nested_list. In the loop body:\n",
    "Retrieve the element at index 0 and assign it to a variable.\n",
    "Retrieve the element at index 1, convert it to a float, and assign it to a variable.\n",
    "Create a new list containing these two elements (in the same order).\n",
    "Use the append() method to add this new list to numerical_list.\n",
    "Finally, display the first five elements in numerical_list."
   ]
  },
  {
   "cell_type": "code",
   "execution_count": 45,
   "metadata": {},
   "outputs": [],
   "source": [
    "numerical_list = []\n",
    "for item in nested_list[:919]:\n",
    "    name = item[:1]\n",
    "    #name = item[1]\n",
    "    #total_name = float(item[2])\n",
    "    #sub_list = [name, total_name]\n",
    "    #numerical_list.append(sub_list)\n",
    "#print(numerical_list[:5]) "
   ]
  },
  {
   "cell_type": "markdown",
   "metadata": {},
   "source": [
    "#### 4. Create a new list of strings called thousand_or_greater that only contains the names shared by 1,000 people or more.\n",
    "\n"
   ]
  },
  {
   "cell_type": "code",
   "execution_count": 27,
   "metadata": {},
   "outputs": [],
   "source": [
    "thousand_or_greater = []\n",
    "for names in numerical_list:\n",
    "    population = names[1]\n",
    "    name = names[0]\n",
    "    if population >= 1000:\n",
    "        thousand_or_greater.append(name)\n",
    "#print(thousand_or_greater[:10])"
   ]
  }
 ],
 "metadata": {
  "kernelspec": {
   "display_name": "Python 3",
   "language": "python",
   "name": "python3"
  },
  "language_info": {
   "codemirror_mode": {
    "name": "ipython",
    "version": 2
   },
   "file_extension": ".py",
   "mimetype": "text/x-python",
   "name": "python",
   "nbconvert_exporter": "python",
   "pygments_lexer": "ipython2",
   "version": "2.7.14"
  }
 },
 "nbformat": 4,
 "nbformat_minor": 2
}
