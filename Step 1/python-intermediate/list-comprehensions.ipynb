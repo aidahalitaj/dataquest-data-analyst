{
 "cells": [
  {
   "cell_type": "markdown",
   "metadata": {
    "collapsed": true
   },
   "source": [
    "## List Comprehensions \n",
    "\n",
    "We'll continue to work with legislators.csv data set. In this mission, we'll use the data to find the most common names among U.S. legislators of each gender."
   ]
  },
  {
   "cell_type": "markdown",
   "metadata": {},
   "source": [
    "#### Enumerate\n",
    "Enumerate the ships list using a for loop and the enumerate() function.\n"
   ]
  },
  {
   "cell_type": "code",
   "execution_count": null,
   "metadata": {},
   "outputs": [],
   "source": [
    "ships = [\"Andrea Doria\", \"Titanic\", \"Lusitania\"]\n",
    "cars = [\"Ford Edsel\", \"Ford Pinto\", \"Yugo\"]\n",
    "\n",
    "for i, ship in enumerate(ships):\n",
    "    print(ship, cars[i])"
   ]
  }
 ],
 "metadata": {
  "kernelspec": {
   "display_name": "Python 2",
   "language": "python",
   "name": "python2"
  },
  "language_info": {
   "codemirror_mode": {
    "name": "ipython",
    "version": 2
   },
   "file_extension": ".py",
   "mimetype": "text/x-python",
   "name": "python",
   "nbconvert_exporter": "python",
   "pygments_lexer": "ipython2",
   "version": "2.7.6"
  }
 },
 "nbformat": 4,
 "nbformat_minor": 0
}
