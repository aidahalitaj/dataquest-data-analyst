{
 "cells": [
  {
   "cell_type": "markdown",
   "metadata": {
    "collapsed": true
   },
   "source": [
    "## List Comprehensions \n",
    "\n",
    "We'll continue to work with legislators.csv data set. In this mission, we'll use the data to find the most common names among U.S. legislators of each gender."
   ]
  },
  {
   "cell_type": "code",
   "execution_count": 26,
   "metadata": {},
   "outputs": [],
   "source": [
    "%run 'error-handling.ipynb'"
   ]
  },
  {
   "cell_type": "markdown",
   "metadata": {},
   "source": [
    "\n",
    "### Enumerate"
   ]
  },
  {
   "cell_type": "code",
   "execution_count": null,
   "metadata": {
    "collapsed": true
   },
   "outputs": [],
   "source": [
    "# Enumerate the ships list using a for loop and the enumerate() function.\n",
    "ships = [\"Andrea Doria\", \"Titanic\", \"Lusitania\"]\n",
    "cars = [\"Ford Edsel\", \"Ford Pinto\", \"Yugo\"]\n",
    "for i, ship in enumerate(ships):\n",
    "    print(ship, cars[i])"
   ]
  },
  {
   "cell_type": "markdown",
   "metadata": {},
   "source": [
    "### Adding columns"
   ]
  },
  {
   "cell_type": "code",
   "execution_count": null,
   "metadata": {
    "collapsed": true
   },
   "outputs": [],
   "source": [
    "# Loop through each row in things using the enumerate() function.\n",
    "things = [[\"apple\", \"monkey\"], [\"orange\", \"dog\"], [\"banana\", \"cat\"]]\n",
    "trees = [\"cedar\", \"maple\", \"fig\"]\n",
    "for i, thing in enumerate(things):\n",
    "    thing.append(trees[i])"
   ]
  },
  {
   "cell_type": "markdown",
   "metadata": {},
   "source": [
    "### List comprehensions"
   ]
  },
  {
   "cell_type": "code",
   "execution_count": null,
   "metadata": {
    "collapsed": true
   },
   "outputs": [],
   "source": [
    "# Use list comprehension to create a new list called apple_prices_doubled,\n",
    "# where you multiply each item in apple_prices by 2.\n",
    "# Use list comprehension to create a new list called apple_prices_lowered, \n",
    "# where you subtract 100 from each item in apple_prices.\n",
    "apple_prices = [100, 101, 102, 105]\n",
    "apple_prices_doubled = [apple * 2 for apple in apple_prices]\n",
    "apple_prices_lowered = [apple - 100 for apple in apple_prices]"
   ]
  },
  {
   "cell_type": "markdown",
   "metadata": {},
   "source": [
    "### Counting female names"
   ]
  },
  {
   "cell_type": "markdown",
   "metadata": {},
   "source": [
    "\n",
    "* Create an empty dictionary called name_counts.\n",
    "    * Loop through each row in legislators.\n",
    "       - If the gender column of the row equals F and the year column is greater than 1940:\n",
    "            - Assign the first_name column of the row to the variable name.\n",
    "       - If name is in name_counts:\n",
    "           - Add 1 to the value associated with name in name_counts.\n",
    "       - If name isn't in name_counts:\n",
    "           - Set the value associated with name in name_counts to 1.\n",
    "\n",
    "* When the loop finishes, name_counts should contain each unique name in the first_name column of legislators as a key, and the corresponding number of times it appeared as the value.\n"
   ]
  },
  {
   "cell_type": "markdown",
   "metadata": {},
   "source": [
    "#### legislators to df"
   ]
  },
  {
   "cell_type": "code",
   "execution_count": 80,
   "metadata": {},
   "outputs": [
    {
     "data": {
      "text/html": [
       "<div>\n",
       "<style>\n",
       "    .dataframe thead tr:only-child th {\n",
       "        text-align: right;\n",
       "    }\n",
       "\n",
       "    .dataframe thead th {\n",
       "        text-align: left;\n",
       "    }\n",
       "\n",
       "    .dataframe tbody tr th {\n",
       "        vertical-align: top;\n",
       "    }\n",
       "</style>\n",
       "<table border=\"1\" class=\"dataframe\">\n",
       "  <thead>\n",
       "    <tr style=\"text-align: right;\">\n",
       "      <th></th>\n",
       "      <th>last_name</th>\n",
       "      <th>first_name</th>\n",
       "      <th>birthday</th>\n",
       "      <th>gender</th>\n",
       "      <th>type</th>\n",
       "      <th>state</th>\n",
       "      <th>party</th>\n",
       "      <th>birth_year</th>\n",
       "    </tr>\n",
       "  </thead>\n",
       "  <tbody>\n",
       "    <tr>\n",
       "      <th>0</th>\n",
       "      <td>Bassett</td>\n",
       "      <td>Richard</td>\n",
       "      <td>1745-04-02</td>\n",
       "      <td>M</td>\n",
       "      <td>sen</td>\n",
       "      <td>DE</td>\n",
       "      <td>Anti-Administration</td>\n",
       "      <td>1745.0</td>\n",
       "    </tr>\n",
       "  </tbody>\n",
       "</table>\n",
       "</div>"
      ],
      "text/plain": [
       "  last_name first_name    birthday gender type state                party  \\\n",
       "0   Bassett    Richard  1745-04-02      M  sen    DE  Anti-Administration   \n",
       "\n",
       "   birth_year  \n",
       "0      1745.0  "
      ]
     },
     "execution_count": 80,
     "metadata": {},
     "output_type": "execute_result"
    }
   ],
   "source": [
    "df = legislators\n",
    "df[:1]"
   ]
  },
  {
   "cell_type": "code",
   "execution_count": 52,
   "metadata": {},
   "outputs": [
    {
     "name": "stdout",
     "output_type": "stream",
     "text": [
      "{'Enid': 1, 'Lynn': 1, 'Karen': 2, 'Jennifer': 1, 'Denise': 1, 'Katherine': 1, 'Melissa': 2, 'Blanche': 1, 'Cynthia': 1, 'Anne': 1, 'Shelley': 2, 'Nancy': 1, 'Hillary': 1, 'Barbara': 1, 'Jo Ann': 2, 'Thelma': 1, 'Stephanie': 2, 'Marilyn': 1, 'Deborah': 2, 'Heather': 1, 'Virginia': 1, 'Kathleen': 2, 'Mary': 2, 'Carolyn': 1, 'Mary Jo': 1, 'Suzanne': 1, 'Betsy': 1, 'Hilda': 1, 'Ellen': 1, 'Gabrielle': 1, 'Jane': 1, 'Kay': 1, 'Olympia': 1, 'Sandy': 1, 'Ann Marie': 1, 'Nan': 1, 'Sue': 1, 'Laura': 1, 'Jean': 1, 'Betty': 1}\n"
     ]
    }
   ],
   "source": [
    "# name_counts should contain each unique name in the first_name column of legislators as a key,\n",
    "# and the corresponding number of times it appeared as the value\n",
    "name_counts = {}\n",
    "for index, row in df.iterrows():\n",
    "    gender = row[3]\n",
    "    year = row[7]\n",
    "    if gender == \"F\" and year > 1940:\n",
    "        name = row[1]\n",
    "        if name in name_counts:\n",
    "            name_counts[name] = name_counts[name] + 1\n",
    "        else:\n",
    "            name_counts[name] = 1\n",
    "            \n",
    "print(name_counts)"
   ]
  },
  {
   "cell_type": "markdown",
   "metadata": {
    "collapsed": true
   },
   "source": [
    "### Comparing with None"
   ]
  },
  {
   "cell_type": "code",
   "execution_count": 55,
   "metadata": {},
   "outputs": [
    {
     "name": "stdout",
     "output_type": "stream",
     "text": [
      "[False, False, False, False, False, True]\n"
     ]
    }
   ],
   "source": [
    "# checks should be a list of Booleans indicating whether or not the corresponding items in values\n",
    "# are not None and greater than 30\n",
    "values = [None, 10, 20, 30, None, 50]\n",
    "checks = []\n",
    "value = None\n",
    "for value in values:\n",
    "    check = value is not None and value > 30\n",
    "    checks.append(check)\n",
    "    \n",
    "print(checks)"
   ]
  },
  {
   "cell_type": "markdown",
   "metadata": {},
   "source": [
    "### Highest female name count"
   ]
  },
  {
   "cell_type": "code",
   "execution_count": 62,
   "metadata": {},
   "outputs": [
    {
     "name": "stdout",
     "output_type": "stream",
     "text": [
      "2\n"
     ]
    }
   ],
   "source": [
    "# max_value will contain the largest value in name_counts\n",
    "max_value = None\n",
    "for key in name_counts:\n",
    "    count = name_counts[key]\n",
    "    if max_value is None or count > max_value:\n",
    "        max_value = count\n",
    "\n",
    "print(max_value)"
   ]
  },
  {
   "cell_type": "markdown",
   "metadata": {},
   "source": [
    "### The items method"
   ]
  },
  {
   "cell_type": "code",
   "execution_count": 63,
   "metadata": {},
   "outputs": [
    {
     "name": "stdout",
     "output_type": "stream",
     "text": [
      "orchid flower\n",
      "cedar tree\n",
      "maple tree\n"
     ]
    }
   ],
   "source": [
    "# Use the items() method to iterate through the keys and values in plant_types\n",
    "# Print each key in plant_types\n",
    "# Print each value in plant_types\n",
    "plant_types = {\"orchid\": \"flower\", \"cedar\": \"tree\", \"maple\": \"tree\"}\n",
    "for key, value in plant_types.items():\n",
    "    print(key, value)"
   ]
  },
  {
   "cell_type": "markdown",
   "metadata": {},
   "source": [
    "### Finding the most common female names"
   ]
  },
  {
   "cell_type": "code",
   "execution_count": 67,
   "metadata": {},
   "outputs": [
    {
     "name": "stdout",
     "output_type": "stream",
     "text": [
      "['Karen', 'Melissa', 'Shelley', 'Jo Ann', 'Stephanie', 'Deborah', 'Kathleen', 'Mary']\n"
     ]
    }
   ],
   "source": [
    "# As we learned on a previous screen, the most common female names occur two times in name_counts. \n",
    "# Therefore, we want to extract any keys in name_counts that have the value 2\n",
    "\n",
    "top_female_names = []\n",
    "for name, value in name_counts.items():\n",
    "    if value == 2:\n",
    "        top_female_names.append(name)\n",
    "        \n",
    "print(top_female_names)"
   ]
  },
  {
   "cell_type": "markdown",
   "metadata": {},
   "source": [
    "### Finding the most common male names"
   ]
  },
  {
   "cell_type": "code",
   "execution_count": 77,
   "metadata": {},
   "outputs": [
    {
     "name": "stdout",
     "output_type": "stream",
     "text": [
      "['John']\n"
     ]
    }
   ],
   "source": [
    "# Now that we know how to find the most common female names, we can repeat the same process for male names.\n",
    "male_name_counts = {}\n",
    "for index,row in df.iterrows():\n",
    "    gender = row[3]\n",
    "    year = row[7]\n",
    "    if gender == \"M\" and year > 1940:\n",
    "        name = row[1]\n",
    "        if name in male_name_counts:\n",
    "            male_name_counts[name] = male_name_counts[name] + 1\n",
    "        else:\n",
    "            male_name_counts[name] = 1\n",
    "            \n",
    "highest_male_count = None \n",
    "for key, value in male_name_counts.items():\n",
    "    if highest_male_count is None or value > highest_male_count :\n",
    "        highest_male_count = value\n",
    "        \n",
    "top_male_names = []    \n",
    "for key, value in male_name_counts.items():\n",
    "    if highest_male_count == value:\n",
    "        top_male_names.append(key)\n",
    "        \n",
    "print(top_male_names)"
   ]
  }
 ],
 "metadata": {
  "kernelspec": {
   "display_name": "Python 2",
   "language": "python",
   "name": "python2"
  },
  "language_info": {
   "codemirror_mode": {
    "name": "ipython",
    "version": 3
   },
   "file_extension": ".py",
   "mimetype": "text/x-python",
   "name": "python",
   "nbconvert_exporter": "python",
   "pygments_lexer": "ipython3",
   "version": "3.6.2"
  }
 },
 "nbformat": 4,
 "nbformat_minor": 1
}
