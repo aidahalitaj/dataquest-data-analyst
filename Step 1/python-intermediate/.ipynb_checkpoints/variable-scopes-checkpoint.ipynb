{
 "cells": [
  {
   "cell_type": "markdown",
   "metadata": {},
   "source": [
    "# Variable Scopes"
   ]
  },
  {
   "cell_type": "markdown",
   "metadata": {},
   "source": [
    "## The Data Set\n",
    "We'll be using a data set on student loan defaults in the United States.\n",
    "Each row of our dataset represents a single university, and contains information about the number of its students who later defaulted on their loans."
   ]
  },
  {
   "cell_type": "code",
   "execution_count": 74,
   "metadata": {},
   "outputs": [],
   "source": [
    "import csv\n",
    "with open('/home/aida/Desktop/Dataquest/Step 1/python-intermediate/data/student_loan_defaults.csv') as csvfile:\n",
    "    filereader = csv.reader(csvfile)\n",
    "    loan = list(filereader)\n",
    "loan = loan[1:]"
   ]
  },
  {
   "cell_type": "code",
   "execution_count": 91,
   "metadata": {},
   "outputs": [],
   "source": [
    "principal = []\n",
    "borrower = []\n",
    "for row in loan:\n",
    "    institution = row[2]\n",
    "    city = row[4]\n",
    "    state = row[5]\n",
    "    borrower_default_count_240 = row[10]\n",
    "    borrower_default_count_240 = int(borrower_default_count_240)\n",
    "    borrower.append(borrower_default_count_240)\n",
    "    \n",
    "    principal_outstanding_240 = row[11]\n",
    "    principal_outstanding_240 = int(principal_outstanding_240)\n",
    "    principal.append(principal_outstanding_240)"
   ]
  },
  {
   "cell_type": "markdown",
   "metadata": {},
   "source": [
    "## Scopes\n",
    "\n",
    "The global scope is whatever happens outside of a function. Anything that happens inside a function is in a local scope. There's only one global scope, but each function creates its own local scope."
   ]
  },
  {
   "cell_type": "markdown",
   "metadata": {},
   "source": [
    "    Instructions\n",
    "- Use the find_average function to find the average of principal_outstanding_240, and assign the result to the variable average.\n",
    "\n",
    "- Afterwards, print the variable total to verify that it's unchanged in the global scope."
   ]
  },
  {
   "cell_type": "code",
   "execution_count": 93,
   "metadata": {
    "collapsed": true
   },
   "outputs": [],
   "source": [
    "# convert string elements of list to integers\n",
    "# borrower_default_count_240 = list(map(int, borrower_default_count_240))\n",
    "# principal_outstanding_240 = list(map(int, principal_outstanding_240))"
   ]
  },
  {
   "cell_type": "code",
   "execution_count": 94,
   "metadata": {},
   "outputs": [
    {
     "name": "stdout",
     "output_type": "stream",
     "text": [
      "499833\n"
     ]
    }
   ],
   "source": [
    "def find_average(column):\n",
    "    length = len(column)\n",
    "    total = sum(column)\n",
    "    return total / length\n",
    "\n",
    "total = sum(borrower)\n",
    "average = find_average(principal)\n",
    "print(total)"
   ]
  },
  {
   "cell_type": "markdown",
   "metadata": {},
   "source": [
    "## Scope Isolation\n",
    "\n",
    "Local scopes aren't just isolated from the global scope - they're also isolated from every other local scope. Our code creates a local scope when it calls a function, and destroys it when the function finishes running. Calling the same function twice will create two separate local scopes. This ensures that any variables our code creates inside the function disappear when the function finishes running, and don't affect the rest of the program."
   ]
  },
  {
   "cell_type": "markdown",
   "metadata": {},
   "source": [
    "    Instruction\n",
    "- Calculate the average of principal with the find_average() function, and assign the result to the variable average.\n",
    "- Calculate the length of principal with the find_length() function, and assign the result to the variable principal_length.\n",
    "    \n",
    "Afterwards, verify that the variable length is unchanged in the global scope.\n",
    "\n",
    "Also verify that changing the order in which you call find_average and find_length doesn't alter the results."
   ]
  },
  {
   "cell_type": "code",
   "execution_count": 97,
   "metadata": {},
   "outputs": [
    {
     "name": "stdout",
     "output_type": "stream",
     "text": [
      "563408.6590785908 1845 1845\n"
     ]
    }
   ],
   "source": [
    "def find_length(column):\n",
    "    length = len(column)\n",
    "    return length\n",
    "average = find_average(principal)\n",
    "principal_length = find_length(principal)\n",
    "length = len(borrower)\n",
    "print(average, principal_length, length)"
   ]
  },
  {
   "cell_type": "markdown",
   "metadata": {},
   "source": [
    "## Scope Inhertiance\n",
    "\n",
    "When our code uses a variable name in a local scope that it hasn't defined there yet, the Python interpreter will check whether the variable exists in the global scope."
   ]
  },
  {
   "cell_type": "markdown",
   "metadata": {},
   "source": [
    "    Instructions\n",
    "- Find the average of principal_outstanding_240 with the find_average() function, and assign the result to the variable average.\n",
    "\n",
    "- Verify that the find_average() function used the value length from the global scope."
   ]
  },
  {
   "cell_type": "code",
   "execution_count": 99,
   "metadata": {},
   "outputs": [
    {
     "data": {
      "text/plain": [
       "103948897.6"
      ]
     },
     "execution_count": 99,
     "metadata": {},
     "output_type": "execute_result"
    }
   ],
   "source": [
    "def find_average(column):\n",
    "    total = sum(column)\n",
    "    # In this function, we are going to pretend that we forgot to calculate the length\n",
    "    return total / length\n",
    "\n",
    "length = 10\n",
    "average = find_average(principal)\n",
    "average"
   ]
  },
  {
   "cell_type": "markdown",
   "metadata": {},
   "source": [
    "## Inheritance Limits\n",
    "\n",
    "There are limits to how much we can work with global scope variables inside a local scope. These limits allow functions to be reusable, and prevent them from changing how your script behaves.\n",
    "\n",
    "While we can access the value of a global scope variable inside a local scope, we can't change the value of that variable."
   ]
  },
  {
   "cell_type": "markdown",
   "metadata": {},
   "source": [
    "## Global Variables\n",
    "\n",
    "Global variables are variables that are available across all scopes. We can access and change the value of a global variable inside any global scope or local scope.\n",
    "\n",
    "While Global variables can sometimes be handy, the developer community generally doesn't recommend using them. That's because they make functions dependent on the value of variables in the global scope, and prevent them from being reusable in any situation."
   ]
  },
  {
   "cell_type": "markdown",
   "metadata": {},
   "source": [
    "    Instructions\n",
    "    \n",
    "- Create a new function:\n",
    "   - Make a global variable b inside the function.\n",
    "   - Assign the value 20 to b inside the function.\n",
    "- Call the function.\n",
    "- Print out b.\n"
   ]
  },
  {
   "cell_type": "code",
   "execution_count": 102,
   "metadata": {},
   "outputs": [
    {
     "name": "stdout",
     "output_type": "stream",
     "text": [
      "20\n"
     ]
    }
   ],
   "source": [
    "def new_function():\n",
    "    global b\n",
    "    b = 20\n",
    "    \n",
    "new_function()\n",
    "print(b)"
   ]
  }
 ],
 "metadata": {
  "kernelspec": {
   "display_name": "Python 3",
   "language": "python",
   "name": "python3"
  },
  "language_info": {
   "codemirror_mode": {
    "name": "ipython",
    "version": 2
   },
   "file_extension": ".py",
   "mimetype": "text/x-python",
   "name": "python",
   "nbconvert_exporter": "python",
   "pygments_lexer": "ipython2",
   "version": "2.7.14"
  }
 },
 "nbformat": 4,
 "nbformat_minor": 2
}
