{
 "cells": [
  {
   "cell_type": "markdown",
   "metadata": {},
   "source": [
    "# Computation with NumPy\n",
    "Learn how to select elements in arrays and perform computations with NumPy. <br>\n",
    "We will work with world_alcohol.csv, which records per capita alcohol consumption for each country. Our goal is to determine which country consumes the most alcohol per capita."
   ]
  },
  {
   "cell_type": "markdown",
   "metadata": {},
   "source": [
    "#### Import another notebook into this one"
   ]
  },
  {
   "cell_type": "code",
   "execution_count": 108,
   "metadata": {},
   "outputs": [],
   "source": [
    "\n",
    "%%capture\n",
    "%run getting-started-with-numpy.ipynb"
   ]
  },
  {
   "cell_type": "markdown",
   "metadata": {},
   "source": [
    "### Arrays Comparison\n",
    "    Description\n",
    "- Extract the third column in world_alcohol, and compare it to the string Canada. \n",
    "- Extract the first column in world_alcohol, and compare it to the string 1984. \n"
   ]
  },
  {
   "cell_type": "code",
   "execution_count": 109,
   "metadata": {},
   "outputs": [],
   "source": [
    "countries_canada = (world_alcohol[:, 2] == 'Canada')\n",
    "years_1984 = (world_alcohol[:, 0] == '1984')"
   ]
  },
  {
   "cell_type": "markdown",
   "metadata": {},
   "source": [
    "### Selecting Element\n",
    "    Description\n",
    "- Compare the third column of world_alcohol to the string Algeria.\n",
    "- Select only the rows in world_alcohol where country_is_algeria is True."
   ]
  },
  {
   "cell_type": "code",
   "execution_count": 70,
   "metadata": {},
   "outputs": [],
   "source": [
    "country_is_algeria = (world_alcohol[:, 2] == 'Algeria')\n",
    "country_algeria = (world_alcohol[country_is_algeria, :])"
   ]
  },
  {
   "cell_type": "code",
   "execution_count": 71,
   "metadata": {},
   "outputs": [
    {
     "name": "stdout",
     "output_type": "stream",
     "text": [
      "[False False False ... False False False]\n",
      "(20, 5)\n"
     ]
    }
   ],
   "source": [
    "print(country_is_algeria)\n",
    "print(country_algeria.shape)"
   ]
  },
  {
   "cell_type": "markdown",
   "metadata": {},
   "source": [
    "### Comparisons with Multiple Conditions\n",
    "    Description\n",
    "- Perform a comparison with multiple conditions, and join the conditions with &.\n",
    "      - Compare the first column of world_alcohol to the string 1986.\n",
    "      - Compare the third column of world_alcohol to the string Algeria.\n",
    "      - Enclose each condition in parentheses, and join the conditions with &.\n",
    "      - Assign the result to is_algeria_and_1986.\n",
    "- Use is_algeria_and_1986 to select rows from world_alcohol.\n",
    "- Assign the rows that is_algeria_and_1986 selects to rows_with_algeria_and_1986.\n"
   ]
  },
  {
   "cell_type": "code",
   "execution_count": 72,
   "metadata": {},
   "outputs": [],
   "source": [
    "is_algeria_and_1986 = (world_alcohol[:, 0] == '1986') & (world_alcohol[:, 2] == 'Algeria')\n",
    "rows_with_algeria_and_1986 = world_alcohol[is_algeria_and_1986, :]"
   ]
  },
  {
   "cell_type": "code",
   "execution_count": 73,
   "metadata": {},
   "outputs": [],
   "source": [
    "# shembull\n",
    "matrix = np.array([\n",
    "            [5, 10, 15], \n",
    "            [20, 25, 30],\n",
    "            [35, 40, 45]\n",
    "         ])"
   ]
  },
  {
   "cell_type": "code",
   "execution_count": 74,
   "metadata": {},
   "outputs": [
    {
     "data": {
      "text/plain": [
       "array([10, 25, 40])"
      ]
     },
     "execution_count": 74,
     "metadata": {},
     "output_type": "execute_result"
    }
   ],
   "source": [
    "second_column_25 = matrix[:, 1] == 25 # po e merr kolonen e dyte po e shnderron ne nje rresht\n",
    "second_column\n",
    "matrix[:, 1]"
   ]
  },
  {
   "cell_type": "code",
   "execution_count": 75,
   "metadata": {},
   "outputs": [
    {
     "data": {
      "text/plain": [
       "array([[ 5, 10, 15],\n",
       "       [20, 10, 30],\n",
       "       [35, 40, 45]])"
      ]
     },
     "execution_count": 75,
     "metadata": {},
     "output_type": "execute_result"
    }
   ],
   "source": [
    "matrix[second_column_25, 1] = 10 # ne kolonen/rreshtin qe e gjetem me heret kudo qe vlera eshte true e zev me 10\n",
    "matrix"
   ]
  },
  {
   "cell_type": "markdown",
   "metadata": {},
   "source": [
    "### Replace Values\n",
    "    Description\n",
    "- Replace all instances of the string 1986 in the first column of world_alcohol with the string 2014.\n",
    "- Replace all instances of the string Wine in the fourth column of world_alcohol with the string Grog."
   ]
  },
  {
   "cell_type": "code",
   "execution_count": 76,
   "metadata": {},
   "outputs": [],
   "source": [
    "first_column = world_alcohol[:, 0] == '1986'\n",
    "replace_year_value = world_alcohol[first_column, 0] = '2014'\n",
    "\n",
    "\n",
    "fourth_column = world_alcohol[:, 3] == 'Wine'\n",
    "replace_beverage_value = world_alcohol[fourth_column, 3] = 'Grog'"
   ]
  },
  {
   "cell_type": "code",
   "execution_count": 77,
   "metadata": {},
   "outputs": [
    {
     "name": "stdout",
     "output_type": "stream",
     "text": [
      "[['2014' 'Western Pacific' 'Viet Nam' 'Grog' '0']\n",
      " ['2014' 'Americas' 'Uruguay' 'Other' '0.5']\n",
      " ['1985' 'Africa' \"Cte d'Ivoire\" 'Grog' '1.62']\n",
      " ...\n",
      " ['2014' 'Europe' 'Switzerland' 'Spirits' '2.54']\n",
      " ['1987' 'Western Pacific' 'Papua New Guinea' 'Other' '0']\n",
      " ['2014' 'Africa' 'Swaziland' 'Other' '5.15']]\n"
     ]
    }
   ],
   "source": [
    "print(world_alcohol)"
   ]
  },
  {
   "cell_type": "markdown",
   "metadata": {},
   "source": [
    "### Replacing Empty Strings\n",
    "    Description\n",
    "- Compare all the items in the fifth column of world_alcohol with an empty string ''. Assign the result to is_value_empty.\n",
    "- Select all the values in the fifth column of world_alcohol where is_value_empty is True, and replace them with the string 0.\n"
   ]
  },
  {
   "cell_type": "code",
   "execution_count": 78,
   "metadata": {},
   "outputs": [],
   "source": [
    "is_value_empty = world_alcohol[:,4] == ''\n",
    "world_alcohol[is_value_empty, 4] = 0"
   ]
  },
  {
   "cell_type": "markdown",
   "metadata": {},
   "source": [
    "### Converting Data Types\n",
    "    Description\n",
    "- Extract the fifth column from world_alcohol, and assign it to the variable alcohol_consumption.\n",
    "- Use the astype() method to convert alcohol_consumption to the float data type.\n"
   ]
  },
  {
   "cell_type": "code",
   "execution_count": 81,
   "metadata": {},
   "outputs": [],
   "source": [
    "alcohol_consumption = world_alcohol[:, 4]\n",
    "alcohol_consumption = np.asfarray(alcohol_consumption, float)"
   ]
  },
  {
   "cell_type": "markdown",
   "metadata": {},
   "source": [
    "### Computing with NumPy\n",
    "    Description\n",
    "- Use the sum() method to calculate the sum of the values in alcohol_consumption.\n",
    "- Use the mean() method to calculate the average of the values in alcohol_consumption."
   ]
  },
  {
   "cell_type": "code",
   "execution_count": 83,
   "metadata": {},
   "outputs": [],
   "source": [
    "total_alcohol = alcohol_consumption.sum()\n",
    "average_alcohol = alcohol_consumption.mean()"
   ]
  },
  {
   "cell_type": "markdown",
   "metadata": {},
   "source": [
    "### Total Annual Alcohol Consumption\n",
    "    Description\n",
    "- Create a matrix called that only contains the rows in world_alcohol where the first column is the string 1987 and the third column is the string Canada.\n",
    "- Extract the fifth column of canada_1987, replace any empty strings ('') with the string 0, and convert the column to the float data type. Assign the result to canada_alcohol.\n",
    "- Compute the sum of canada_alcohol. Assign the result to total_canadian_drinking.\n"
   ]
  },
  {
   "cell_type": "code",
   "execution_count": 126,
   "metadata": {},
   "outputs": [],
   "source": [
    "is_canada_1987 = (world_alcohol[:, 0] == '1987') & (world_alcohol[:, 2] == 'Canada')\n",
    "canada_1987 = world_alcohol[is_canada_1987, :]\n",
    "canada_alcohol = canada_1987[:,4] \n",
    "is_fifth_column_empty = canada_alcohol == ''\n",
    "canada_alcohol[is_fifth_column_empty] = '0'\n",
    "canada_alcohol = np.asfarray(canada_alcohol, float)\n",
    "total_canadian_drinking = canada_alcohol.sum()"
   ]
  },
  {
   "cell_type": "code",
   "execution_count": 159,
   "metadata": {},
   "outputs": [
    {
     "data": {
      "text/plain": [
       "15.080000000000002"
      ]
     },
     "execution_count": 159,
     "metadata": {},
     "output_type": "execute_result"
    }
   ],
   "source": [
    "# we know how to calculate the average consumption of all types of alcohol for a single country and year\n",
    "is_slovenia_alcohol = (world_alcohol[:, 2] == 'Slovenia') & (world_alcohol[:, 0] == '1985')\n",
    "slovenia_1985 = world_alcohol[is_slovenia_alcohol, :]\n",
    "slovenia_alcohol = slovenia_1985[:, 4]\n",
    "is_slovenia_alcohol_empty = slovenia_alcohol == ''\n",
    "slovenia_alcohol[is_slovenia_alcohol_empty] = '0'\n",
    "slovenia_alcohol = np.asfarray(slovenia_alcohol, float)\n",
    "total_slovenia_alcohol = slovenia_alcohol.sum()\n",
    "total_slovenia_alcohol"
   ]
  },
  {
   "cell_type": "markdown",
   "metadata": {},
   "source": [
    "### Calculating Consumption for Each Country\n",
    "Scale up the process and make the same calculation for all countries in a given year.\n"
   ]
  },
  {
   "cell_type": "code",
   "execution_count": 206,
   "metadata": {},
   "outputs": [],
   "source": [
    "totals = {}\n",
    "is_year = world_alcohol[:, 0] == '1989'\n",
    "year = world_alcohol[is_year, :]\n",
    "countries = world_alcohol[:, 2].tolist()\n",
    "for country in countries:\n",
    "    is_country = year[:, 2] == country\n",
    "    country_consumption = year[is_country,:]\n",
    "    country_alcohol = country_consumption[:,4]\n",
    "    is_contry_alcohol_empty = country_alcohol == ''\n",
    "    country_alcohol[is_contry_alcohol_empty] = '0'\n",
    "    country_alcohol = np.asfarray(country_alcohol, float)\n",
    "    total_country_alcohol = country_alcohol.sum()\n",
    "    totals[country] = total_country_alcohol"
   ]
  },
  {
   "cell_type": "markdown",
   "metadata": {},
   "source": [
    "### Finding the Country that Drinks the Most\n",
    "Now that we've computed total alcohol consumption for each country in 1989, we can loop through the totals dictionary to find the country with the highest value."
   ]
  },
  {
   "cell_type": "code",
   "execution_count": 204,
   "metadata": {},
   "outputs": [
    {
     "name": "stdout",
     "output_type": "stream",
     "text": [
      "('Hungary', 16.29)\n"
     ]
    }
   ],
   "source": [
    "highest_key = max(totals, key = totals.get)\n",
    "highest_value = totals[max(totals, key = totals.get)]\n",
    "print(highest_key, highest_value)"
   ]
  },
  {
   "cell_type": "code",
   "execution_count": 205,
   "metadata": {},
   "outputs": [
    {
     "name": "stdout",
     "output_type": "stream",
     "text": [
      "('Hungary', 16.29)\n"
     ]
    }
   ],
   "source": [
    "totals\n",
    "highest_value = 0\n",
    "highest_key = None\n",
    "for country in totals:\n",
    "    consumption = totals[country]\n",
    "    if consumption > highest_value:\n",
    "        highest_value = consumption\n",
    "        highest_key = country \n",
    "print(highest_key, highest_value)"
   ]
  }
 ],
 "metadata": {
  "kernelspec": {
   "display_name": "Python 3",
   "language": "python",
   "name": "python3"
  },
  "language_info": {
   "codemirror_mode": {
    "name": "ipython",
    "version": 2
   },
   "file_extension": ".py",
   "mimetype": "text/x-python",
   "name": "python",
   "nbconvert_exporter": "python",
   "pygments_lexer": "ipython2",
   "version": "2.7.14"
  }
 },
 "nbformat": 4,
 "nbformat_minor": 2
}
