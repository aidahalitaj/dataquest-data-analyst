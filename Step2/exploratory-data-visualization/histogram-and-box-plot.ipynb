{
 "cells": [
  {
   "cell_type": "markdown",
   "metadata": {},
   "source": [
    "# Histogram and Box Plot"
   ]
  },
  {
   "cell_type": "code",
   "execution_count": 20,
   "metadata": {},
   "outputs": [],
   "source": [
    "import pandas as pd\n",
    "import matplotlib.pyplot as plt\n",
    "%matplotlib inline"
   ]
  },
  {
   "cell_type": "code",
   "execution_count": 4,
   "metadata": {},
   "outputs": [
    {
     "name": "stdout",
     "output_type": "stream",
     "text": [
      "                             FILM  RT_user_norm  Metacritic_user_nom  \\\n",
      "0  Avengers: Age of Ultron (2015)           4.3                 3.55   \n",
      "1               Cinderella (2015)           4.0                 3.75   \n",
      "2                  Ant-Man (2015)           4.5                 4.05   \n",
      "3          Do You Believe? (2015)           4.2                 2.35   \n",
      "4   Hot Tub Time Machine 2 (2015)           1.4                 1.70   \n",
      "\n",
      "   IMDB_norm  Fandango_Ratingvalue  \n",
      "0       3.90                   4.5  \n",
      "1       3.55                   4.5  \n",
      "2       3.90                   4.5  \n",
      "3       2.70                   4.5  \n",
      "4       2.55                   3.0  \n"
     ]
    }
   ],
   "source": [
    "reviews = pd.read_csv('/home/aida/Desktop/Dataquest/Step2/exploratory-data-visualization/data/fandango_scores.csv')\n",
    "cols = ['FILM', 'RT_user_norm', 'Metacritic_user_nom', 'IMDB_norm', 'Fandango_Ratingvalue']\n",
    "norm_reviews = reviews[cols]\n",
    "print(norm_reviews.head())"
   ]
  },
  {
   "cell_type": "markdown",
   "metadata": {},
   "source": [
    "### Frequency Distribution\n",
    "Let's first compare the frequency distributions of user ratings from Fandango with those from IMDB using tables."
   ]
  },
  {
   "cell_type": "code",
   "execution_count": 18,
   "metadata": {},
   "outputs": [],
   "source": [
    "fandango_distribution = norm_reviews['IMDB_norm'].value_counts().sort_index()\n",
    "imdb_distribution = norm_reviews['Fandango_Ratingvalue'].value_counts().sort_index()\n",
    "#print(fandango_distribution, imdb_distribution)"
   ]
  },
  {
   "cell_type": "markdown",
   "metadata": {},
   "source": [
    "### Histogram in Matplotlib\n",
    "While histograms use bars whose lengths are scaled to the values they're representing, they differ from bar plots in a few ways. Histograms help us visualize continuous values using bins while bar plots help us visualize discrete value"
   ]
  },
  {
   "cell_type": "code",
   "execution_count": 33,
   "metadata": {},
   "outputs": [
    {
     "data": {
      "text/plain": [
       "(array([ 0.,  0.,  0.,  0.,  0.,  9., 25., 43., 53., 16.]),\n",
       " array([0. , 0.5, 1. , 1.5, 2. , 2.5, 3. , 3.5, 4. , 4.5, 5. ]),\n",
       " <a list of 10 Patch objects>)"
      ]
     },
     "execution_count": 33,
     "metadata": {},
     "output_type": "execute_result"
    },
    {
     "data": {
      "image/png": "[encoded data removed]",
      "text/plain": [
       "<matplotlib.figure.Figure at 0x7fa5727ea1d0>"
      ]
     },
     "metadata": {},
     "output_type": "display_data"
    }
   ],
   "source": [
    "fig, ax = plt.subplots()\n",
    "ax.hist(norm_reviews['Fandango_Ratingvalue'], range=(0,5))"
   ]
  },
  {
   "cell_type": "markdown",
   "metadata": {},
   "source": [
    "### Comparing Histograms\n",
    "For the subplot associated with ax1:\n",
    "\n",
    "    Generate a histogram of the values in the Fandango_Ratingvalue column using 20 bins and a range of 0 to 5.\n",
    "    Set the title to Distribution of Fandango Ratings.\n",
    "    \n",
    "For the subplot associated with ax3:\n",
    "\n",
    "    Generate a histogram of the values in the Metacritic_user_nom column using 20 bins and a range of 0 to 5.\n",
    "    Set the title to Distribution of Metacritic Ratings.\n",
    "\n",
    "For the subplot associated with ax4:\n",
    "\n",
    "    Generate a histogram of the values in the IMDB_norm column using 20 bins and a range of 0 to 5.\n",
    "    Set the title to Distribution of IMDB Ratings.\n",
    "\n",
    "\n",
    "\n"
   ]
  },
  {
   "cell_type": "code",
   "execution_count": 45,
   "metadata": {},
   "outputs": [
    {
     "data": {
      "text/plain": [
       "(0, 50)"
      ]
     },
     "execution_count": 45,
     "metadata": {},
     "output_type": "execute_result"
    },
    {
     "data": {
      "image/png": "[encoded data removed]",
      "text/plain": [
       "<matplotlib.figure.Figure at 0x7fa571a192d0>"
      ]
     },
     "metadata": {},
     "output_type": "display_data"
    }
   ],
   "source": [
    "fig = plt.figure(figsize=(5,20))\n",
    "ax1 = fig.add_subplot(4,1,1)\n",
    "ax2 = fig.add_subplot(4,1,2)\n",
    "ax3 = fig.add_subplot(4,1,3)\n",
    "ax4 = fig.add_subplot(4,1,4)\n",
    "\n",
    "ax1.hist(norm_reviews['Fandango_Ratingvalue'], bins = 20, range=(0,5))\n",
    "ax1.set_title('Distribution of Fandango Ratings')\n",
    "ax1.set_ylim(0, 50)\n",
    "\n",
    "ax2.hist(norm_reviews['Metacritic_user_nom'], 20, range=(0,5))\n",
    "ax2.set_title('Distribution of Metacritic Ratings')\n",
    "ax2.set_ylim(0,50)\n",
    "\n",
    "ax3.hist(norm_reviews['IMDB_norm'], 20, range=(0,5))\n",
    "ax3.set_title('Distribution of IMDB Ratings')\n",
    "ax3.set_ylim(0,50)\n",
    "\n",
    "ax4.hist(norm_reviews['RT_user_norm'], 20, range=(0,5))\n",
    "ax4.set_title('Distribution of Rotten Tomatoes Ratings')\n",
    "ax4.set_ylim(0,50)"
   ]
  },
  {
   "cell_type": "markdown",
   "metadata": {},
   "source": [
    "### Quartiles \n",
    "- While histograms allow us to visually estimate the percentage of ratings that fall into a range of bins, they don't allow us to easily understand how the top 25% or the bottom 25% of the ratings differ across the sites. The bottom 25% of values and top 25% of values both represent quartiles. The four quartiles divide the range of values into four regions where each region contains 1/4th of the total values. <br><br>\n",
    "\n",
    "- The two regions contained within the box in the middle make up the interquartile range, or IQR. The IQR is used to measure dispersion of the values. The ratio of the length of the box to the whiskers around the box helps us understand how values in the distribution are spread out.\n",
    "\n",
    "        Instructions\n",
    "- Create a single subplot and assign the returned Figure object to fig and the returned Axes object to ax.\n",
    "- Generate a box plot from the values in the RT_user_norm column.\n"
   ]
  },
  {
   "cell_type": "code",
   "execution_count": 55,
   "metadata": {},
   "outputs": [
    {
     "data": {
      "text/plain": [
       "[Text(0,0,u'Rotten Tomatoes')]"
      ]
     },
     "execution_count": 55,
     "metadata": {},
     "output_type": "execute_result"
    },
    {
     "data": {
      "image/png": "[encoded data removed]",
      "text/plain": [
       "<matplotlib.figure.Figure at 0x7fa571a3a250>"
      ]
     },
     "metadata": {},
     "output_type": "display_data"
    }
   ],
   "source": [
    "fix, ax = plt.subplots()\n",
    "ax.boxplot(norm_reviews['RT_user_norm'])\n",
    "ax.set_ylim(0,5)\n",
    "ax.set_xticklabels([\"Rotten Tomatoes\"])"
   ]
  },
  {
   "cell_type": "markdown",
   "metadata": {},
   "source": [
    "#### Findings\n",
    "From the box plot we generated using Rotten Tomatoes ratings, we can conclude that:\n",
    "\n",
    "    the bottom 25% of user ratings range from around 1 to 2.5\n",
    "    the top 25% of of user ratings range from around 4 to 4.6\n"
   ]
  },
  {
   "cell_type": "markdown",
   "metadata": {},
   "source": [
    "### Multiple Box Plots\n",
    "    Instructions\n",
    "Generate a box plot containing a box-and-whisker diagram for each column in num_cols.\n",
    "Set the x-axis tick labels to the column names in num_cols and rotate the ticks by 90 degrees.\n",
    "Set the y-axis limit to range from 0 to 5."
   ]
  },
  {
   "cell_type": "code",
   "execution_count": 66,
   "metadata": {},
   "outputs": [
    {
     "data": {
      "text/plain": [
       "(0, 5)"
      ]
     },
     "execution_count": 66,
     "metadata": {},
     "output_type": "execute_result"
    },
    {
     "data": {
      "image/png": "[encoded data removed]",
      "text/plain": [
       "<matplotlib.figure.Figure at 0x7fa57245af50>"
      ]
     },
     "metadata": {},
     "output_type": "display_data"
    }
   ],
   "source": [
    "fig, ax = plt.subplots()\n",
    "num_cols = ['RT_user_norm', 'Metacritic_user_nom', 'IMDB_norm', 'Fandango_Ratingvalue']\n",
    "ax.boxplot(norm_reviews[num_cols].values)\n",
    "ax.set_xticklabels(num_cols, rotation = 90)\n",
    "ax.set_ylim(0,5)"
   ]
  },
  {
   "cell_type": "markdown",
   "metadata": {},
   "source": [
    "#### Findings\n",
    "From the boxplot, we can reach the following conclusions:\n",
    "\n",
    "    user ratings from Rotten Tomatoes and Metacritic span a larger range of values\n",
    "    user ratings from IMDB and Fandango are both skewed in the positive direction and span a more constrained range of values\n"
   ]
  }
 ],
 "metadata": {
  "kernelspec": {
   "display_name": "Python 3",
   "language": "python",
   "name": "python3"
  },
  "language_info": {
   "codemirror_mode": {
    "name": "ipython",
    "version": 2
   },
   "file_extension": ".py",
   "mimetype": "text/x-python",
   "name": "python",
   "nbconvert_exporter": "python",
   "pygments_lexer": "ipython2",
   "version": "2.7.14"
  }
 },
 "nbformat": 4,
 "nbformat_minor": 2
}
