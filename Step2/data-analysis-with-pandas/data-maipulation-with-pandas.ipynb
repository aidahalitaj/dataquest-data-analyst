{
 "cells": [
  {
   "cell_type": "markdown",
   "metadata": {},
   "source": [
    "# Data Manipulation with pandas\n",
    "Learn how to manipulate data in pandas."
   ]
  },
  {
   "cell_type": "markdown",
   "metadata": {},
   "source": [
    "### Overview\n",
    "Use the DataFrame.columns attribute, followed by the Index.tolist() method, to return a list containing only the column names."
   ]
  },
  {
   "cell_type": "code",
   "execution_count": 4,
   "metadata": {},
   "outputs": [
    {
     "name": "stdout",
     "output_type": "stream",
     "text": [
      "   NDB_No                 Shrt_Desc  Water_(g)  Energ_Kcal  Protein_(g)  \\\n",
      "0    1001          BUTTER WITH SALT      15.87         717         0.85   \n",
      "1    1002  BUTTER WHIPPED WITH SALT      15.87         717         0.85   \n",
      "2    1003      BUTTER OIL ANHYDROUS       0.24         876         0.28   \n",
      "\n",
      "   Lipid_Tot_(g)  Ash_(g)  Carbohydrt_(g)  Fiber_TD_(g)  Sugar_Tot_(g)  \\\n",
      "0          81.11     2.11            0.06           0.0           0.06   \n",
      "1          81.11     2.11            0.06           0.0           0.06   \n",
      "2          99.48     0.00            0.00           0.0           0.00   \n",
      "\n",
      "        ...        Vit_A_IU  Vit_A_RAE  Vit_E_(mg)  Vit_D_mcg  Vit_D_IU  \\\n",
      "0       ...          2499.0      684.0        2.32        1.5      60.0   \n",
      "1       ...          2499.0      684.0        2.32        1.5      60.0   \n",
      "2       ...          3069.0      840.0        2.80        1.8      73.0   \n",
      "\n",
      "   Vit_K_(mcg)  FA_Sat_(g)  FA_Mono_(g)  FA_Poly_(g)  Cholestrl_(mg)  \n",
      "0          7.0      51.368       21.021        3.043           215.0  \n",
      "1          7.0      50.489       23.426        3.012           219.0  \n",
      "2          8.6      61.924       28.732        3.694           256.0  \n",
      "\n",
      "[3 rows x 36 columns]\n"
     ]
    }
   ],
   "source": [
    "import pandas as pd\n",
    "food_info = pd.read_csv('/home/aida/Desktop/Dataquest/data-analysis-with-pandas/data/food_info.csv')\n",
    "food_columns = food_info.columns\n",
    "col_names = food_columns.tolist()\n",
    "print(food_info.head(3))"
   ]
  },
  {
   "cell_type": "markdown",
   "metadata": {},
   "source": [
    "### Transforming a Column\n",
    "    Description\n",
    "- Divide the <span>\"Sodium_(mg)\"</span> column by 1000 to convert the values to grams.\n",
    "- Multiply the <span> \"Sugar_Tot_(g)\"<span> column by 1000 to convert to milligrams."
   ]
  },
  {
   "cell_type": "code",
   "execution_count": 9,
   "metadata": {},
   "outputs": [],
   "source": [
    "sodium_grams = food_info[\"Sodium_(mg)\"] / 1000\n",
    "sugar_milligrams = food_info[\"Sugar_Tot_(g)\"] * 1000"
   ]
  },
  {
   "cell_type": "markdown",
   "metadata": {},
   "source": [
    "###  Performing Math with Multiple Columns\n",
    "    Description\n",
    "- Assign the number of grams of protein per gram of water (\"Protein_(g)\" column divided by \"Water_(g)\" column).\n",
    "\n",
    "- Assign the total amount of calcium and iron (\"Calcium_(mg)\" column plus \"Iron_(mg)\" column).\n"
   ]
  },
  {
   "cell_type": "code",
   "execution_count": 11,
   "metadata": {},
   "outputs": [],
   "source": [
    "grams_of_protein_per_gram_of_water = food_info[\"Protein_(g)\"] / food_info[\"Water_(g)\"]\n",
    "milligrams_of_calcium_and_iron = food_info[\"Iron_(mg)\"] + food_info[\"Calcium_(mg)\"]"
   ]
  },
  {
   "cell_type": "markdown",
   "metadata": {},
   "source": [
    "### Create a Nutritional Index\n",
    "\n",
    "- Multiply the \"Protein_(g)\" column by two, and assign the resulting Series to weighted_protein.\n",
    "- Multiply the \"Lipid_Tot_(g)\" column by -0.75, and assign the resulting Series to weighted_fat.\n",
    "- Add both Series objects together and assign the result to initial_rating.\n"
   ]
  },
  {
   "cell_type": "code",
   "execution_count": 13,
   "metadata": {},
   "outputs": [],
   "source": [
    "weighted_protein = food_info[\"Protein_(g)\"] * 2\n",
    "weighted_fat = food_info[\"Lipid_Tot_(g)\"] * (-0.75)\n",
    "initial_rating = weighted_protein + weighted_fat"
   ]
  },
  {
   "cell_type": "markdown",
   "metadata": {},
   "source": [
    "### Normalizing Columns in a Data Set"
   ]
  },
  {
   "cell_type": "markdown",
   "metadata": {},
   "source": [
    "- Normalize the values in the \"Protein_(g)\" column, and assign the result to normalized_protein.\n",
    "- Normalize the values in the \"Lipid_Tot_(g)\" column, and assign the result to normalized_fat."
   ]
  },
  {
   "cell_type": "code",
   "execution_count": 19,
   "metadata": {},
   "outputs": [],
   "source": [
    "protein = food_info[\"Protein_(g)\"]\n",
    "min_protein = protein.min()\n",
    "max_protein = protein.max()\n",
    "normalized_protein = (protein - min_protein) / (max_protein - min_protein)\n",
    "\n",
    "fat = food_info[\"Lipid_Tot_(g)\"]\n",
    "min_fat = fat.min()\n",
    "max_fat = fat.max()\n",
    "normalized_fat = (fat - min_fat) / (max_fat - min_fat)"
   ]
  },
  {
   "cell_type": "markdown",
   "metadata": {},
   "source": [
    "### Creating a New Column\n",
    "    Description\n",
    "- Assign the normalized \"Protein_(g)\" column to a new column named \"Normalized_Protein\" in food_info.\n",
    "- Assign the normalized \"Lipid_Tot_(g)\" column to a new column named \"Normalized_Fat\" in food_info."
   ]
  },
  {
   "cell_type": "code",
   "execution_count": 22,
   "metadata": {},
   "outputs": [],
   "source": [
    "food_info[\"Normalized_Protein\"] = normalized_protein\n",
    "food_info[\"Normalized_Fat\"] = normalized_fat"
   ]
  },
  {
   "cell_type": "markdown",
   "metadata": {},
   "source": [
    "### Create a Normalized Nutritional Index\n",
    "    Description\n",
    "- Use the Normalized_Protein and Normalized_Fat columns with the formula above to create the Norm_Nutr_Index column.\n",
    "\\text{Score} = 2\\times\\text{(Normalized_Protein)}  -  0.75\\times\\text{(Normalized_Fat)}"
   ]
  },
  {
   "cell_type": "code",
   "execution_count": 26,
   "metadata": {},
   "outputs": [],
   "source": [
    "score = 2 * normalized_protein - 0.75 * normalized_fat\n",
    "food_info[\"Norm_Nutr_Index\"] = score"
   ]
  },
  {
   "cell_type": "markdown",
   "metadata": {},
   "source": [
    "### Sorting a DataFrame by a Column\n",
    "    Description\n",
    "- Sort the food_info DataFrame in-place on the Norm_Nutr_Index column in descending order."
   ]
  },
  {
   "cell_type": "code",
   "execution_count": 35,
   "metadata": {},
   "outputs": [],
   "source": [
    "norm_nutr_index = food_info.sort_values(by = ['Norm_Nutr_Index'], ascending=False, inplace= True)"
   ]
  },
  {
   "cell_type": "code",
   "execution_count": null,
   "metadata": {},
   "outputs": [],
   "source": []
  }
 ],
 "metadata": {
  "kernelspec": {
   "display_name": "Python 3",
   "language": "python",
   "name": "python3"
  },
  "language_info": {
   "codemirror_mode": {
    "name": "ipython",
    "version": 2
   },
   "file_extension": ".py",
   "mimetype": "text/x-python",
   "name": "python",
   "nbconvert_exporter": "python",
   "pygments_lexer": "ipython2",
   "version": "2.7.14"
  }
 },
 "nbformat": 4,
 "nbformat_minor": 2
}
