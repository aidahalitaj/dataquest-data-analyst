{
 "cells": [
  {
   "cell_type": "markdown",
   "metadata": {},
   "source": [
    "# Introduction To Pandas\n",
    "Learn the basics of the pandas library."
   ]
  },
  {
   "cell_type": "code",
   "execution_count": 1,
   "metadata": {},
   "outputs": [],
   "source": [
    "import pandas as pd"
   ]
  },
  {
   "cell_type": "markdown",
   "metadata": {},
   "source": [
    "### Read in a CSV file\n",
    "    Description\n",
    "- Use the pandas.read_csv() function to read the file \"food_info.csv\" into a dataframe named food_info.\n"
   ]
  },
  {
   "cell_type": "code",
   "execution_count": 34,
   "metadata": {},
   "outputs": [
    {
     "name": "stdout",
     "output_type": "stream",
     "text": [
      "<class 'pandas.core.frame.DataFrame'>\n"
     ]
    }
   ],
   "source": [
    "food_info = pd.read_csv('/home/aida/Desktop/Dataquest/Step 2/data-analysis-with-pandas/data/food_info.csv')\n",
    "print(type(food_info))"
   ]
  },
  {
   "cell_type": "markdown",
   "metadata": {},
   "source": [
    "### Exploring the DataFrame\n",
    "    Description\n",
    "- Select the first 20 rows from food_info and assign to the variable first_twenty."
   ]
  },
  {
   "cell_type": "code",
   "execution_count": 35,
   "metadata": {},
   "outputs": [
    {
     "name": "stdout",
     "output_type": "stream",
     "text": [
      "20\n",
      "36\n"
     ]
    }
   ],
   "source": [
    "first_twenty = food_info.head(20)\n",
    "dimensions = first_twenty.shape\n",
    "rows = dimensions[0]\n",
    "columns = dimensions[1]\n",
    "print(rows)\n",
    "print(columns)"
   ]
  },
  {
   "cell_type": "markdown",
   "metadata": {},
   "source": [
    "###  Selecting a row\n",
    "    Description\n",
    "- Assign the 100th row of food_info to the variable hundredth_row. "
   ]
  },
  {
   "cell_type": "code",
   "execution_count": 36,
   "metadata": {},
   "outputs": [
    {
     "name": "stdout",
     "output_type": "stream",
     "text": [
      "NDB_No                                  1111\n",
      "Shrt_Desc          MILK SHAKES THICK VANILLA\n",
      "Water_(g)                              74.45\n",
      "Energ_Kcal                               112\n",
      "Protein_(g)                             3.86\n",
      "Lipid_Tot_(g)                           3.03\n",
      "Ash_(g)                                 0.91\n",
      "Carbohydrt_(g)                         17.75\n",
      "Fiber_TD_(g)                               0\n",
      "Sugar_Tot_(g)                          17.75\n",
      "Calcium_(mg)                             146\n",
      "Iron_(mg)                                0.1\n",
      "Magnesium_(mg)                            12\n",
      "Phosphorus_(mg)                          115\n",
      "Potassium_(mg)                           183\n",
      "Sodium_(mg)                               95\n",
      "Zinc_(mg)                               0.39\n",
      "Copper_(mg)                            0.051\n",
      "Manganese_(mg)                         0.014\n",
      "Selenium_(mcg)                           2.3\n",
      "Vit_C_(mg)                                 0\n",
      "Thiamin_(mg)                            0.03\n",
      "Riboflavin_(mg)                        0.195\n",
      "Niacin_(mg)                            0.146\n",
      "Vit_B6_(mg)                            0.042\n",
      "Vit_B12_(mcg)                           0.52\n",
      "Vit_A_IU                                  91\n",
      "Vit_A_RAE                                 25\n",
      "Vit_E_(mg)                              0.05\n",
      "Vit_D_mcg                                1.2\n",
      "Vit_D_IU                                  48\n",
      "Vit_K_(mcg)                              0.2\n",
      "FA_Sat_(g)                             1.886\n",
      "FA_Mono_(g)                            0.875\n",
      "FA_Poly_(g)                            0.113\n",
      "Cholestrl_(mg)                            12\n",
      "Name: 99, dtype: object\n"
     ]
    }
   ],
   "source": [
    "hundredth_row = food_info.loc[99]\n",
    "print(hundredth_row)"
   ]
  },
  {
   "cell_type": "markdown",
   "metadata": {},
   "source": [
    "###  Data types\n",
    "To access the types for each column, use the DataFrame.dtypes attribute to return a Series containing each column name and its corresponding type."
   ]
  },
  {
   "cell_type": "code",
   "execution_count": 39,
   "metadata": {},
   "outputs": [
    {
     "data": {
      "text/plain": [
       "NDB_No               int64\n",
       "Shrt_Desc           object\n",
       "Water_(g)          float64\n",
       "Energ_Kcal           int64\n",
       "Protein_(g)        float64\n",
       "Lipid_Tot_(g)      float64\n",
       "Ash_(g)            float64\n",
       "Carbohydrt_(g)     float64\n",
       "Fiber_TD_(g)       float64\n",
       "Sugar_Tot_(g)      float64\n",
       "Calcium_(mg)       float64\n",
       "Iron_(mg)          float64\n",
       "Magnesium_(mg)     float64\n",
       "Phosphorus_(mg)    float64\n",
       "Potassium_(mg)     float64\n",
       "Sodium_(mg)        float64\n",
       "Zinc_(mg)          float64\n",
       "Copper_(mg)        float64\n",
       "Manganese_(mg)     float64\n",
       "Selenium_(mcg)     float64\n",
       "Vit_C_(mg)         float64\n",
       "Thiamin_(mg)       float64\n",
       "Riboflavin_(mg)    float64\n",
       "Niacin_(mg)        float64\n",
       "Vit_B6_(mg)        float64\n",
       "Vit_B12_(mcg)      float64\n",
       "Vit_A_IU           float64\n",
       "Vit_A_RAE          float64\n",
       "Vit_E_(mg)         float64\n",
       "Vit_D_mcg          float64\n",
       "Vit_D_IU           float64\n",
       "Vit_K_(mcg)        float64\n",
       "FA_Sat_(g)         float64\n",
       "FA_Mono_(g)        float64\n",
       "FA_Poly_(g)        float64\n",
       "Cholestrl_(mg)     float64\n",
       "dtype: object"
      ]
     },
     "execution_count": 39,
     "metadata": {},
     "output_type": "execute_result"
    }
   ],
   "source": [
    "food_info.dtypes"
   ]
  },
  {
   "cell_type": "code",
   "execution_count": 40,
   "metadata": {},
   "outputs": [
    {
     "data": {
      "text/plain": [
       "dtype('float64')"
      ]
     },
     "execution_count": 40,
     "metadata": {},
     "output_type": "execute_result"
    }
   ],
   "source": [
    "food_info['Vit_A_IU'].dtype"
   ]
  },
  {
   "cell_type": "markdown",
   "metadata": {},
   "source": [
    "### Selecting multiple rows\n",
    "    Description\n",
    "- Select the last 5 rows of food_info and assign to the variable last_rows."
   ]
  },
  {
   "cell_type": "code",
   "execution_count": 50,
   "metadata": {},
   "outputs": [
    {
     "data": {
      "text/html": [
       "<div>\n",
       "<style scoped>\n",
       "    .dataframe tbody tr th:only-of-type {\n",
       "        vertical-align: middle;\n",
       "    }\n",
       "\n",
       "    .dataframe tbody tr th {\n",
       "        vertical-align: top;\n",
       "    }\n",
       "\n",
       "    .dataframe thead th {\n",
       "        text-align: right;\n",
       "    }\n",
       "</style>\n",
       "<table border=\"1\" class=\"dataframe\">\n",
       "  <thead>\n",
       "    <tr style=\"text-align: right;\">\n",
       "      <th></th>\n",
       "      <th>NDB_No</th>\n",
       "      <th>Shrt_Desc</th>\n",
       "      <th>Water_(g)</th>\n",
       "      <th>Energ_Kcal</th>\n",
       "      <th>Protein_(g)</th>\n",
       "      <th>Lipid_Tot_(g)</th>\n",
       "      <th>Ash_(g)</th>\n",
       "      <th>Carbohydrt_(g)</th>\n",
       "      <th>Fiber_TD_(g)</th>\n",
       "      <th>Sugar_Tot_(g)</th>\n",
       "      <th>...</th>\n",
       "      <th>Vit_A_IU</th>\n",
       "      <th>Vit_A_RAE</th>\n",
       "      <th>Vit_E_(mg)</th>\n",
       "      <th>Vit_D_mcg</th>\n",
       "      <th>Vit_D_IU</th>\n",
       "      <th>Vit_K_(mcg)</th>\n",
       "      <th>FA_Sat_(g)</th>\n",
       "      <th>FA_Mono_(g)</th>\n",
       "      <th>FA_Poly_(g)</th>\n",
       "      <th>Cholestrl_(mg)</th>\n",
       "    </tr>\n",
       "  </thead>\n",
       "  <tbody>\n",
       "    <tr>\n",
       "      <th>8613</th>\n",
       "      <td>83110</td>\n",
       "      <td>MACKEREL SALTED</td>\n",
       "      <td>43.00</td>\n",
       "      <td>305</td>\n",
       "      <td>18.50</td>\n",
       "      <td>25.10</td>\n",
       "      <td>13.40</td>\n",
       "      <td>0.00</td>\n",
       "      <td>0.0</td>\n",
       "      <td>0.0</td>\n",
       "      <td>...</td>\n",
       "      <td>157.0</td>\n",
       "      <td>47.0</td>\n",
       "      <td>2.38</td>\n",
       "      <td>25.2</td>\n",
       "      <td>1006.0</td>\n",
       "      <td>7.8</td>\n",
       "      <td>7.148</td>\n",
       "      <td>8.320</td>\n",
       "      <td>6.210</td>\n",
       "      <td>95.0</td>\n",
       "    </tr>\n",
       "    <tr>\n",
       "      <th>8614</th>\n",
       "      <td>90240</td>\n",
       "      <td>SCALLOP (BAY&amp;SEA) CKD STMD</td>\n",
       "      <td>70.25</td>\n",
       "      <td>111</td>\n",
       "      <td>20.54</td>\n",
       "      <td>0.84</td>\n",
       "      <td>2.97</td>\n",
       "      <td>5.41</td>\n",
       "      <td>0.0</td>\n",
       "      <td>0.0</td>\n",
       "      <td>...</td>\n",
       "      <td>5.0</td>\n",
       "      <td>2.0</td>\n",
       "      <td>0.00</td>\n",
       "      <td>0.0</td>\n",
       "      <td>2.0</td>\n",
       "      <td>0.0</td>\n",
       "      <td>0.218</td>\n",
       "      <td>0.082</td>\n",
       "      <td>0.222</td>\n",
       "      <td>41.0</td>\n",
       "    </tr>\n",
       "    <tr>\n",
       "      <th>8615</th>\n",
       "      <td>90480</td>\n",
       "      <td>SYRUP CANE</td>\n",
       "      <td>26.00</td>\n",
       "      <td>269</td>\n",
       "      <td>0.00</td>\n",
       "      <td>0.00</td>\n",
       "      <td>0.86</td>\n",
       "      <td>73.14</td>\n",
       "      <td>0.0</td>\n",
       "      <td>73.2</td>\n",
       "      <td>...</td>\n",
       "      <td>0.0</td>\n",
       "      <td>0.0</td>\n",
       "      <td>0.00</td>\n",
       "      <td>0.0</td>\n",
       "      <td>0.0</td>\n",
       "      <td>0.0</td>\n",
       "      <td>0.000</td>\n",
       "      <td>0.000</td>\n",
       "      <td>0.000</td>\n",
       "      <td>0.0</td>\n",
       "    </tr>\n",
       "    <tr>\n",
       "      <th>8616</th>\n",
       "      <td>90560</td>\n",
       "      <td>SNAIL RAW</td>\n",
       "      <td>79.20</td>\n",
       "      <td>90</td>\n",
       "      <td>16.10</td>\n",
       "      <td>1.40</td>\n",
       "      <td>1.30</td>\n",
       "      <td>2.00</td>\n",
       "      <td>0.0</td>\n",
       "      <td>0.0</td>\n",
       "      <td>...</td>\n",
       "      <td>100.0</td>\n",
       "      <td>30.0</td>\n",
       "      <td>5.00</td>\n",
       "      <td>0.0</td>\n",
       "      <td>0.0</td>\n",
       "      <td>0.1</td>\n",
       "      <td>0.361</td>\n",
       "      <td>0.259</td>\n",
       "      <td>0.252</td>\n",
       "      <td>50.0</td>\n",
       "    </tr>\n",
       "    <tr>\n",
       "      <th>8617</th>\n",
       "      <td>93600</td>\n",
       "      <td>TURTLE GREEN RAW</td>\n",
       "      <td>78.50</td>\n",
       "      <td>89</td>\n",
       "      <td>19.80</td>\n",
       "      <td>0.50</td>\n",
       "      <td>1.20</td>\n",
       "      <td>0.00</td>\n",
       "      <td>0.0</td>\n",
       "      <td>0.0</td>\n",
       "      <td>...</td>\n",
       "      <td>100.0</td>\n",
       "      <td>30.0</td>\n",
       "      <td>0.50</td>\n",
       "      <td>0.0</td>\n",
       "      <td>0.0</td>\n",
       "      <td>0.1</td>\n",
       "      <td>0.127</td>\n",
       "      <td>0.088</td>\n",
       "      <td>0.170</td>\n",
       "      <td>50.0</td>\n",
       "    </tr>\n",
       "  </tbody>\n",
       "</table>\n",
       "<p>5 rows × 36 columns</p>\n",
       "</div>"
      ],
      "text/plain": [
       "      NDB_No                   Shrt_Desc  Water_(g)  Energ_Kcal  Protein_(g)  \\\n",
       "8613   83110             MACKEREL SALTED      43.00         305        18.50   \n",
       "8614   90240  SCALLOP (BAY&SEA) CKD STMD      70.25         111        20.54   \n",
       "8615   90480                  SYRUP CANE      26.00         269         0.00   \n",
       "8616   90560                   SNAIL RAW      79.20          90        16.10   \n",
       "8617   93600            TURTLE GREEN RAW      78.50          89        19.80   \n",
       "\n",
       "      Lipid_Tot_(g)  Ash_(g)  Carbohydrt_(g)  Fiber_TD_(g)  Sugar_Tot_(g)  \\\n",
       "8613          25.10    13.40            0.00           0.0            0.0   \n",
       "8614           0.84     2.97            5.41           0.0            0.0   \n",
       "8615           0.00     0.86           73.14           0.0           73.2   \n",
       "8616           1.40     1.30            2.00           0.0            0.0   \n",
       "8617           0.50     1.20            0.00           0.0            0.0   \n",
       "\n",
       "           ...        Vit_A_IU  Vit_A_RAE  Vit_E_(mg)  Vit_D_mcg  Vit_D_IU  \\\n",
       "8613       ...           157.0       47.0        2.38       25.2    1006.0   \n",
       "8614       ...             5.0        2.0        0.00        0.0       2.0   \n",
       "8615       ...             0.0        0.0        0.00        0.0       0.0   \n",
       "8616       ...           100.0       30.0        5.00        0.0       0.0   \n",
       "8617       ...           100.0       30.0        0.50        0.0       0.0   \n",
       "\n",
       "      Vit_K_(mcg)  FA_Sat_(g)  FA_Mono_(g)  FA_Poly_(g)  Cholestrl_(mg)  \n",
       "8613          7.8       7.148        8.320        6.210            95.0  \n",
       "8614          0.0       0.218        0.082        0.222            41.0  \n",
       "8615          0.0       0.000        0.000        0.000             0.0  \n",
       "8616          0.1       0.361        0.259        0.252            50.0  \n",
       "8617          0.1       0.127        0.088        0.170            50.0  \n",
       "\n",
       "[5 rows x 36 columns]"
      ]
     },
     "execution_count": 50,
     "metadata": {},
     "output_type": "execute_result"
    }
   ],
   "source": [
    "rows = food_info.shape[0]\n",
    "last_rows = food_info[rows-5:rows]\n",
    "last_rows"
   ]
  },
  {
   "cell_type": "markdown",
   "metadata": {},
   "source": [
    "### Selecting individual columns\n",
    "    Description\n",
    "- Assign the \"FA_Sat_(g)\" column to the variable saturated_fat.\n",
    "- Assign the \"Cholestrl_(mg)\" column to the variable cholesterol.\n"
   ]
  },
  {
   "cell_type": "code",
   "execution_count": 52,
   "metadata": {},
   "outputs": [],
   "source": [
    "saturated_fat = food_info[\"FA_Sat_(g)\"]\n",
    "cholesterol = food_info[\"Cholestrl_(mg)\"]"
   ]
  },
  {
   "cell_type": "markdown",
   "metadata": {},
   "source": [
    "### Selecting multiple columns by name\n",
    "    Description\n",
    "- Select the 'Selenium_(mcg)' and 'Thiamin_(mg)' columns and assign the resulting dataframe to selenium_thiamin."
   ]
  },
  {
   "cell_type": "code",
   "execution_count": 56,
   "metadata": {},
   "outputs": [],
   "source": [
    "selenium_thiamin = food_info[['Selenium_(mcg)', 'Thiamin_(mg)']]"
   ]
  },
  {
   "cell_type": "markdown",
   "metadata": {},
   "source": [
    "### Practice\n",
    "    Description\n",
    "\n",
    "    - Select and display only the columns that use grams for measurement (that end with \"(g)\"). To accomplish this:\n",
    "- Use the columns attribute to return the column names in food_info and convert to a list by calling the method tolist()\n",
    "- Create a new list, gram_columns, containing only the column names that end in \"(g)\". The string method endswith() returns True if the string object calling the method ends with the string passed into the parentheses.\n",
    "- Pass gram_columns into bracket notation to select just those columns and assign the resulting dataframe to gram_df\n",
    "- Then use the dataframe method head() to display the first 3 rows of gram_df.\n"
   ]
  },
  {
   "cell_type": "code",
   "execution_count": 72,
   "metadata": {},
   "outputs": [],
   "source": [
    "col = food_info.columns.tolist()\n",
    "gram_columns = []\n",
    "for i in col:\n",
    "    if i.endswith(\"(g)\"):\n",
    "        gram_columns.append(i)"
   ]
  },
  {
   "cell_type": "code",
   "execution_count": 75,
   "metadata": {},
   "outputs": [
    {
     "data": {
      "text/html": [
       "<div>\n",
       "<style scoped>\n",
       "    .dataframe tbody tr th:only-of-type {\n",
       "        vertical-align: middle;\n",
       "    }\n",
       "\n",
       "    .dataframe tbody tr th {\n",
       "        vertical-align: top;\n",
       "    }\n",
       "\n",
       "    .dataframe thead th {\n",
       "        text-align: right;\n",
       "    }\n",
       "</style>\n",
       "<table border=\"1\" class=\"dataframe\">\n",
       "  <thead>\n",
       "    <tr style=\"text-align: right;\">\n",
       "      <th></th>\n",
       "      <th>Water_(g)</th>\n",
       "      <th>Protein_(g)</th>\n",
       "      <th>Lipid_Tot_(g)</th>\n",
       "      <th>Ash_(g)</th>\n",
       "      <th>Carbohydrt_(g)</th>\n",
       "      <th>Fiber_TD_(g)</th>\n",
       "      <th>Sugar_Tot_(g)</th>\n",
       "      <th>FA_Sat_(g)</th>\n",
       "      <th>FA_Mono_(g)</th>\n",
       "      <th>FA_Poly_(g)</th>\n",
       "    </tr>\n",
       "  </thead>\n",
       "  <tbody>\n",
       "    <tr>\n",
       "      <th>0</th>\n",
       "      <td>15.87</td>\n",
       "      <td>0.85</td>\n",
       "      <td>81.11</td>\n",
       "      <td>2.11</td>\n",
       "      <td>0.06</td>\n",
       "      <td>0.0</td>\n",
       "      <td>0.06</td>\n",
       "      <td>51.368</td>\n",
       "      <td>21.021</td>\n",
       "      <td>3.043</td>\n",
       "    </tr>\n",
       "    <tr>\n",
       "      <th>1</th>\n",
       "      <td>15.87</td>\n",
       "      <td>0.85</td>\n",
       "      <td>81.11</td>\n",
       "      <td>2.11</td>\n",
       "      <td>0.06</td>\n",
       "      <td>0.0</td>\n",
       "      <td>0.06</td>\n",
       "      <td>50.489</td>\n",
       "      <td>23.426</td>\n",
       "      <td>3.012</td>\n",
       "    </tr>\n",
       "    <tr>\n",
       "      <th>2</th>\n",
       "      <td>0.24</td>\n",
       "      <td>0.28</td>\n",
       "      <td>99.48</td>\n",
       "      <td>0.00</td>\n",
       "      <td>0.00</td>\n",
       "      <td>0.0</td>\n",
       "      <td>0.00</td>\n",
       "      <td>61.924</td>\n",
       "      <td>28.732</td>\n",
       "      <td>3.694</td>\n",
       "    </tr>\n",
       "  </tbody>\n",
       "</table>\n",
       "</div>"
      ],
      "text/plain": [
       "   Water_(g)  Protein_(g)  Lipid_Tot_(g)  Ash_(g)  Carbohydrt_(g)  \\\n",
       "0      15.87         0.85          81.11     2.11            0.06   \n",
       "1      15.87         0.85          81.11     2.11            0.06   \n",
       "2       0.24         0.28          99.48     0.00            0.00   \n",
       "\n",
       "   Fiber_TD_(g)  Sugar_Tot_(g)  FA_Sat_(g)  FA_Mono_(g)  FA_Poly_(g)  \n",
       "0           0.0           0.06      51.368       21.021        3.043  \n",
       "1           0.0           0.06      50.489       23.426        3.012  \n",
       "2           0.0           0.00      61.924       28.732        3.694  "
      ]
     },
     "execution_count": 75,
     "metadata": {},
     "output_type": "execute_result"
    }
   ],
   "source": [
    "gram_df = food_info[gram_columns]\n",
    "gram_df.head(3)"
   ]
  },
  {
   "cell_type": "code",
   "execution_count": null,
   "metadata": {},
   "outputs": [],
   "source": []
  }
 ],
 "metadata": {
  "kernelspec": {
   "display_name": "Python 3",
   "language": "python",
   "name": "python3"
  },
  "language_info": {
   "codemirror_mode": {
    "name": "ipython",
    "version": 2
   },
   "file_extension": ".py",
   "mimetype": "text/x-python",
   "name": "python",
   "nbconvert_exporter": "python",
   "pygments_lexer": "ipython2",
   "version": "2.7.14"
  }
 },
 "nbformat": 4,
 "nbformat_minor": 2
}
