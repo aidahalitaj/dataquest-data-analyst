{
 "cells": [
  {
   "cell_type": "markdown",
   "metadata": {},
   "source": [
    "# Challenge: Summarizing Data\n",
    "Test your pandas skills by summarizing jobs data."
   ]
  },
  {
   "cell_type": "markdown",
   "metadata": {},
   "source": [
    "### Introduction to the Data\n",
    "    Description\n",
    "\n",
    "- Read all-ages.csv into a DataFrame object, and assign it to all_ages.\n",
    "- Read recent-grads.csv into a DataFrame object, and assign it to recent_grads.\n",
    "- Display the first five rows of all_ages and recent_grads.\n"
   ]
  },
  {
   "cell_type": "code",
   "execution_count": 22,
   "metadata": {},
   "outputs": [],
   "source": [
    "import warnings\n",
    "warnings.filterwarnings('ignore')\n",
    "\n",
    "warnings.filterwarnings(action='once')"
   ]
  },
  {
   "cell_type": "code",
   "execution_count": 25,
   "metadata": {},
   "outputs": [],
   "source": [
    "import warnings; warnings.simplefilter('ignore')"
   ]
  },
  {
   "cell_type": "code",
   "execution_count": 26,
   "metadata": {},
   "outputs": [],
   "source": [
    "import pandas as pd\n",
    "import numpy as np"
   ]
  },
  {
   "cell_type": "code",
   "execution_count": 28,
   "metadata": {
    "scrolled": true
   },
   "outputs": [
    {
     "name": "stderr",
     "output_type": "stream",
     "text": [
      "Skipping line 31: expected 1 fields, saw 3\n",
      "Skipping line 72: expected 1 fields, saw 4\n",
      "Skipping line 123: expected 1 fields, saw 3\n",
      "Skipping line 140: expected 1 fields, saw 2\n",
      "Skipping line 199: expected 1 fields, saw 3\n",
      "Skipping line 203: expected 1 fields, saw 3\n",
      "Skipping line 207: expected 1 fields, saw 4\n",
      "Skipping line 211: expected 1 fields, saw 3\n",
      "Skipping line 223: expected 1 fields, saw 3\n",
      "Skipping line 234: expected 1 fields, saw 3\n",
      "Skipping line 241: expected 1 fields, saw 2\n",
      "Skipping line 245: expected 1 fields, saw 2\n",
      "Skipping line 249: expected 1 fields, saw 2\n",
      "Skipping line 253: expected 1 fields, saw 2\n",
      "Skipping line 263: expected 1 fields, saw 2\n",
      "Skipping line 276: expected 1 fields, saw 3\n",
      "Skipping line 288: expected 1 fields, saw 3\n",
      "Skipping line 291: expected 1 fields, saw 3\n",
      "Skipping line 294: expected 1 fields, saw 3\n",
      "Skipping line 298: expected 1 fields, saw 3\n",
      "Skipping line 302: expected 1 fields, saw 3\n",
      "Skipping line 307: expected 1 fields, saw 3\n",
      "Skipping line 319: expected 1 fields, saw 3\n",
      "Skipping line 365: expected 1 fields, saw 3\n",
      "Skipping line 374: expected 1 fields, saw 2\n",
      "Skipping line 442: expected 1 fields, saw 3\n",
      "Skipping line 448: expected 1 fields, saw 2\n",
      "Skipping line 457: expected 1 fields, saw 3\n",
      "Skipping line 463: expected 1 fields, saw 2\n",
      "Skipping line 474: expected 1 fields, saw 3\n",
      "Skipping line 487: expected 1 fields, saw 2\n",
      "Skipping line 495: expected 1 fields, saw 2\n",
      "Skipping line 1668: expected 1 fields, saw 3\n",
      "Skipping line 2532: expected 1 fields, saw 3\n",
      "Skipping line 4909: expected 1 fields, saw 2\n",
      "Skipping line 4910: expected 1 fields, saw 3\n",
      "Skipping line 4911: expected 1 fields, saw 3\n",
      "Skipping line 4912: expected 1 fields, saw 3\n",
      "Skipping line 4913: expected 1 fields, saw 3\n",
      "Skipping line 4914: expected 1 fields, saw 3\n",
      "Skipping line 4921: expected 1 fields, saw 3\n",
      "Skipping line 4922: expected 1 fields, saw 3\n",
      "Skipping line 4923: expected 1 fields, saw 3\n",
      "Skipping line 4924: expected 1 fields, saw 3\n",
      "Skipping line 4925: expected 1 fields, saw 3\n",
      "Skipping line 4926: expected 1 fields, saw 3\n",
      "\n",
      "Skipping line 31: expected 1 fields, saw 3\n",
      "Skipping line 72: expected 1 fields, saw 4\n",
      "Skipping line 123: expected 1 fields, saw 3\n",
      "Skipping line 140: expected 1 fields, saw 2\n",
      "Skipping line 199: expected 1 fields, saw 3\n",
      "Skipping line 203: expected 1 fields, saw 3\n",
      "Skipping line 207: expected 1 fields, saw 4\n",
      "Skipping line 211: expected 1 fields, saw 3\n",
      "Skipping line 223: expected 1 fields, saw 3\n",
      "Skipping line 234: expected 1 fields, saw 3\n",
      "Skipping line 241: expected 1 fields, saw 2\n",
      "Skipping line 245: expected 1 fields, saw 2\n",
      "Skipping line 249: expected 1 fields, saw 2\n",
      "Skipping line 253: expected 1 fields, saw 2\n",
      "Skipping line 263: expected 1 fields, saw 2\n",
      "Skipping line 276: expected 1 fields, saw 3\n",
      "Skipping line 288: expected 1 fields, saw 3\n",
      "Skipping line 291: expected 1 fields, saw 3\n",
      "Skipping line 294: expected 1 fields, saw 3\n",
      "Skipping line 298: expected 1 fields, saw 3\n",
      "Skipping line 302: expected 1 fields, saw 3\n",
      "Skipping line 307: expected 1 fields, saw 3\n",
      "Skipping line 319: expected 1 fields, saw 3\n",
      "Skipping line 365: expected 1 fields, saw 3\n",
      "Skipping line 374: expected 1 fields, saw 2\n",
      "Skipping line 442: expected 1 fields, saw 3\n",
      "Skipping line 448: expected 1 fields, saw 2\n",
      "Skipping line 457: expected 1 fields, saw 3\n",
      "Skipping line 463: expected 1 fields, saw 2\n",
      "Skipping line 474: expected 1 fields, saw 3\n",
      "Skipping line 487: expected 1 fields, saw 2\n",
      "Skipping line 495: expected 1 fields, saw 2\n",
      "Skipping line 1668: expected 1 fields, saw 3\n",
      "Skipping line 2532: expected 1 fields, saw 3\n",
      "Skipping line 4909: expected 1 fields, saw 2\n",
      "Skipping line 4910: expected 1 fields, saw 3\n",
      "Skipping line 4911: expected 1 fields, saw 3\n",
      "Skipping line 4912: expected 1 fields, saw 3\n",
      "Skipping line 4913: expected 1 fields, saw 3\n",
      "Skipping line 4914: expected 1 fields, saw 3\n",
      "Skipping line 4921: expected 1 fields, saw 3\n",
      "Skipping line 4922: expected 1 fields, saw 3\n",
      "Skipping line 4923: expected 1 fields, saw 3\n",
      "Skipping line 4924: expected 1 fields, saw 3\n",
      "Skipping line 4925: expected 1 fields, saw 3\n",
      "Skipping line 4926: expected 1 fields, saw 3\n",
      "\n"
     ]
    }
   ],
   "source": [
    "recent_grads = pd.read_csv(\"/home/aida/Desktop/Dataquest/data-analysis-with-pandas/data/recent-grads.csv\",  error_bad_lines=False)\n",
    "all_ages = pd.read_csv(\"/home/aida/Desktop/Dataquest/data-analysis-with-pandas/data/recent-grads.csv\",  error_bad_lines=False)"
   ]
  },
  {
   "cell_type": "code",
   "execution_count": null,
   "metadata": {},
   "outputs": [],
   "source": []
  },
  {
   "cell_type": "code",
   "execution_count": null,
   "metadata": {},
   "outputs": [],
   "source": []
  }
 ],
 "metadata": {
  "kernelspec": {
   "display_name": "Python 3",
   "language": "python",
   "name": "python3"
  },
  "language_info": {
   "codemirror_mode": {
    "name": "ipython",
    "version": 2
   },
   "file_extension": ".py",
   "mimetype": "text/x-python",
   "name": "python",
   "nbconvert_exporter": "python",
   "pygments_lexer": "ipython2",
   "version": "2.7.14"
  }
 },
 "nbformat": 4,
 "nbformat_minor": 2
}
