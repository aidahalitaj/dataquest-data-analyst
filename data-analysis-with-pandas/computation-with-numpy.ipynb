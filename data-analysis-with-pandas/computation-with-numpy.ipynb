{
 "cells": [
  {
   "cell_type": "markdown",
   "metadata": {},
   "source": [
    "### Computation with NumPy\n",
    "Learn how to select elements in arrays and perform computations with NumPy. <br>\n",
    "We will work with world_alcohol.csv, which records per capita alcohol consumption for each country. Our goal is to determine which country consumes the most alcohol per capita."
   ]
  },
  {
   "cell_type": "markdown",
   "metadata": {},
   "source": [
    "#### Import another notebook into this one"
   ]
  },
  {
   "cell_type": "code",
   "execution_count": 7,
   "metadata": {},
   "outputs": [],
   "source": [
    "\n",
    "%%capture\n",
    "%run getting-started-with-numpy.ipynb"
   ]
  },
  {
   "cell_type": "markdown",
   "metadata": {},
   "source": [
    "### Arrays Comparison\n",
    "    Description\n",
    "- Extract the third column in world_alcohol, and compare it to the string Canada. \n",
    "- Extract the first column in world_alcohol, and compare it to the string 1984. \n"
   ]
  },
  {
   "cell_type": "code",
   "execution_count": 8,
   "metadata": {},
   "outputs": [],
   "source": [
    "countries_canada = (world_alcohol[:, 2] == 'Canada')\n",
    "years_1984 = (world_alcohol[:, 0] == '1984')"
   ]
  },
  {
   "cell_type": "markdown",
   "metadata": {},
   "source": [
    "### Selecting Element\n",
    "    Description\n",
    "- Compare the third column of world_alcohol to the string Algeria.\n",
    "- Select only the rows in world_alcohol where country_is_algeria is True."
   ]
  },
  {
   "cell_type": "code",
   "execution_count": 9,
   "metadata": {},
   "outputs": [],
   "source": [
    "country_is_algeria = (world_alcohol[:, 2] == 'Algeria')\n",
    "country_algeria = (world_alcohol[country_is_algeria, :])"
   ]
  },
  {
   "cell_type": "code",
   "execution_count": 16,
   "metadata": {},
   "outputs": [
    {
     "name": "stdout",
     "output_type": "stream",
     "text": [
      "[False False False ... False False False]\n",
      "(20, 5)\n"
     ]
    }
   ],
   "source": [
    "print(country_is_algeria)\n",
    "print(country_algeria.shape)"
   ]
  },
  {
   "cell_type": "markdown",
   "metadata": {},
   "source": [
    "### Comparisons with Multiple Conditions\n",
    "    Description\n",
    "- Perform a comparison with multiple conditions, and join the conditions with &.\n",
    "      - Compare the first column of world_alcohol to the string 1986.\n",
    "      - Compare the third column of world_alcohol to the string Algeria.\n",
    "      - Enclose each condition in parentheses, and join the conditions with &.\n",
    "      - Assign the result to is_algeria_and_1986.\n",
    "- Use is_algeria_and_1986 to select rows from world_alcohol.\n",
    "- Assign the rows that is_algeria_and_1986 selects to rows_with_algeria_and_1986.\n"
   ]
  },
  {
   "cell_type": "code",
   "execution_count": 22,
   "metadata": {},
   "outputs": [],
   "source": [
    "is_algeria_and_1986 = (world_alcohol[:, 0] == '1986') & (world_alcohol[:, 2] == 'Algeria')\n",
    "rows_with_algeria_and_1986 = world_alcohol[is_algeria_and_1986, :]"
   ]
  },
  {
   "cell_type": "code",
   "execution_count": 24,
   "metadata": {},
   "outputs": [],
   "source": [
    "# shembull\n",
    "matrix = np.array([\n",
    "            [5, 10, 15], \n",
    "            [20, 25, 30],\n",
    "            [35, 40, 45]\n",
    "         ])"
   ]
  },
  {
   "cell_type": "code",
   "execution_count": 31,
   "metadata": {},
   "outputs": [
    {
     "data": {
      "text/plain": [
       "array([10, 25, 40])"
      ]
     },
     "execution_count": 31,
     "metadata": {},
     "output_type": "execute_result"
    }
   ],
   "source": [
    "second_column_25 = matrix[:, 1] == 25 # po e merr kolonen e dyte po e shnderron ne nje rresht\n",
    "second_column\n",
    "matrix[:, 1]"
   ]
  },
  {
   "cell_type": "code",
   "execution_count": 36,
   "metadata": {},
   "outputs": [
    {
     "data": {
      "text/plain": [
       "array([[ 5, 10, 15],\n",
       "       [20, 10, 30],\n",
       "       [35, 40, 45]])"
      ]
     },
     "execution_count": 36,
     "metadata": {},
     "output_type": "execute_result"
    }
   ],
   "source": [
    "matrix[second_column_25, 1] = 10 # ne kolonen/rreshtin qe e gjetem me heret kudo qe vlera eshte true e zev me 10\n",
    "matrix"
   ]
  },
  {
   "cell_type": "code",
   "execution_count": null,
   "metadata": {},
   "outputs": [],
   "source": []
  }
 ],
 "metadata": {
  "kernelspec": {
   "display_name": "Python 3",
   "language": "python",
   "name": "python3"
  },
  "language_info": {
   "codemirror_mode": {
    "name": "ipython",
    "version": 2
   },
   "file_extension": ".py",
   "mimetype": "text/x-python",
   "name": "python",
   "nbconvert_exporter": "python",
   "pygments_lexer": "ipython2",
   "version": "2.7.14"
  }
 },
 "nbformat": 4,
 "nbformat_minor": 2
}
