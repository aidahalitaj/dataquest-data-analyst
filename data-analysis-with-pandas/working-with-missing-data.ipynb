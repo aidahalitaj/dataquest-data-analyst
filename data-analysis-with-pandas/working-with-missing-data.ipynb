{
 "cells": [
  {
   "cell_type": "markdown",
   "metadata": {},
   "source": [
    "# Working With Missing Data\n",
    "Learn to handle missing data using pandas and a data set on Titanic survival."
   ]
  },
  {
   "cell_type": "code",
   "execution_count": 66,
   "metadata": {},
   "outputs": [],
   "source": [
    "import pandas as pd\n",
    "import numpy as np\n",
    "titanic_survival = pd.read_csv(\"/home/aida/Desktop/Dataquest/data-analysis-with-pandas/data/titanic_survival.csv\")"
   ]
  },
  {
   "cell_type": "markdown",
   "metadata": {},
   "source": [
    "### Finding the Missing Data\n",
    "    Description\n",
    "- Count how many values in the \"age\" column have null values"
   ]
  },
  {
   "cell_type": "code",
   "execution_count": 67,
   "metadata": {},
   "outputs": [],
   "source": [
    "age = titanic_survival[\"age\"]\n",
    "age_is_null = pd.isnull(age)\n",
    "age_null_true = age[age_is_null]\n",
    "age_null_count = len(age_null_true)"
   ]
  },
  {
   "cell_type": "markdown",
   "metadata": {},
   "source": [
    "### Whats the big deal with missing data?\n",
    "    Description\n",
    "- Use age_is_null to create a vector that only contains values from the \"age\" column that aren't NaN.\n",
    "- Calculate the mean of the new vector."
   ]
  },
  {
   "cell_type": "code",
   "execution_count": 68,
   "metadata": {},
   "outputs": [
    {
     "name": "stdout",
     "output_type": "stream",
     "text": [
      "29.8811345124\n"
     ]
    }
   ],
   "source": [
    "age_is_null = pd.isnull(titanic_survival[\"age\"])\n",
    "good_age = titanic_survival[\"age\"][age_is_null == False]\n",
    "correct_mean_age = sum(good_age)/len(good_age)\n",
    "print(correct_mean_age)"
   ]
  },
  {
   "cell_type": "markdown",
   "metadata": {},
   "source": [
    "### Easier Ways to Do Math\n",
    "    Description\n",
    "- Assign the mean of the \"fare\" column to correct_mean_fare."
   ]
  },
  {
   "cell_type": "code",
   "execution_count": 69,
   "metadata": {},
   "outputs": [
    {
     "data": {
      "text/plain": [
       "33.29547928134572"
      ]
     },
     "execution_count": 69,
     "metadata": {},
     "output_type": "execute_result"
    }
   ],
   "source": [
    "correct_mean_fare = titanic_survival[\"fare\"].mean()\n",
    "correct_mean_fare"
   ]
  },
  {
   "cell_type": "markdown",
   "metadata": {},
   "source": [
    "###  Calculating Summary Statistics\n",
    "\n",
    "- Use a for loop to iterate over passenger_classes. Within the for loop:\n",
    "- Once the loop completes, the dictionary fares_by_class should have 1, 2, and 3 as keys, with the average fares as the corresponding values.\n"
   ]
  },
  {
   "cell_type": "code",
   "execution_count": 70,
   "metadata": {},
   "outputs": [
    {
     "name": "stdout",
     "output_type": "stream",
     "text": [
      "{1: 87.50899164086687, 2: 21.1791963898917, 3: 13.302888700564957}\n"
     ]
    }
   ],
   "source": [
    "passenger_classes = [1, 2, 3]\n",
    "fares_by_class = {}\n",
    "\n",
    "for i in passenger_classes:\n",
    "    row = titanic_survival[\"pclass\"] == i\n",
    "    rows_pclass = titanic_survival[row]\n",
    "    fare_pclass = rows_pclass[\"fare\"]\n",
    "    fare_pclass_mean = fare_pclass.mean()\n",
    "    fares_by_class[i] = fare_pclass_mean\n",
    "print(fares_by_class)"
   ]
  },
  {
   "cell_type": "markdown",
   "metadata": {},
   "source": [
    "### Making Pivot Tables\n",
    "    Description\n",
    "- Use the DataFrame.pivot_table() method to calculate the mean age for each passenger class (\"pclass\")."
   ]
  },
  {
   "cell_type": "code",
   "execution_count": 71,
   "metadata": {},
   "outputs": [
    {
     "name": "stdout",
     "output_type": "stream",
     "text": [
      "              age\n",
      "pclass           \n",
      "1.0     39.159918\n",
      "2.0     29.506705\n",
      "3.0     24.816367\n"
     ]
    }
   ],
   "source": [
    "passenger_age = titanic_survival.pivot_table(index = \"pclass\", values = \"age\", aggfunc = np.mean)\n",
    "print(passenger_age)"
   ]
  },
  {
   "cell_type": "markdown",
   "metadata": {},
   "source": [
    "###  More Complex Pivot Tables\n",
    "\n",
    "    Make a pivot table that calculates the total fares collected (\"fare\") and total number of survivors (\"survived\") for each embarkation port (\"embarked\").\n",
    "    Assign the result to port_stats.\n",
    "    Display port_stats using the print() function.\n"
   ]
  },
  {
   "cell_type": "code",
   "execution_count": 72,
   "metadata": {},
   "outputs": [
    {
     "name": "stdout",
     "output_type": "stream",
     "text": [
      "                fare  survived\n",
      "embarked                      \n",
      "C         16830.7922     150.0\n",
      "Q          1526.3085      44.0\n",
      "S         25033.3862     304.0\n"
     ]
    }
   ],
   "source": [
    "port_stats = titanic_survival.pivot_table(index = \"embarked\", values = [\"survived\", \"fare\"], aggfunc = np.sum)\n",
    "print(port_stats)"
   ]
  },
  {
   "cell_type": "markdown",
   "metadata": {},
   "source": [
    "### Drop Missing Values\n",
    "    Description\n",
    "- Drop all columns in titanic_survival that have missing values.\n",
    "- Drop all rows in titanic_survival where the columns \"age\" or \"sex\" have missing values."
   ]
  },
  {
   "cell_type": "code",
   "execution_count": 73,
   "metadata": {},
   "outputs": [],
   "source": [
    "drop_na_columns = titanic_survival.dropna(axis = 1)\n",
    "new_titanic_survival = titanic_survival.dropna(axis = 0, subset = [\"age\", \"sex\"] )"
   ]
  },
  {
   "cell_type": "markdown",
   "metadata": {},
   "source": [
    "### Using iloc to Access Rows by Position\n",
    "    Description\n",
    "- Assign the first ten rows from new_titanic_survival to first_ten_rows.\n",
    "    Assign the fifth row from new_titanic_survival to row_position_fifth.\n",
    "    Assign the row with index label 25 from new_titanic_survivalto row_index_25.\n"
   ]
  },
  {
   "cell_type": "code",
   "execution_count": 74,
   "metadata": {},
   "outputs": [],
   "source": [
    "first_ten_rows = new_titanic_survival.iloc[0:10]\n",
    "row_position_fifth = new_titanic_survival.iloc[4]\n",
    "row_index_25 = new_titanic_survival.loc[25]\n"
   ]
  },
  {
   "cell_type": "markdown",
   "metadata": {},
   "source": [
    "### Using Column Indexes\n",
    "    Description\n",
    "\n",
    "- Assign the value at row index label 1100, column index label \"age\" from new_titanic_survival.\n",
    "- Assign the value at row index label 25, column index label \"survived\" from new_titanic_survival.\n",
    "- Assign the first 5 rows and first three columns from new_titanic_survival.\n"
   ]
  },
  {
   "cell_type": "code",
   "execution_count": 75,
   "metadata": {},
   "outputs": [],
   "source": [
    "row_index_1100_age = new_titanic_survival.loc[1100, \"age\"]\n",
    "row_index_25_survived = new_titanic_survival.loc[25, \"survived\"]\n",
    "five_rows_three_columns = new_titanic_survival.iloc[0:5, 0:3]"
   ]
  },
  {
   "cell_type": "markdown",
   "metadata": {},
   "source": [
    "### Reindexing Rows\n",
    "    Description\n",
    "\n",
    "    Reindex the new_titanic_survival dataframe so the row indexes start from 0, and the old index is dropped.\n",
    "    Assign the final result to titanic_reindexed.\n",
    "    Print the first 5 rows and the first 3 columns of titanic_reindexed.\n"
   ]
  },
  {
   "cell_type": "code",
   "execution_count": 78,
   "metadata": {},
   "outputs": [
    {
     "name": "stdout",
     "output_type": "stream",
     "text": [
      "   pclass  survived                                             name\n",
      "0     1.0       1.0                    Allen, Miss. Elisabeth Walton\n",
      "1     1.0       1.0                   Allison, Master. Hudson Trevor\n",
      "2     1.0       0.0                     Allison, Miss. Helen Loraine\n",
      "3     1.0       0.0             Allison, Mr. Hudson Joshua Creighton\n",
      "4     1.0       0.0  Allison, Mrs. Hudson J C (Bessie Waldo Daniels)\n"
     ]
    }
   ],
   "source": [
    "titanic_reindex = new_titanic_survival.reset_index(drop = True)\n",
    "print(titanic_reindex.iloc[0:5, 0:3])"
   ]
  },
  {
   "cell_type": "markdown",
   "metadata": {},
   "source": [
    "###  Apply Functions Over a DataFrame\n",
    "    Description\n",
    "\n",
    "- Write a function that counts the number of null elements in a all titanic_survivers Series."
   ]
  },
  {
   "cell_type": "code",
   "execution_count": 88,
   "metadata": {},
   "outputs": [
    {
     "name": "stdout",
     "output_type": "stream",
     "text": [
      "pclass          1\n",
      "survived        1\n",
      "name            1\n",
      "sex             1\n",
      "age           264\n",
      "sibsp           1\n",
      "parch           1\n",
      "ticket          1\n",
      "fare            2\n",
      "cabin        1015\n",
      "embarked        3\n",
      "boat          824\n",
      "body         1189\n",
      "home.dest     565\n",
      "dtype: int64\n"
     ]
    }
   ],
   "source": [
    "def count_null(ele):\n",
    "    null_ele = pd.isnull(ele)\n",
    "    null_true = titanic_survival[null_ele]\n",
    "    nr_null = len(null_true)\n",
    "    return nr_null\n",
    "column_null_count = titanic_survival.apply(count_null)\n",
    "print(column_null_count)"
   ]
  },
  {
   "cell_type": "markdown",
   "metadata": {},
   "source": [
    "###  Applying a Function to a Row\n",
    "    Description\n",
    "    \n",
    "- Create a function that returns the string \"minor\" if someone is under 18, \"adult\" if they are equal to or over 18, and \"unknown\" if their age is null.\n",
    "- Find the correct label for everyone in the titanic_survival dataframe."
   ]
  },
  {
   "cell_type": "code",
   "execution_count": 96,
   "metadata": {},
   "outputs": [],
   "source": [
    "def age_people(x):\n",
    "    row = x['age']\n",
    "    if pd.isnull(row):\n",
    "        return \"unknown\"\n",
    "    elif row < 18:\n",
    "        return \"minor\"\n",
    "    else:\n",
    "        return \"adult\"\n",
    "age_labels = titanic_survival.apply(age_people, axis=1)\n",
    "titanic_survival[\"age_labels\"] = age_labels"
   ]
  },
  {
   "cell_type": "markdown",
   "metadata": {},
   "source": [
    "### Calculating Survival Percentage by Age Group\n",
    "Now that we have age labels for everyone, let's make a pivot table to find the probability of survival for each age group.\n",
    "    \n",
    "    Description\n",
    "    \n",
    "- Create a pivot table that calculates the mean survival chance(\"survived\") for each age group (\"age_labels\") of the dataframe titanic_survival.\n",
    "- Assign the resulting Series object to age_group_survival."
   ]
  },
  {
   "cell_type": "code",
   "execution_count": 103,
   "metadata": {},
   "outputs": [
    {
     "name": "stdout",
     "output_type": "stream",
     "text": [
      "            survived\n",
      "age_labels          \n",
      "adult       0.387892\n",
      "minor       0.525974\n",
      "unknown     0.277567\n"
     ]
    }
   ],
   "source": [
    "age_group_survival = titanic_survival.pivot_table(index = \"age_labels\", values = \"survived\",aggfunc = np.mean)\n",
    "print(age_group_survival)"
   ]
  }
 ],
 "metadata": {
  "kernelspec": {
   "display_name": "Python 3",
   "language": "python",
   "name": "python3"
  },
  "language_info": {
   "codemirror_mode": {
    "name": "ipython",
    "version": 2
   },
   "file_extension": ".py",
   "mimetype": "text/x-python",
   "name": "python",
   "nbconvert_exporter": "python",
   "pygments_lexer": "ipython2",
   "version": "2.7.14"
  }
 },
 "nbformat": 4,
 "nbformat_minor": 2
}
